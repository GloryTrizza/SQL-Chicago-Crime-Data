{
  "cells": [
    {
      "cell_type": "markdown",
      "metadata": {
        "id": "view-in-github",
        "colab_type": "text"
      },
      "source": [
        "<a href=\"https://colab.research.google.com/github/GloryTrizza/SQL-Chicago-Crime-Data/blob/main/working_with_real_world_datasets.ipynb\" target=\"_parent\"><img src=\"https://colab.research.google.com/assets/colab-badge.svg\" alt=\"Open In Colab\"/></a>"
      ]
    },
    {
      "cell_type": "code",
      "execution_count": null,
      "metadata": {
        "id": "OtKElacEe2kr"
      },
      "outputs": [],
      "source": [
        "# Jovian Commit Essentials\n",
        "# Please retain and execute this cell without modifying the contents for `jovian.commit` to work\n",
        "!pip install jovian --upgrade -q\n",
        "import jovian\n",
        "jovian.set_project('working-with-real-world-datasets-using-sql-python-and-ibm-bd2-on-cloud')\n",
        "jovian.set_colab_id('1eirbsYS6W8qiDvm0c8UnU2huAbYhw25l')"
      ]
    },
    {
      "cell_type": "markdown",
      "metadata": {
        "id": "ia0yQhnZe2k1"
      },
      "source": [
        "<center>\n",
        "    <img src=\"https://s3-api.us-geo.objectstorage.softlayer.net/cf-courses-data/CognitiveClass/Logos/organization_logo/organization_logo.png\" width=\"700\" alt=\"cognitiveclass.ai logo\"  />\n",
        "</center>"
      ]
    },
    {
      "cell_type": "markdown",
      "metadata": {
        "id": "fkFFX8kFe2k5"
      },
      "source": [
        "# WORKING WITH REAL WORLD DATASETS USING SQL, PYTHON & IBM-Db2 ON CLOUD \n",
        "\n",
        "---\n",
        "\n",
        "**`Db2 on Cloud` is a `Relational Database Management System` others being my SQL, Oracle Database,SQL Server,Postgress SQL, HSQL, SQLite, DB2 Warehouse.Prior to running this notebook, create a database service instance of Db2 on Cloud and retrieve your database Service Credentials.**"
      ]
    },
    {
      "cell_type": "markdown",
      "metadata": {
        "id": "yKq0aRL4e2k6"
      },
      "source": [
        "# `Instructions`\n",
        "\n",
        "**You will be working on a real world dataset provided by the Chicago Data Portal. Imagine, you have been hired by a non-profit organization that strives to improve educational outcomes for children and youth in the City of Chicago. Your job is to analyze the census, crime, and school data for a given neighborhood or district. You will identify causes that impact the enrollment, safety, health, environment ratings of schools.You will be asked questions that will help you understand the data just like a data analyst or data scientist would.**\n",
        "\n",
        "`You will download the datasets, load them into a database, write and execute SQL queries to answer the problems provided`\n",
        "\n",
        "## `3 datasets for the city of Chicago obtained from the Chicago Data Portal:`\n",
        "1. **Chicago Socioeconomic Indicators**\n",
        "\n",
        "**This [dataset](https://data.cityofchicago.org/Health-Human-Services/Census-Data-Selected-socioeconomic-indicators-in-C/kn9c-c2s2?utm_medium=Exinfluencer&utm_source=Exinfluencer&utm_content=000026UJ&utm_term=10006555&utm_id=NA-SkillsNetwork-wwwcourseraorg-SkillsNetworkCoursesIBMDeveloperSkillsNetworkDB0201ENSkillsNetwork20127838-2021-01-01) contains a selection of six socioeconomic indicators of public health significance and a hardship index, by Chicago community area, for the years 2008 – 2012.**\n",
        "\n",
        "2. **Chicago Public Schools**\n",
        "\n",
        "**This [dataset](https://data.cityofchicago.org/Education/Chicago-Public-Schools-Progress-Report-Cards-2011-/9xs2-f89t?utm_medium=Exinfluencer&utm_source=Exinfluencer&utm_content=000026UJ&utm_term=10006555&utm_id=NA-SkillsNetwork-wwwcourseraorg-SkillsNetworkCoursesIBMDeveloperSkillsNetworkDB0201ENSkillsNetwork20127838-2021-01-01) shows all school level performance data used to create CPS School Report Cards for the 2011-2012 school year.**\n",
        "\n",
        "3. **Chicago Crime Data**\n",
        "\n",
        "**This [dataset](https://data.cityofchicago.org/Public-Safety/Crimes-2001-to-Present/ijzp-q8t2?utm_medium=Exinfluencer&utm_source=Exinfluencer&utm_content=000026UJ&utm_term=10006555&utm_id=NA-SkillsNetwork-wwwcourseraorg-SkillsNetworkCoursesIBMDeveloperSkillsNetworkDB0201ENSkillsNetwork20127838-2021-01-01) reflects reported incidents of crime (with the exception of murders where data exists for each victim) that occurred in the City of Chicago from 2001 to present, minus the most recent seven days.**\n",
        "\n",
        "**`NOTE`** \n",
        "\n",
        "**We used subsets of the original datasets and have some of the column names modified to be more database friendly which will make it easier to query. The CSV file used for the Chicago Crime Data is a very small subset of the full dataset available from the Chicago Data Portal. The original dataset is over 1.55GB in size and contains over 6.5 million rows. Due to some limitations with the IBM DB2 LITE plan, we will use a much smaller sample with only about 500 rows.**\n"
      ]
    },
    {
      "cell_type": "markdown",
      "metadata": {
        "id": "VN-azoRme2k-"
      },
      "source": [
        "## `TABLE OF CONTENT`\n",
        "\n",
        "1. **Connecting the database**\n",
        "2. **Checking the contents of the Tables loaded on the Db2 database**\n",
        "3. **Problems**"
      ]
    },
    {
      "cell_type": "markdown",
      "metadata": {
        "id": "pUpNiAaZe2k_"
      },
      "source": [
        "## `1.Connect to the database`\n",
        "\n",
        "---\n",
        "\n",
        "`SQL \"magic\" provided by the ipython-sql extension to communicate with SQL Databases from within a JupyterLab notebook helps to run the cell as SQL statements`\n",
        "\n",
        "**Let us now load the ipython-sql extension and establish a connection with the database**"
      ]
    },
    {
      "cell_type": "code",
      "execution_count": null,
      "metadata": {
        "id": "wfgqTi7re2lB",
        "outputId": "946c7814-be6e-43c0-adc0-ba9e328cde09"
      },
      "outputs": [
        {
          "name": "stdout",
          "output_type": "stream",
          "text": [
            "Requirement already satisfied: ipython-sql in /opt/conda/lib/python3.8/site-packages (0.4.0)\n",
            "Requirement already satisfied: sqlparse in /opt/conda/lib/python3.8/site-packages (from ipython-sql) (0.4.1)\n",
            "Requirement already satisfied: ipython-genutils>=0.1.0 in /opt/conda/lib/python3.8/site-packages (from ipython-sql) (0.2.0)\n",
            "Requirement already satisfied: prettytable<1 in /opt/conda/lib/python3.8/site-packages (from ipython-sql) (0.7.2)\n",
            "Requirement already satisfied: ipython>=1.0 in /opt/conda/lib/python3.8/site-packages (from ipython-sql) (7.18.1)\n",
            "Requirement already satisfied: sqlalchemy>=0.6.7 in /opt/conda/lib/python3.8/site-packages (from ipython-sql) (1.3.9)\n",
            "Requirement already satisfied: six in /opt/conda/lib/python3.8/site-packages (from ipython-sql) (1.15.0)\n",
            "Requirement already satisfied: traitlets>=4.2 in /opt/conda/lib/python3.8/site-packages (from ipython>=1.0->ipython-sql) (5.0.5)\n",
            "Requirement already satisfied: pickleshare in /opt/conda/lib/python3.8/site-packages (from ipython>=1.0->ipython-sql) (0.7.5)\n",
            "Requirement already satisfied: pexpect>4.3; sys_platform != \"win32\" in /opt/conda/lib/python3.8/site-packages (from ipython>=1.0->ipython-sql) (4.8.0)\n",
            "Requirement already satisfied: setuptools>=18.5 in /opt/conda/lib/python3.8/site-packages (from ipython>=1.0->ipython-sql) (49.6.0.post20201009)\n",
            "Requirement already satisfied: prompt-toolkit!=3.0.0,!=3.0.1,<3.1.0,>=2.0.0 in /opt/conda/lib/python3.8/site-packages (from ipython>=1.0->ipython-sql) (3.0.8)\n",
            "Requirement already satisfied: pygments in /opt/conda/lib/python3.8/site-packages (from ipython>=1.0->ipython-sql) (2.7.1)\n",
            "Requirement already satisfied: backcall in /opt/conda/lib/python3.8/site-packages (from ipython>=1.0->ipython-sql) (0.2.0)\n",
            "Requirement already satisfied: decorator in /opt/conda/lib/python3.8/site-packages (from ipython>=1.0->ipython-sql) (4.4.2)\n",
            "Requirement already satisfied: jedi>=0.10 in /opt/conda/lib/python3.8/site-packages (from ipython>=1.0->ipython-sql) (0.17.2)\n",
            "Requirement already satisfied: ptyprocess>=0.5 in /opt/conda/lib/python3.8/site-packages (from pexpect>4.3; sys_platform != \"win32\"->ipython>=1.0->ipython-sql) (0.6.0)\n",
            "Requirement already satisfied: wcwidth in /opt/conda/lib/python3.8/site-packages (from prompt-toolkit!=3.0.0,!=3.0.1,<3.1.0,>=2.0.0->ipython>=1.0->ipython-sql) (0.2.5)\n",
            "Requirement already satisfied: parso<0.8.0,>=0.7.0 in /opt/conda/lib/python3.8/site-packages (from jedi>=0.10->ipython>=1.0->ipython-sql) (0.7.1)\n",
            "Requirement already satisfied: sqlalchemy==1.3.9 in /opt/conda/lib/python3.8/site-packages (1.3.9)\n",
            "Requirement already satisfied: ibm_db in /opt/conda/lib/python3.8/site-packages (3.0.4)\n",
            "Requirement already satisfied: ibm_db_sa in /opt/conda/lib/python3.8/site-packages (0.3.6)\n",
            "Requirement already satisfied: sqlalchemy>=0.7.3 in /opt/conda/lib/python3.8/site-packages (from ibm_db_sa) (1.3.9)\n",
            "Requirement already satisfied: ibm-db>=2.0.0 in /opt/conda/lib/python3.8/site-packages (from ibm_db_sa) (3.0.4)\n"
          ]
        }
      ],
      "source": [
        "!pip install ipython-sql\n",
        "!pip install sqlalchemy==1.3.9 # database toolkit for python \n",
        "!pip install ibm_db\n",
        "!pip install ibm_db_sa # The IBM_DB_SA adapter provides the Python/SQLAlchemy interface to IBM Data Servers.\n",
        "\n",
        "\n",
        "import ibm_db\n",
        "import ibm_db_sa\n",
        "import sqlalchemy\n",
        "\n",
        "%load_ext sql"
      ]
    },
    {
      "cell_type": "code",
      "execution_count": null,
      "metadata": {
        "id": "ixZ5GC1Me2lF",
        "outputId": "8e18e35c-e6b1-405a-9b19-c469315479b3"
      },
      "outputs": [
        {
          "name": "stdout",
          "output_type": "stream",
          "text": [
            "DB2/LINUXX8664\n"
          ]
        }
      ],
      "source": [
        "%sql ibm_db_sa://zfr48905:pnc862bt%5E7vhf2zg@dashdb-txn-sbox-yp-lon02-02.services.eu-gb.bluemix.net:50000/BLUDB"
      ]
    },
    {
      "cell_type": "code",
      "execution_count": null,
      "metadata": {
        "id": "6W_aKya3e2lG"
      },
      "outputs": [],
      "source": [
        "import matplotlib.pyplot as plt\n",
        "%matplotlib inline\n",
        "import seaborn as sns"
      ]
    },
    {
      "cell_type": "markdown",
      "metadata": {
        "id": "bV2KnPTpe2lI"
      },
      "source": [
        "**If you face any error while imorting the libraries, install the libraries first and then import.**"
      ]
    },
    {
      "cell_type": "markdown",
      "metadata": {
        "id": "S9mP0Ooae2lJ"
      },
      "source": [
        "---"
      ]
    },
    {
      "cell_type": "markdown",
      "metadata": {
        "id": "3tEUUgPje2lK"
      },
      "source": [
        "## `2. WALK THROUGH THE TABLES CONTENT`"
      ]
    },
    {
      "cell_type": "markdown",
      "metadata": {
        "id": "6ed7EyGte2lK"
      },
      "source": [
        "##### The CHICAGO_CRIME_DATA table contains a large number of columns. How many columns does this table have?"
      ]
    },
    {
      "cell_type": "code",
      "execution_count": null,
      "metadata": {
        "id": "8U16Jwcre2lL",
        "outputId": "ef6a7f1a-ebca-4325-dd8a-1c05cd79b460"
      },
      "outputs": [
        {
          "name": "stdout",
          "output_type": "stream",
          "text": [
            " * ibm_db_sa://zfr48905:***@dashdb-txn-sbox-yp-lon02-02.services.eu-gb.bluemix.net:50000/BLUDB\n",
            "Done.\n"
          ]
        },
        {
          "data": {
            "text/html": [
              "<table>\n",
              "    <tr>\n",
              "        <th>1</th>\n",
              "    </tr>\n",
              "    <tr>\n",
              "        <td>21</td>\n",
              "    </tr>\n",
              "</table>"
            ],
            "text/plain": [
              "[(Decimal('21'),)]"
            ]
          },
          "execution_count": 4,
          "metadata": {},
          "output_type": "execute_result"
        }
      ],
      "source": [
        "%sql select count(*) from SYSCAT.COLUMNS where TABNAME = 'CHICAGO_CRIME_DATA'"
      ]
    },
    {
      "cell_type": "code",
      "execution_count": null,
      "metadata": {
        "id": "A9Ar2SLXe2lM",
        "outputId": "82ce926a-ffec-4a6c-8009-02b55de08a1d"
      },
      "outputs": [
        {
          "name": "stdout",
          "output_type": "stream",
          "text": [
            " * ibm_db_sa://zfr48905:***@dashdb-txn-sbox-yp-lon02-02.services.eu-gb.bluemix.net:50000/BLUDB\n",
            "Done.\n"
          ]
        },
        {
          "data": {
            "text/html": [
              "<table>\n",
              "    <tr>\n",
              "        <th>name</th>\n",
              "        <th>coltype</th>\n",
              "        <th>length</th>\n",
              "    </tr>\n",
              "    <tr>\n",
              "        <td>ARREST</td>\n",
              "        <td>VARCHAR </td>\n",
              "        <td>5</td>\n",
              "    </tr>\n",
              "    <tr>\n",
              "        <td>BEAT</td>\n",
              "        <td>SMALLINT</td>\n",
              "        <td>2</td>\n",
              "    </tr>\n",
              "    <tr>\n",
              "        <td>BLOCK</td>\n",
              "        <td>VARCHAR </td>\n",
              "        <td>35</td>\n",
              "    </tr>\n",
              "    <tr>\n",
              "        <td>CASE_NUMBER</td>\n",
              "        <td>VARCHAR </td>\n",
              "        <td>8</td>\n",
              "    </tr>\n",
              "    <tr>\n",
              "        <td>COMMUNITY_AREA_NUMBER</td>\n",
              "        <td>SMALLINT</td>\n",
              "        <td>2</td>\n",
              "    </tr>\n",
              "    <tr>\n",
              "        <td>DATE</td>\n",
              "        <td>DATE    </td>\n",
              "        <td>4</td>\n",
              "    </tr>\n",
              "    <tr>\n",
              "        <td>DESCRIPTION</td>\n",
              "        <td>VARCHAR </td>\n",
              "        <td>46</td>\n",
              "    </tr>\n",
              "    <tr>\n",
              "        <td>DISTRICT</td>\n",
              "        <td>SMALLINT</td>\n",
              "        <td>2</td>\n",
              "    </tr>\n",
              "    <tr>\n",
              "        <td>DOMESTIC</td>\n",
              "        <td>VARCHAR </td>\n",
              "        <td>5</td>\n",
              "    </tr>\n",
              "    <tr>\n",
              "        <td>FBICODE</td>\n",
              "        <td>VARCHAR </td>\n",
              "        <td>3</td>\n",
              "    </tr>\n",
              "    <tr>\n",
              "        <td>ID</td>\n",
              "        <td>INTEGER </td>\n",
              "        <td>4</td>\n",
              "    </tr>\n",
              "    <tr>\n",
              "        <td>IUCR</td>\n",
              "        <td>VARCHAR </td>\n",
              "        <td>4</td>\n",
              "    </tr>\n",
              "    <tr>\n",
              "        <td>LATITUDE</td>\n",
              "        <td>DECIMAL </td>\n",
              "        <td>18</td>\n",
              "    </tr>\n",
              "    <tr>\n",
              "        <td>LOCATION</td>\n",
              "        <td>VARCHAR </td>\n",
              "        <td>29</td>\n",
              "    </tr>\n",
              "    <tr>\n",
              "        <td>LOCATION_DESCRIPTION</td>\n",
              "        <td>VARCHAR </td>\n",
              "        <td>33</td>\n",
              "    </tr>\n",
              "    <tr>\n",
              "        <td>LONGITUDE</td>\n",
              "        <td>DECIMAL </td>\n",
              "        <td>18</td>\n",
              "    </tr>\n",
              "    <tr>\n",
              "        <td>PRIMARY_TYPE</td>\n",
              "        <td>VARCHAR </td>\n",
              "        <td>33</td>\n",
              "    </tr>\n",
              "    <tr>\n",
              "        <td>WARD</td>\n",
              "        <td>SMALLINT</td>\n",
              "        <td>2</td>\n",
              "    </tr>\n",
              "    <tr>\n",
              "        <td>X_COORDINATE</td>\n",
              "        <td>INTEGER </td>\n",
              "        <td>4</td>\n",
              "    </tr>\n",
              "    <tr>\n",
              "        <td>YEAR</td>\n",
              "        <td>SMALLINT</td>\n",
              "        <td>2</td>\n",
              "    </tr>\n",
              "    <tr>\n",
              "        <td>Y_COORDINATE</td>\n",
              "        <td>INTEGER </td>\n",
              "        <td>4</td>\n",
              "    </tr>\n",
              "</table>"
            ],
            "text/plain": [
              "[('ARREST', 'VARCHAR ', 5),\n",
              " ('BEAT', 'SMALLINT', 2),\n",
              " ('BLOCK', 'VARCHAR ', 35),\n",
              " ('CASE_NUMBER', 'VARCHAR ', 8),\n",
              " ('COMMUNITY_AREA_NUMBER', 'SMALLINT', 2),\n",
              " ('DATE', 'DATE    ', 4),\n",
              " ('DESCRIPTION', 'VARCHAR ', 46),\n",
              " ('DISTRICT', 'SMALLINT', 2),\n",
              " ('DOMESTIC', 'VARCHAR ', 5),\n",
              " ('FBICODE', 'VARCHAR ', 3),\n",
              " ('ID', 'INTEGER ', 4),\n",
              " ('IUCR', 'VARCHAR ', 4),\n",
              " ('LATITUDE', 'DECIMAL ', 18),\n",
              " ('LOCATION', 'VARCHAR ', 29),\n",
              " ('LOCATION_DESCRIPTION', 'VARCHAR ', 33),\n",
              " ('LONGITUDE', 'DECIMAL ', 18),\n",
              " ('PRIMARY_TYPE', 'VARCHAR ', 33),\n",
              " ('WARD', 'SMALLINT', 2),\n",
              " ('X_COORDINATE', 'INTEGER ', 4),\n",
              " ('YEAR', 'SMALLINT', 2),\n",
              " ('Y_COORDINATE', 'INTEGER ', 4)]"
            ]
          },
          "execution_count": 5,
          "metadata": {},
          "output_type": "execute_result"
        }
      ],
      "source": [
        "%sql select distinct(NAME), COLTYPE, LENGTH from SYSIBM.SYSCOLUMNS where TBNAME = 'CHICAGO_CRIME_DATA'"
      ]
    },
    {
      "cell_type": "code",
      "execution_count": null,
      "metadata": {
        "id": "3RUEY355e2lN",
        "outputId": "af9e45a8-8ed7-4b93-875e-0805b2fccc22"
      },
      "outputs": [
        {
          "name": "stdout",
          "output_type": "stream",
          "text": [
            " * ibm_db_sa://zfr48905:***@dashdb-txn-sbox-yp-lon02-02.services.eu-gb.bluemix.net:50000/BLUDB\n",
            "Done.\n"
          ]
        },
        {
          "data": {
            "text/html": [
              "<table>\n",
              "    <tr>\n",
              "        <th>id</th>\n",
              "        <th>case_number</th>\n",
              "        <th>DATE</th>\n",
              "        <th>block</th>\n",
              "        <th>iucr</th>\n",
              "        <th>primary_type</th>\n",
              "        <th>description</th>\n",
              "        <th>location_description</th>\n",
              "        <th>arrest</th>\n",
              "        <th>domestic</th>\n",
              "        <th>beat</th>\n",
              "        <th>district</th>\n",
              "        <th>ward</th>\n",
              "        <th>community_area_number</th>\n",
              "        <th>fbicode</th>\n",
              "        <th>x_coordinate</th>\n",
              "        <th>y_coordinate</th>\n",
              "        <th>YEAR</th>\n",
              "        <th>latitude</th>\n",
              "        <th>longitude</th>\n",
              "        <th>location</th>\n",
              "    </tr>\n",
              "    <tr>\n",
              "        <td>3512276</td>\n",
              "        <td>HK587712</td>\n",
              "        <td>2004-08-28</td>\n",
              "        <td>047XX S KEDZIE AVE</td>\n",
              "        <td>890</td>\n",
              "        <td>THEFT</td>\n",
              "        <td>FROM BUILDING</td>\n",
              "        <td>SMALL RETAIL STORE</td>\n",
              "        <td>FALSE</td>\n",
              "        <td>FALSE</td>\n",
              "        <td>911</td>\n",
              "        <td>9</td>\n",
              "        <td>14</td>\n",
              "        <td>58</td>\n",
              "        <td>6</td>\n",
              "        <td>1155838</td>\n",
              "        <td>1873050</td>\n",
              "        <td>2004</td>\n",
              "        <td>41.80744050</td>\n",
              "        <td>-87.70395585</td>\n",
              "        <td>(41.8074405, -87.703955849)</td>\n",
              "    </tr>\n",
              "    <tr>\n",
              "        <td>3406613</td>\n",
              "        <td>HK456306</td>\n",
              "        <td>2004-06-26</td>\n",
              "        <td>009XX N CENTRAL PARK AVE</td>\n",
              "        <td>820</td>\n",
              "        <td>THEFT</td>\n",
              "        <td>$500 AND UNDER</td>\n",
              "        <td>OTHER</td>\n",
              "        <td>FALSE</td>\n",
              "        <td>FALSE</td>\n",
              "        <td>1112</td>\n",
              "        <td>11</td>\n",
              "        <td>27</td>\n",
              "        <td>23</td>\n",
              "        <td>6</td>\n",
              "        <td>1152206</td>\n",
              "        <td>1906127</td>\n",
              "        <td>2004</td>\n",
              "        <td>41.89827996</td>\n",
              "        <td>-87.71640551</td>\n",
              "        <td>(41.898279962, -87.716405505)</td>\n",
              "    </tr>\n",
              "    <tr>\n",
              "        <td>8002131</td>\n",
              "        <td>HT233595</td>\n",
              "        <td>2011-04-04</td>\n",
              "        <td>043XX S WABASH AVE</td>\n",
              "        <td>820</td>\n",
              "        <td>THEFT</td>\n",
              "        <td>$500 AND UNDER</td>\n",
              "        <td>NURSING HOME/RETIREMENT HOME</td>\n",
              "        <td>FALSE</td>\n",
              "        <td>FALSE</td>\n",
              "        <td>221</td>\n",
              "        <td>2</td>\n",
              "        <td>3</td>\n",
              "        <td>38</td>\n",
              "        <td>6</td>\n",
              "        <td>1177436</td>\n",
              "        <td>1876313</td>\n",
              "        <td>2011</td>\n",
              "        <td>41.81593313</td>\n",
              "        <td>-87.62464213</td>\n",
              "        <td>(41.815933131, -87.624642127)</td>\n",
              "    </tr>\n",
              "    <tr>\n",
              "        <td>7903289</td>\n",
              "        <td>HT133522</td>\n",
              "        <td>2010-12-30</td>\n",
              "        <td>083XX S KINGSTON AVE</td>\n",
              "        <td>840</td>\n",
              "        <td>THEFT</td>\n",
              "        <td>FINANCIAL ID THEFT: OVER $300</td>\n",
              "        <td>RESIDENCE</td>\n",
              "        <td>FALSE</td>\n",
              "        <td>FALSE</td>\n",
              "        <td>423</td>\n",
              "        <td>4</td>\n",
              "        <td>7</td>\n",
              "        <td>46</td>\n",
              "        <td>6</td>\n",
              "        <td>1194622</td>\n",
              "        <td>1850125</td>\n",
              "        <td>2010</td>\n",
              "        <td>41.74366532</td>\n",
              "        <td>-87.56246276</td>\n",
              "        <td>(41.743665322, -87.562462756)</td>\n",
              "    </tr>\n",
              "    <tr>\n",
              "        <td>10402076</td>\n",
              "        <td>HZ138551</td>\n",
              "        <td>2016-02-02</td>\n",
              "        <td>033XX W 66TH ST</td>\n",
              "        <td>820</td>\n",
              "        <td>THEFT</td>\n",
              "        <td>$500 AND UNDER</td>\n",
              "        <td>ALLEY</td>\n",
              "        <td>FALSE</td>\n",
              "        <td>FALSE</td>\n",
              "        <td>831</td>\n",
              "        <td>8</td>\n",
              "        <td>15</td>\n",
              "        <td>66</td>\n",
              "        <td>6</td>\n",
              "        <td>1155240</td>\n",
              "        <td>1860661</td>\n",
              "        <td>2016</td>\n",
              "        <td>41.77345530</td>\n",
              "        <td>-87.70648047</td>\n",
              "        <td>(41.773455295, -87.706480471)</td>\n",
              "    </tr>\n",
              "</table>"
            ],
            "text/plain": [
              "[(3512276, 'HK587712', datetime.date(2004, 8, 28), '047XX S KEDZIE AVE', '890', 'THEFT', 'FROM BUILDING', 'SMALL RETAIL STORE', 'FALSE', 'FALSE', 911, 9, 14, 58, '6', 1155838, 1873050, 2004, Decimal('41.80744050'), Decimal('-87.70395585'), '(41.8074405, -87.703955849)'),\n",
              " (3406613, 'HK456306', datetime.date(2004, 6, 26), '009XX N CENTRAL PARK AVE', '820', 'THEFT', '$500 AND UNDER', 'OTHER', 'FALSE', 'FALSE', 1112, 11, 27, 23, '6', 1152206, 1906127, 2004, Decimal('41.89827996'), Decimal('-87.71640551'), '(41.898279962, -87.716405505)'),\n",
              " (8002131, 'HT233595', datetime.date(2011, 4, 4), '043XX S WABASH AVE', '820', 'THEFT', '$500 AND UNDER', 'NURSING HOME/RETIREMENT HOME', 'FALSE', 'FALSE', 221, 2, 3, 38, '6', 1177436, 1876313, 2011, Decimal('41.81593313'), Decimal('-87.62464213'), '(41.815933131, -87.624642127)'),\n",
              " (7903289, 'HT133522', datetime.date(2010, 12, 30), '083XX S KINGSTON AVE', '840', 'THEFT', 'FINANCIAL ID THEFT: OVER $300', 'RESIDENCE', 'FALSE', 'FALSE', 423, 4, 7, 46, '6', 1194622, 1850125, 2010, Decimal('41.74366532'), Decimal('-87.56246276'), '(41.743665322, -87.562462756)'),\n",
              " (10402076, 'HZ138551', datetime.date(2016, 2, 2), '033XX W 66TH ST', '820', 'THEFT', '$500 AND UNDER', 'ALLEY', 'FALSE', 'FALSE', 831, 8, 15, 66, '6', 1155240, 1860661, 2016, Decimal('41.77345530'), Decimal('-87.70648047'), '(41.773455295, -87.706480471)')]"
            ]
          },
          "execution_count": 6,
          "metadata": {},
          "output_type": "execute_result"
        }
      ],
      "source": [
        "%sql select * FROM CHICAGO_CRIME_DATA LIMIT 5"
      ]
    },
    {
      "cell_type": "markdown",
      "metadata": {
        "id": "jN7rQk4Ae2lO"
      },
      "source": [
        "##### The CHICAGO_PUBLIC_SCHOOLS table contains a large number of columns. How many columns does this table have?"
      ]
    },
    {
      "cell_type": "code",
      "execution_count": null,
      "metadata": {
        "id": "YAA5iIh9e2lP",
        "outputId": "98ccf351-6417-441f-e1ce-3b3d4cec6548"
      },
      "outputs": [
        {
          "name": "stdout",
          "output_type": "stream",
          "text": [
            " * ibm_db_sa://zfr48905:***@dashdb-txn-sbox-yp-lon02-02.services.eu-gb.bluemix.net:50000/BLUDB\n",
            "Done.\n"
          ]
        },
        {
          "data": {
            "text/html": [
              "<table>\n",
              "    <tr>\n",
              "        <th>1</th>\n",
              "    </tr>\n",
              "    <tr>\n",
              "        <td>78</td>\n",
              "    </tr>\n",
              "</table>"
            ],
            "text/plain": [
              "[(Decimal('78'),)]"
            ]
          },
          "execution_count": 7,
          "metadata": {},
          "output_type": "execute_result"
        }
      ],
      "source": [
        "%sql select count(*) from SYSCAT.COLUMNS where TABNAME = 'CHICAGO_PUBLIC_SCHOOLS'"
      ]
    },
    {
      "cell_type": "code",
      "execution_count": null,
      "metadata": {
        "id": "a-UDZpmBe2lP",
        "outputId": "49ce68a5-4c05-497b-d7de-823eb56210b3"
      },
      "outputs": [
        {
          "name": "stdout",
          "output_type": "stream",
          "text": [
            " * ibm_db_sa://zfr48905:***@dashdb-txn-sbox-yp-lon02-02.services.eu-gb.bluemix.net:50000/BLUDB\n",
            "Done.\n"
          ]
        },
        {
          "data": {
            "text/html": [
              "<table>\n",
              "    <tr>\n",
              "        <th>name</th>\n",
              "        <th>coltype</th>\n",
              "        <th>length</th>\n",
              "    </tr>\n",
              "    <tr>\n",
              "        <td>10th Grade PLAN (2009)</td>\n",
              "        <td>VARCHAR </td>\n",
              "        <td>4</td>\n",
              "    </tr>\n",
              "    <tr>\n",
              "        <td>10th Grade PLAN (2010)</td>\n",
              "        <td>VARCHAR </td>\n",
              "        <td>4</td>\n",
              "    </tr>\n",
              "    <tr>\n",
              "        <td>11th Grade Average ACT (2011)</td>\n",
              "        <td>VARCHAR </td>\n",
              "        <td>4</td>\n",
              "    </tr>\n",
              "    <tr>\n",
              "        <td>9th Grade EXPLORE (2009)</td>\n",
              "        <td>VARCHAR </td>\n",
              "        <td>4</td>\n",
              "    </tr>\n",
              "    <tr>\n",
              "        <td>9th Grade EXPLORE (2010)</td>\n",
              "        <td>VARCHAR </td>\n",
              "        <td>4</td>\n",
              "    </tr>\n",
              "    <tr>\n",
              "        <td>AVERAGE_STUDENT_ATTENDANCE</td>\n",
              "        <td>VARCHAR </td>\n",
              "        <td>6</td>\n",
              "    </tr>\n",
              "    <tr>\n",
              "        <td>Adequate_Yearly_Progress_Made_</td>\n",
              "        <td>VARCHAR </td>\n",
              "        <td>3</td>\n",
              "    </tr>\n",
              "    <tr>\n",
              "        <td>Average_Teacher_Attendance</td>\n",
              "        <td>VARCHAR </td>\n",
              "        <td>6</td>\n",
              "    </tr>\n",
              "    <tr>\n",
              "        <td>COLLEGE_ENROLLMENT</td>\n",
              "        <td>SMALLINT</td>\n",
              "        <td>2</td>\n",
              "    </tr>\n",
              "    <tr>\n",
              "        <td>COMMUNITY_AREA_NAME</td>\n",
              "        <td>VARCHAR </td>\n",
              "        <td>22</td>\n",
              "    </tr>\n",
              "    <tr>\n",
              "        <td>COMMUNITY_AREA_NUMBER</td>\n",
              "        <td>SMALLINT</td>\n",
              "        <td>2</td>\n",
              "    </tr>\n",
              "    <tr>\n",
              "        <td>CPS_Performance_Policy_Level</td>\n",
              "        <td>VARCHAR </td>\n",
              "        <td>15</td>\n",
              "    </tr>\n",
              "    <tr>\n",
              "        <td>CPS_Performance_Policy_Status</td>\n",
              "        <td>VARCHAR </td>\n",
              "        <td>16</td>\n",
              "    </tr>\n",
              "    <tr>\n",
              "        <td>City</td>\n",
              "        <td>VARCHAR </td>\n",
              "        <td>7</td>\n",
              "    </tr>\n",
              "    <tr>\n",
              "        <td>Collaborative_Name</td>\n",
              "        <td>VARCHAR </td>\n",
              "        <td>34</td>\n",
              "    </tr>\n",
              "    <tr>\n",
              "        <td>College_Eligibility__</td>\n",
              "        <td>VARCHAR </td>\n",
              "        <td>4</td>\n",
              "    </tr>\n",
              "    <tr>\n",
              "        <td>College_Enrollment_Rate__</td>\n",
              "        <td>VARCHAR </td>\n",
              "        <td>4</td>\n",
              "    </tr>\n",
              "    <tr>\n",
              "        <td>Elementary, Middle, or High School</td>\n",
              "        <td>VARCHAR </td>\n",
              "        <td>2</td>\n",
              "    </tr>\n",
              "    <tr>\n",
              "        <td>Environment_Icon</td>\n",
              "        <td>VARCHAR </td>\n",
              "        <td>11</td>\n",
              "    </tr>\n",
              "    <tr>\n",
              "        <td>Environment_Score</td>\n",
              "        <td>SMALLINT</td>\n",
              "        <td>2</td>\n",
              "    </tr>\n",
              "    <tr>\n",
              "        <td>Family_Involvement_Icon</td>\n",
              "        <td>VARCHAR </td>\n",
              "        <td>11</td>\n",
              "    </tr>\n",
              "    <tr>\n",
              "        <td>Family_Involvement_Score</td>\n",
              "        <td>VARCHAR </td>\n",
              "        <td>3</td>\n",
              "    </tr>\n",
              "    <tr>\n",
              "        <td>Freshman_on_Track_Rate__</td>\n",
              "        <td>VARCHAR </td>\n",
              "        <td>4</td>\n",
              "    </tr>\n",
              "    <tr>\n",
              "        <td>General_Services_Route</td>\n",
              "        <td>SMALLINT</td>\n",
              "        <td>2</td>\n",
              "    </tr>\n",
              "    <tr>\n",
              "        <td>Gr3_5_Grade_Level_Math__</td>\n",
              "        <td>VARCHAR </td>\n",
              "        <td>4</td>\n",
              "    </tr>\n",
              "    <tr>\n",
              "        <td>Gr3_5_Grade_Level_Read__</td>\n",
              "        <td>VARCHAR </td>\n",
              "        <td>4</td>\n",
              "    </tr>\n",
              "    <tr>\n",
              "        <td>Gr3_5_Keep_Pace_Math__</td>\n",
              "        <td>VARCHAR </td>\n",
              "        <td>4</td>\n",
              "    </tr>\n",
              "    <tr>\n",
              "        <td>Gr3_5_Keep_Pace_Read__</td>\n",
              "        <td>VARCHAR </td>\n",
              "        <td>4</td>\n",
              "    </tr>\n",
              "    <tr>\n",
              "        <td>Gr6_8_Grade_Level_Math__</td>\n",
              "        <td>VARCHAR </td>\n",
              "        <td>4</td>\n",
              "    </tr>\n",
              "    <tr>\n",
              "        <td>Gr6_8_Grade_Level_Read__</td>\n",
              "        <td>VARCHAR </td>\n",
              "        <td>4</td>\n",
              "    </tr>\n",
              "    <tr>\n",
              "        <td>Gr6_8_Keep_Pace_Math_</td>\n",
              "        <td>VARCHAR </td>\n",
              "        <td>4</td>\n",
              "    </tr>\n",
              "    <tr>\n",
              "        <td>Gr6_8_Keep_Pace_Read__</td>\n",
              "        <td>VARCHAR </td>\n",
              "        <td>4</td>\n",
              "    </tr>\n",
              "    <tr>\n",
              "        <td>Gr_8_Explore_Math__</td>\n",
              "        <td>VARCHAR </td>\n",
              "        <td>4</td>\n",
              "    </tr>\n",
              "    <tr>\n",
              "        <td>Gr_8_Explore_Read__</td>\n",
              "        <td>VARCHAR </td>\n",
              "        <td>4</td>\n",
              "    </tr>\n",
              "    <tr>\n",
              "        <td>Graduation_Rate__</td>\n",
              "        <td>VARCHAR </td>\n",
              "        <td>4</td>\n",
              "    </tr>\n",
              "    <tr>\n",
              "        <td>HEALTHY_SCHOOL_CERTIFIED</td>\n",
              "        <td>VARCHAR </td>\n",
              "        <td>3</td>\n",
              "    </tr>\n",
              "    <tr>\n",
              "        <td>ISAT_Exceeding_Math__</td>\n",
              "        <td>DECIMAL </td>\n",
              "        <td>5</td>\n",
              "    </tr>\n",
              "    <tr>\n",
              "        <td>ISAT_Exceeding_Reading__</td>\n",
              "        <td>DECIMAL </td>\n",
              "        <td>5</td>\n",
              "    </tr>\n",
              "    <tr>\n",
              "        <td>ISAT_Value_Add_Color_Math</td>\n",
              "        <td>VARCHAR </td>\n",
              "        <td>6</td>\n",
              "    </tr>\n",
              "    <tr>\n",
              "        <td>ISAT_Value_Add_Color_Read</td>\n",
              "        <td>VARCHAR </td>\n",
              "        <td>6</td>\n",
              "    </tr>\n",
              "    <tr>\n",
              "        <td>ISAT_Value_Add_Math</td>\n",
              "        <td>DECIMAL </td>\n",
              "        <td>3</td>\n",
              "    </tr>\n",
              "    <tr>\n",
              "        <td>ISAT_Value_Add_Read</td>\n",
              "        <td>DECIMAL </td>\n",
              "        <td>3</td>\n",
              "    </tr>\n",
              "    <tr>\n",
              "        <td>Individualized_Education_Program_Compliance_Rate</td>\n",
              "        <td>VARCHAR </td>\n",
              "        <td>7</td>\n",
              "    </tr>\n",
              "    <tr>\n",
              "        <td>Instruction_Icon</td>\n",
              "        <td>VARCHAR </td>\n",
              "        <td>11</td>\n",
              "    </tr>\n",
              "    <tr>\n",
              "        <td>Instruction_Score</td>\n",
              "        <td>SMALLINT</td>\n",
              "        <td>2</td>\n",
              "    </tr>\n",
              "    <tr>\n",
              "        <td>Latitude</td>\n",
              "        <td>DECIMAL </td>\n",
              "        <td>18</td>\n",
              "    </tr>\n",
              "    <tr>\n",
              "        <td>Leaders_Icon</td>\n",
              "        <td>VARCHAR </td>\n",
              "        <td>4</td>\n",
              "    </tr>\n",
              "    <tr>\n",
              "        <td>Leaders_Score</td>\n",
              "        <td>VARCHAR </td>\n",
              "        <td>3</td>\n",
              "    </tr>\n",
              "    <tr>\n",
              "        <td>Link</td>\n",
              "        <td>VARCHAR </td>\n",
              "        <td>78</td>\n",
              "    </tr>\n",
              "    <tr>\n",
              "        <td>Location</td>\n",
              "        <td>VARCHAR </td>\n",
              "        <td>27</td>\n",
              "    </tr>\n",
              "    <tr>\n",
              "        <td>Longitude</td>\n",
              "        <td>DECIMAL </td>\n",
              "        <td>18</td>\n",
              "    </tr>\n",
              "    <tr>\n",
              "        <td>NAME_OF_SCHOOL</td>\n",
              "        <td>VARCHAR </td>\n",
              "        <td>65</td>\n",
              "    </tr>\n",
              "    <tr>\n",
              "        <td>Net_Change_EXPLORE_and_PLAN</td>\n",
              "        <td>VARCHAR </td>\n",
              "        <td>3</td>\n",
              "    </tr>\n",
              "    <tr>\n",
              "        <td>Net_Change_PLAN_and_ACT</td>\n",
              "        <td>VARCHAR </td>\n",
              "        <td>3</td>\n",
              "    </tr>\n",
              "    <tr>\n",
              "        <td>Network_Manager</td>\n",
              "        <td>VARCHAR </td>\n",
              "        <td>40</td>\n",
              "    </tr>\n",
              "    <tr>\n",
              "        <td>Parent_Engagement_Icon</td>\n",
              "        <td>VARCHAR </td>\n",
              "        <td>7</td>\n",
              "    </tr>\n",
              "    <tr>\n",
              "        <td>Parent_Engagement_Score</td>\n",
              "        <td>VARCHAR </td>\n",
              "        <td>3</td>\n",
              "    </tr>\n",
              "    <tr>\n",
              "        <td>Parent_Environment_Icon</td>\n",
              "        <td>VARCHAR </td>\n",
              "        <td>7</td>\n",
              "    </tr>\n",
              "    <tr>\n",
              "        <td>Parent_Environment_Score</td>\n",
              "        <td>VARCHAR </td>\n",
              "        <td>3</td>\n",
              "    </tr>\n",
              "    <tr>\n",
              "        <td>Phone_Number</td>\n",
              "        <td>VARCHAR </td>\n",
              "        <td>14</td>\n",
              "    </tr>\n",
              "    <tr>\n",
              "        <td>Pk_2_Literacy__</td>\n",
              "        <td>VARCHAR </td>\n",
              "        <td>4</td>\n",
              "    </tr>\n",
              "    <tr>\n",
              "        <td>Pk_2_Math__</td>\n",
              "        <td>VARCHAR </td>\n",
              "        <td>4</td>\n",
              "    </tr>\n",
              "    <tr>\n",
              "        <td>Police_District</td>\n",
              "        <td>SMALLINT</td>\n",
              "        <td>2</td>\n",
              "    </tr>\n",
              "    <tr>\n",
              "        <td>Rate_of_Misconducts__per_100_students_</td>\n",
              "        <td>DECIMAL </td>\n",
              "        <td>5</td>\n",
              "    </tr>\n",
              "    <tr>\n",
              "        <td>SAFETY_SCORE</td>\n",
              "        <td>SMALLINT</td>\n",
              "        <td>2</td>\n",
              "    </tr>\n",
              "    <tr>\n",
              "        <td>Safety_Icon</td>\n",
              "        <td>VARCHAR </td>\n",
              "        <td>11</td>\n",
              "    </tr>\n",
              "    <tr>\n",
              "        <td>School_ID</td>\n",
              "        <td>INTEGER </td>\n",
              "        <td>4</td>\n",
              "    </tr>\n",
              "    <tr>\n",
              "        <td>State</td>\n",
              "        <td>VARCHAR </td>\n",
              "        <td>2</td>\n",
              "    </tr>\n",
              "    <tr>\n",
              "        <td>Street_Address</td>\n",
              "        <td>VARCHAR </td>\n",
              "        <td>29</td>\n",
              "    </tr>\n",
              "    <tr>\n",
              "        <td>Students_Passing__Algebra__</td>\n",
              "        <td>VARCHAR </td>\n",
              "        <td>4</td>\n",
              "    </tr>\n",
              "    <tr>\n",
              "        <td>Students_Taking__Algebra__</td>\n",
              "        <td>VARCHAR </td>\n",
              "        <td>4</td>\n",
              "    </tr>\n",
              "    <tr>\n",
              "        <td>Teachers_Icon</td>\n",
              "        <td>VARCHAR </td>\n",
              "        <td>11</td>\n",
              "    </tr>\n",
              "    <tr>\n",
              "        <td>Teachers_Score</td>\n",
              "        <td>VARCHAR </td>\n",
              "        <td>3</td>\n",
              "    </tr>\n",
              "    <tr>\n",
              "        <td>Track_Schedule</td>\n",
              "        <td>VARCHAR </td>\n",
              "        <td>12</td>\n",
              "    </tr>\n",
              "    <tr>\n",
              "        <td>Ward</td>\n",
              "        <td>SMALLINT</td>\n",
              "        <td>2</td>\n",
              "    </tr>\n",
              "    <tr>\n",
              "        <td>X_COORDINATE</td>\n",
              "        <td>DECIMAL </td>\n",
              "        <td>13</td>\n",
              "    </tr>\n",
              "    <tr>\n",
              "        <td>Y_COORDINATE</td>\n",
              "        <td>DECIMAL </td>\n",
              "        <td>13</td>\n",
              "    </tr>\n",
              "    <tr>\n",
              "        <td>ZIP_Code</td>\n",
              "        <td>INTEGER </td>\n",
              "        <td>4</td>\n",
              "    </tr>\n",
              "</table>"
            ],
            "text/plain": [
              "[('10th Grade PLAN (2009)', 'VARCHAR ', 4),\n",
              " ('10th Grade PLAN (2010)', 'VARCHAR ', 4),\n",
              " ('11th Grade Average ACT (2011)', 'VARCHAR ', 4),\n",
              " ('9th Grade EXPLORE (2009)', 'VARCHAR ', 4),\n",
              " ('9th Grade EXPLORE (2010)', 'VARCHAR ', 4),\n",
              " ('AVERAGE_STUDENT_ATTENDANCE', 'VARCHAR ', 6),\n",
              " ('Adequate_Yearly_Progress_Made_', 'VARCHAR ', 3),\n",
              " ('Average_Teacher_Attendance', 'VARCHAR ', 6),\n",
              " ('COLLEGE_ENROLLMENT', 'SMALLINT', 2),\n",
              " ('COMMUNITY_AREA_NAME', 'VARCHAR ', 22),\n",
              " ('COMMUNITY_AREA_NUMBER', 'SMALLINT', 2),\n",
              " ('CPS_Performance_Policy_Level', 'VARCHAR ', 15),\n",
              " ('CPS_Performance_Policy_Status', 'VARCHAR ', 16),\n",
              " ('City', 'VARCHAR ', 7),\n",
              " ('Collaborative_Name', 'VARCHAR ', 34),\n",
              " ('College_Eligibility__', 'VARCHAR ', 4),\n",
              " ('College_Enrollment_Rate__', 'VARCHAR ', 4),\n",
              " ('Elementary, Middle, or High School', 'VARCHAR ', 2),\n",
              " ('Environment_Icon', 'VARCHAR ', 11),\n",
              " ('Environment_Score', 'SMALLINT', 2),\n",
              " ('Family_Involvement_Icon', 'VARCHAR ', 11),\n",
              " ('Family_Involvement_Score', 'VARCHAR ', 3),\n",
              " ('Freshman_on_Track_Rate__', 'VARCHAR ', 4),\n",
              " ('General_Services_Route', 'SMALLINT', 2),\n",
              " ('Gr3_5_Grade_Level_Math__', 'VARCHAR ', 4),\n",
              " ('Gr3_5_Grade_Level_Read__', 'VARCHAR ', 4),\n",
              " ('Gr3_5_Keep_Pace_Math__', 'VARCHAR ', 4),\n",
              " ('Gr3_5_Keep_Pace_Read__', 'VARCHAR ', 4),\n",
              " ('Gr6_8_Grade_Level_Math__', 'VARCHAR ', 4),\n",
              " ('Gr6_8_Grade_Level_Read__', 'VARCHAR ', 4),\n",
              " ('Gr6_8_Keep_Pace_Math_', 'VARCHAR ', 4),\n",
              " ('Gr6_8_Keep_Pace_Read__', 'VARCHAR ', 4),\n",
              " ('Gr_8_Explore_Math__', 'VARCHAR ', 4),\n",
              " ('Gr_8_Explore_Read__', 'VARCHAR ', 4),\n",
              " ('Graduation_Rate__', 'VARCHAR ', 4),\n",
              " ('HEALTHY_SCHOOL_CERTIFIED', 'VARCHAR ', 3),\n",
              " ('ISAT_Exceeding_Math__', 'DECIMAL ', 5),\n",
              " ('ISAT_Exceeding_Reading__', 'DECIMAL ', 5),\n",
              " ('ISAT_Value_Add_Color_Math', 'VARCHAR ', 6),\n",
              " ('ISAT_Value_Add_Color_Read', 'VARCHAR ', 6),\n",
              " ('ISAT_Value_Add_Math', 'DECIMAL ', 3),\n",
              " ('ISAT_Value_Add_Read', 'DECIMAL ', 3),\n",
              " ('Individualized_Education_Program_Compliance_Rate', 'VARCHAR ', 7),\n",
              " ('Instruction_Icon', 'VARCHAR ', 11),\n",
              " ('Instruction_Score', 'SMALLINT', 2),\n",
              " ('Latitude', 'DECIMAL ', 18),\n",
              " ('Leaders_Icon', 'VARCHAR ', 4),\n",
              " ('Leaders_Score', 'VARCHAR ', 3),\n",
              " ('Link', 'VARCHAR ', 78),\n",
              " ('Location', 'VARCHAR ', 27),\n",
              " ('Longitude', 'DECIMAL ', 18),\n",
              " ('NAME_OF_SCHOOL', 'VARCHAR ', 65),\n",
              " ('Net_Change_EXPLORE_and_PLAN', 'VARCHAR ', 3),\n",
              " ('Net_Change_PLAN_and_ACT', 'VARCHAR ', 3),\n",
              " ('Network_Manager', 'VARCHAR ', 40),\n",
              " ('Parent_Engagement_Icon', 'VARCHAR ', 7),\n",
              " ('Parent_Engagement_Score', 'VARCHAR ', 3),\n",
              " ('Parent_Environment_Icon', 'VARCHAR ', 7),\n",
              " ('Parent_Environment_Score', 'VARCHAR ', 3),\n",
              " ('Phone_Number', 'VARCHAR ', 14),\n",
              " ('Pk_2_Literacy__', 'VARCHAR ', 4),\n",
              " ('Pk_2_Math__', 'VARCHAR ', 4),\n",
              " ('Police_District', 'SMALLINT', 2),\n",
              " ('Rate_of_Misconducts__per_100_students_', 'DECIMAL ', 5),\n",
              " ('SAFETY_SCORE', 'SMALLINT', 2),\n",
              " ('Safety_Icon', 'VARCHAR ', 11),\n",
              " ('School_ID', 'INTEGER ', 4),\n",
              " ('State', 'VARCHAR ', 2),\n",
              " ('Street_Address', 'VARCHAR ', 29),\n",
              " ('Students_Passing__Algebra__', 'VARCHAR ', 4),\n",
              " ('Students_Taking__Algebra__', 'VARCHAR ', 4),\n",
              " ('Teachers_Icon', 'VARCHAR ', 11),\n",
              " ('Teachers_Score', 'VARCHAR ', 3),\n",
              " ('Track_Schedule', 'VARCHAR ', 12),\n",
              " ('Ward', 'SMALLINT', 2),\n",
              " ('X_COORDINATE', 'DECIMAL ', 13),\n",
              " ('Y_COORDINATE', 'DECIMAL ', 13),\n",
              " ('ZIP_Code', 'INTEGER ', 4)]"
            ]
          },
          "execution_count": 8,
          "metadata": {},
          "output_type": "execute_result"
        }
      ],
      "source": [
        "%sql select distinct(NAME), COLTYPE, LENGTH from SYSIBM.SYSCOLUMNS where TBNAME = 'CHICAGO_PUBLIC_SCHOOLS'"
      ]
    },
    {
      "cell_type": "code",
      "execution_count": null,
      "metadata": {
        "id": "ux7lLx4he2lQ",
        "outputId": "aa24d4ac-1f3c-4741-ae21-6ccfee6760e1"
      },
      "outputs": [
        {
          "name": "stdout",
          "output_type": "stream",
          "text": [
            " * ibm_db_sa://zfr48905:***@dashdb-txn-sbox-yp-lon02-02.services.eu-gb.bluemix.net:50000/BLUDB\n",
            "Done.\n"
          ]
        },
        {
          "data": {
            "text/html": [
              "<table>\n",
              "    <tr>\n",
              "        <th>School_ID</th>\n",
              "        <th>name_of_school</th>\n",
              "        <th>Elementary, Middle, or High School</th>\n",
              "        <th>Street_Address</th>\n",
              "        <th>City</th>\n",
              "        <th>State</th>\n",
              "        <th>ZIP_Code</th>\n",
              "        <th>Phone_Number</th>\n",
              "        <th>Link</th>\n",
              "        <th>Network_Manager</th>\n",
              "        <th>Collaborative_Name</th>\n",
              "        <th>Adequate_Yearly_Progress_Made_</th>\n",
              "        <th>Track_Schedule</th>\n",
              "        <th>CPS_Performance_Policy_Status</th>\n",
              "        <th>CPS_Performance_Policy_Level</th>\n",
              "        <th>healthy_school_certified</th>\n",
              "        <th>Safety_Icon</th>\n",
              "        <th>safety_score</th>\n",
              "        <th>Family_Involvement_Icon</th>\n",
              "        <th>Family_Involvement_Score</th>\n",
              "        <th>Environment_Icon</th>\n",
              "        <th>Environment_Score</th>\n",
              "        <th>Instruction_Icon</th>\n",
              "        <th>Instruction_Score</th>\n",
              "        <th>Leaders_Icon</th>\n",
              "        <th>Leaders_Score</th>\n",
              "        <th>Teachers_Icon</th>\n",
              "        <th>Teachers_Score</th>\n",
              "        <th>Parent_Engagement_Icon</th>\n",
              "        <th>Parent_Engagement_Score</th>\n",
              "        <th>Parent_Environment_Icon</th>\n",
              "        <th>Parent_Environment_Score</th>\n",
              "        <th>average_student_attendance</th>\n",
              "        <th>Rate_of_Misconducts__per_100_students_</th>\n",
              "        <th>Average_Teacher_Attendance</th>\n",
              "        <th>Individualized_Education_Program_Compliance_Rate</th>\n",
              "        <th>Pk_2_Literacy__</th>\n",
              "        <th>Pk_2_Math__</th>\n",
              "        <th>Gr3_5_Grade_Level_Math__</th>\n",
              "        <th>Gr3_5_Grade_Level_Read__</th>\n",
              "        <th>Gr3_5_Keep_Pace_Read__</th>\n",
              "        <th>Gr3_5_Keep_Pace_Math__</th>\n",
              "        <th>Gr6_8_Grade_Level_Math__</th>\n",
              "        <th>Gr6_8_Grade_Level_Read__</th>\n",
              "        <th>Gr6_8_Keep_Pace_Math_</th>\n",
              "        <th>Gr6_8_Keep_Pace_Read__</th>\n",
              "        <th>Gr_8_Explore_Math__</th>\n",
              "        <th>Gr_8_Explore_Read__</th>\n",
              "        <th>ISAT_Exceeding_Math__</th>\n",
              "        <th>ISAT_Exceeding_Reading__</th>\n",
              "        <th>ISAT_Value_Add_Math</th>\n",
              "        <th>ISAT_Value_Add_Read</th>\n",
              "        <th>ISAT_Value_Add_Color_Math</th>\n",
              "        <th>ISAT_Value_Add_Color_Read</th>\n",
              "        <th>Students_Taking__Algebra__</th>\n",
              "        <th>Students_Passing__Algebra__</th>\n",
              "        <th>9th Grade EXPLORE (2009)</th>\n",
              "        <th>9th Grade EXPLORE (2010)</th>\n",
              "        <th>10th Grade PLAN (2009)</th>\n",
              "        <th>10th Grade PLAN (2010)</th>\n",
              "        <th>Net_Change_EXPLORE_and_PLAN</th>\n",
              "        <th>11th Grade Average ACT (2011)</th>\n",
              "        <th>Net_Change_PLAN_and_ACT</th>\n",
              "        <th>College_Eligibility__</th>\n",
              "        <th>Graduation_Rate__</th>\n",
              "        <th>College_Enrollment_Rate__</th>\n",
              "        <th>college_enrollment</th>\n",
              "        <th>General_Services_Route</th>\n",
              "        <th>Freshman_on_Track_Rate__</th>\n",
              "        <th>x_coordinate</th>\n",
              "        <th>y_coordinate</th>\n",
              "        <th>Latitude</th>\n",
              "        <th>Longitude</th>\n",
              "        <th>community_area_number</th>\n",
              "        <th>community_area_name</th>\n",
              "        <th>Ward</th>\n",
              "        <th>Police_District</th>\n",
              "        <th>Location</th>\n",
              "    </tr>\n",
              "    <tr>\n",
              "        <td>610038</td>\n",
              "        <td>Abraham Lincoln Elementary School</td>\n",
              "        <td>ES</td>\n",
              "        <td>615 W Kemper Pl</td>\n",
              "        <td>Chicago</td>\n",
              "        <td>IL</td>\n",
              "        <td>60614</td>\n",
              "        <td>(773) 534-5720</td>\n",
              "        <td>http://schoolreports.cps.edu/SchoolProgressReport_Eng/Spring2011Eng_610038.pdf</td>\n",
              "        <td>Fullerton Elementary Network</td>\n",
              "        <td>NORTH-NORTHWEST SIDE COLLABORATIVE</td>\n",
              "        <td>No</td>\n",
              "        <td>Standard</td>\n",
              "        <td>Not on Probation</td>\n",
              "        <td>Level 1</td>\n",
              "        <td>Yes</td>\n",
              "        <td>Very Strong</td>\n",
              "        <td>99</td>\n",
              "        <td>Very Strong</td>\n",
              "        <td>99</td>\n",
              "        <td>Strong</td>\n",
              "        <td>74</td>\n",
              "        <td>Strong</td>\n",
              "        <td>66</td>\n",
              "        <td>Weak</td>\n",
              "        <td>65</td>\n",
              "        <td>Strong</td>\n",
              "        <td>70</td>\n",
              "        <td>Strong</td>\n",
              "        <td>56</td>\n",
              "        <td>Average</td>\n",
              "        <td>47</td>\n",
              "        <td>96.00%</td>\n",
              "        <td>2.0</td>\n",
              "        <td>96.40%</td>\n",
              "        <td>95.80%</td>\n",
              "        <td>80.1</td>\n",
              "        <td>43.3</td>\n",
              "        <td>89.6</td>\n",
              "        <td>84.9</td>\n",
              "        <td>60.7</td>\n",
              "        <td>62.6</td>\n",
              "        <td>81.9</td>\n",
              "        <td>85.2</td>\n",
              "        <td>52</td>\n",
              "        <td>62.4</td>\n",
              "        <td>66.3</td>\n",
              "        <td>77.9</td>\n",
              "        <td>69.7</td>\n",
              "        <td>64.4</td>\n",
              "        <td>0.2</td>\n",
              "        <td>0.9</td>\n",
              "        <td>Yellow</td>\n",
              "        <td>Green</td>\n",
              "        <td>67.1</td>\n",
              "        <td>54.5</td>\n",
              "        <td>NDA</td>\n",
              "        <td>NDA</td>\n",
              "        <td>NDA</td>\n",
              "        <td>NDA</td>\n",
              "        <td>NDA</td>\n",
              "        <td>NDA</td>\n",
              "        <td>NDA</td>\n",
              "        <td>NDA</td>\n",
              "        <td>NDA</td>\n",
              "        <td>NDA</td>\n",
              "        <td>813</td>\n",
              "        <td>33</td>\n",
              "        <td>NDA</td>\n",
              "        <td>1171699.458</td>\n",
              "        <td>1915829.428</td>\n",
              "        <td>41.92449696</td>\n",
              "        <td>-87.64452163</td>\n",
              "        <td>7</td>\n",
              "        <td>LINCOLN PARK</td>\n",
              "        <td>43</td>\n",
              "        <td>18</td>\n",
              "        <td>(41.92449696, -87.64452163)</td>\n",
              "    </tr>\n",
              "    <tr>\n",
              "        <td>610281</td>\n",
              "        <td>Adam Clayton Powell Paideia Community Academy Elementary School</td>\n",
              "        <td>ES</td>\n",
              "        <td>7511 S South Shore Dr</td>\n",
              "        <td>Chicago</td>\n",
              "        <td>IL</td>\n",
              "        <td>60649</td>\n",
              "        <td>(773) 535-6650</td>\n",
              "        <td>http://schoolreports.cps.edu/SchoolProgressReport_Eng/Spring2011Eng_610281.pdf</td>\n",
              "        <td>Skyway Elementary Network</td>\n",
              "        <td>SOUTH SIDE COLLABORATIVE</td>\n",
              "        <td>No</td>\n",
              "        <td>Track_E</td>\n",
              "        <td>Not on Probation</td>\n",
              "        <td>Level 1</td>\n",
              "        <td>No</td>\n",
              "        <td>Average</td>\n",
              "        <td>54</td>\n",
              "        <td>Strong</td>\n",
              "        <td>66</td>\n",
              "        <td>Strong</td>\n",
              "        <td>74</td>\n",
              "        <td>Very Strong</td>\n",
              "        <td>84</td>\n",
              "        <td>Weak</td>\n",
              "        <td>63</td>\n",
              "        <td>Strong</td>\n",
              "        <td>76</td>\n",
              "        <td>Weak</td>\n",
              "        <td>46</td>\n",
              "        <td>Average</td>\n",
              "        <td>50</td>\n",
              "        <td>95.60%</td>\n",
              "        <td>15.7</td>\n",
              "        <td>95.30%</td>\n",
              "        <td>100.00%</td>\n",
              "        <td>62.4</td>\n",
              "        <td>51.7</td>\n",
              "        <td>21.9</td>\n",
              "        <td>15.1</td>\n",
              "        <td>29</td>\n",
              "        <td>42.8</td>\n",
              "        <td>38.5</td>\n",
              "        <td>27.4</td>\n",
              "        <td>44.8</td>\n",
              "        <td>42.7</td>\n",
              "        <td>14.1</td>\n",
              "        <td>34.4</td>\n",
              "        <td>16.8</td>\n",
              "        <td>16.5</td>\n",
              "        <td>0.7</td>\n",
              "        <td>1.4</td>\n",
              "        <td>Green</td>\n",
              "        <td>Green</td>\n",
              "        <td>17.2</td>\n",
              "        <td>27.3</td>\n",
              "        <td>NDA</td>\n",
              "        <td>NDA</td>\n",
              "        <td>NDA</td>\n",
              "        <td>NDA</td>\n",
              "        <td>NDA</td>\n",
              "        <td>NDA</td>\n",
              "        <td>NDA</td>\n",
              "        <td>NDA</td>\n",
              "        <td>NDA</td>\n",
              "        <td>NDA</td>\n",
              "        <td>521</td>\n",
              "        <td>46</td>\n",
              "        <td>NDA</td>\n",
              "        <td>1196129.985</td>\n",
              "        <td>1856209.466</td>\n",
              "        <td>41.76032435</td>\n",
              "        <td>-87.55673627</td>\n",
              "        <td>43</td>\n",
              "        <td>SOUTH SHORE</td>\n",
              "        <td>7</td>\n",
              "        <td>4</td>\n",
              "        <td>(41.76032435, -87.55673627)</td>\n",
              "    </tr>\n",
              "    <tr>\n",
              "        <td>610185</td>\n",
              "        <td>Adlai E Stevenson Elementary School</td>\n",
              "        <td>ES</td>\n",
              "        <td>8010 S Kostner Ave</td>\n",
              "        <td>Chicago</td>\n",
              "        <td>IL</td>\n",
              "        <td>60652</td>\n",
              "        <td>(773) 535-2280</td>\n",
              "        <td>http://schoolreports.cps.edu/SchoolProgressReport_Eng/Spring2011Eng_610185.pdf</td>\n",
              "        <td>Midway Elementary Network</td>\n",
              "        <td>SOUTHWEST SIDE COLLABORATIVE</td>\n",
              "        <td>No</td>\n",
              "        <td>Standard</td>\n",
              "        <td>Not on Probation</td>\n",
              "        <td>Level 2</td>\n",
              "        <td>No</td>\n",
              "        <td>Strong</td>\n",
              "        <td>61</td>\n",
              "        <td>NDA</td>\n",
              "        <td>NDA</td>\n",
              "        <td>Average</td>\n",
              "        <td>50</td>\n",
              "        <td>Weak</td>\n",
              "        <td>36</td>\n",
              "        <td>Weak</td>\n",
              "        <td>NDA</td>\n",
              "        <td>NDA</td>\n",
              "        <td>NDA</td>\n",
              "        <td>Average</td>\n",
              "        <td>47</td>\n",
              "        <td>Weak</td>\n",
              "        <td>41</td>\n",
              "        <td>95.70%</td>\n",
              "        <td>2.3</td>\n",
              "        <td>94.70%</td>\n",
              "        <td>98.30%</td>\n",
              "        <td>53.7</td>\n",
              "        <td>26.6</td>\n",
              "        <td>38.3</td>\n",
              "        <td>34.7</td>\n",
              "        <td>43.7</td>\n",
              "        <td>57.3</td>\n",
              "        <td>48.8</td>\n",
              "        <td>39.2</td>\n",
              "        <td>46.8</td>\n",
              "        <td>44</td>\n",
              "        <td>7.5</td>\n",
              "        <td>21.9</td>\n",
              "        <td>18.3</td>\n",
              "        <td>15.5</td>\n",
              "        <td>-0.9</td>\n",
              "        <td>-1.0</td>\n",
              "        <td>Red</td>\n",
              "        <td>Red</td>\n",
              "        <td>NDA</td>\n",
              "        <td>NDA</td>\n",
              "        <td>NDA</td>\n",
              "        <td>NDA</td>\n",
              "        <td>NDA</td>\n",
              "        <td>NDA</td>\n",
              "        <td>NDA</td>\n",
              "        <td>NDA</td>\n",
              "        <td>NDA</td>\n",
              "        <td>NDA</td>\n",
              "        <td>NDA</td>\n",
              "        <td>NDA</td>\n",
              "        <td>1324</td>\n",
              "        <td>44</td>\n",
              "        <td>NDA</td>\n",
              "        <td>1148427.165</td>\n",
              "        <td>1851012.215</td>\n",
              "        <td>41.74711093</td>\n",
              "        <td>-87.73170248</td>\n",
              "        <td>70</td>\n",
              "        <td>ASHBURN</td>\n",
              "        <td>13</td>\n",
              "        <td>8</td>\n",
              "        <td>(41.74711093, -87.73170248)</td>\n",
              "    </tr>\n",
              "    <tr>\n",
              "        <td>609993</td>\n",
              "        <td>Agustin Lara Elementary Academy</td>\n",
              "        <td>ES</td>\n",
              "        <td>4619 S Wolcott Ave</td>\n",
              "        <td>Chicago</td>\n",
              "        <td>IL</td>\n",
              "        <td>60609</td>\n",
              "        <td>(773) 535-4389</td>\n",
              "        <td>http://schoolreports.cps.edu/SchoolProgressReport_Eng/Spring2011Eng_609993.pdf</td>\n",
              "        <td>Pershing Elementary Network</td>\n",
              "        <td>SOUTHWEST SIDE COLLABORATIVE</td>\n",
              "        <td>No</td>\n",
              "        <td>Track_E</td>\n",
              "        <td>Not on Probation</td>\n",
              "        <td>Level 1</td>\n",
              "        <td>No</td>\n",
              "        <td>Average</td>\n",
              "        <td>56</td>\n",
              "        <td>Average</td>\n",
              "        <td>44</td>\n",
              "        <td>Average</td>\n",
              "        <td>45</td>\n",
              "        <td>Weak</td>\n",
              "        <td>37</td>\n",
              "        <td>Weak</td>\n",
              "        <td>65</td>\n",
              "        <td>Average</td>\n",
              "        <td>48</td>\n",
              "        <td>Average</td>\n",
              "        <td>53</td>\n",
              "        <td>Strong</td>\n",
              "        <td>58</td>\n",
              "        <td>95.50%</td>\n",
              "        <td>10.4</td>\n",
              "        <td>95.80%</td>\n",
              "        <td>100.00%</td>\n",
              "        <td>76.9</td>\n",
              "        <td>NDA</td>\n",
              "        <td>26</td>\n",
              "        <td>24.7</td>\n",
              "        <td>61.8</td>\n",
              "        <td>49.7</td>\n",
              "        <td>39.2</td>\n",
              "        <td>27.2</td>\n",
              "        <td>69.7</td>\n",
              "        <td>60.6</td>\n",
              "        <td>9.1</td>\n",
              "        <td>18.2</td>\n",
              "        <td>11.1</td>\n",
              "        <td>9.6</td>\n",
              "        <td>0.9</td>\n",
              "        <td>2.4</td>\n",
              "        <td>Green</td>\n",
              "        <td>Green</td>\n",
              "        <td>42.9</td>\n",
              "        <td>25</td>\n",
              "        <td>NDA</td>\n",
              "        <td>NDA</td>\n",
              "        <td>NDA</td>\n",
              "        <td>NDA</td>\n",
              "        <td>NDA</td>\n",
              "        <td>NDA</td>\n",
              "        <td>NDA</td>\n",
              "        <td>NDA</td>\n",
              "        <td>NDA</td>\n",
              "        <td>NDA</td>\n",
              "        <td>556</td>\n",
              "        <td>42</td>\n",
              "        <td>NDA</td>\n",
              "        <td>1164504.290</td>\n",
              "        <td>1873959.199</td>\n",
              "        <td>41.80975690</td>\n",
              "        <td>-87.67214460</td>\n",
              "        <td>61</td>\n",
              "        <td>NEW CITY</td>\n",
              "        <td>20</td>\n",
              "        <td>9</td>\n",
              "        <td>(41.8097569, -87.6721446)</td>\n",
              "    </tr>\n",
              "    <tr>\n",
              "        <td>610513</td>\n",
              "        <td>Air Force Academy High School</td>\n",
              "        <td>HS</td>\n",
              "        <td>3630 S Wells St</td>\n",
              "        <td>Chicago</td>\n",
              "        <td>IL</td>\n",
              "        <td>60609</td>\n",
              "        <td>(773) 535-1590</td>\n",
              "        <td>http://schoolreports.cps.edu/SchoolProgressReport_Eng/Spring2011Eng_610513.pdf</td>\n",
              "        <td>Southwest Side High School Network</td>\n",
              "        <td>SOUTHWEST SIDE COLLABORATIVE</td>\n",
              "        <td>NDA</td>\n",
              "        <td>Standard</td>\n",
              "        <td>Not on Probation</td>\n",
              "        <td>Not Enough Data</td>\n",
              "        <td>Yes</td>\n",
              "        <td>Average</td>\n",
              "        <td>49</td>\n",
              "        <td>Strong</td>\n",
              "        <td>60</td>\n",
              "        <td>Strong</td>\n",
              "        <td>60</td>\n",
              "        <td>Average</td>\n",
              "        <td>55</td>\n",
              "        <td>Weak</td>\n",
              "        <td>45</td>\n",
              "        <td>Average</td>\n",
              "        <td>54</td>\n",
              "        <td>Average</td>\n",
              "        <td>53</td>\n",
              "        <td>Average</td>\n",
              "        <td>49</td>\n",
              "        <td>93.30%</td>\n",
              "        <td>15.6</td>\n",
              "        <td>96.90%</td>\n",
              "        <td>100.00%</td>\n",
              "        <td>NDA</td>\n",
              "        <td>NDA</td>\n",
              "        <td>NDA</td>\n",
              "        <td>NDA</td>\n",
              "        <td>NDA</td>\n",
              "        <td>NDA</td>\n",
              "        <td>NDA</td>\n",
              "        <td>NDA</td>\n",
              "        <td>NDA</td>\n",
              "        <td>NDA</td>\n",
              "        <td>NDA</td>\n",
              "        <td>NDA</td>\n",
              "        <td>None</td>\n",
              "        <td>None</td>\n",
              "        <td>None</td>\n",
              "        <td>None</td>\n",
              "        <td>NDA</td>\n",
              "        <td>NDA</td>\n",
              "        <td>NDA</td>\n",
              "        <td>NDA</td>\n",
              "        <td>14.6</td>\n",
              "        <td>14.8</td>\n",
              "        <td>NDA</td>\n",
              "        <td>16</td>\n",
              "        <td>1.4</td>\n",
              "        <td>NDA</td>\n",
              "        <td>NDA</td>\n",
              "        <td>NDA</td>\n",
              "        <td>NDA</td>\n",
              "        <td>NDA</td>\n",
              "        <td>302</td>\n",
              "        <td>40</td>\n",
              "        <td>91.8</td>\n",
              "        <td>1175177.622</td>\n",
              "        <td>1880745.126</td>\n",
              "        <td>41.82814609</td>\n",
              "        <td>-87.63279369</td>\n",
              "        <td>34</td>\n",
              "        <td>ARMOUR SQUARE</td>\n",
              "        <td>11</td>\n",
              "        <td>9</td>\n",
              "        <td>(41.82814609, -87.63279369)</td>\n",
              "    </tr>\n",
              "</table>"
            ],
            "text/plain": [
              "[(610038, 'Abraham Lincoln Elementary School', 'ES', '615 W Kemper Pl', 'Chicago', 'IL', 60614, '(773) 534-5720', 'http://schoolreports.cps.edu/SchoolProgressReport_Eng/Spring2011Eng_610038.pdf', 'Fullerton Elementary Network', 'NORTH-NORTHWEST SIDE COLLABORATIVE', 'No', 'Standard', 'Not on Probation', 'Level 1', 'Yes', 'Very Strong', 99, 'Very Strong', '99', 'Strong', 74, 'Strong', 66, 'Weak', '65', 'Strong', '70', 'Strong', '56', 'Average', '47', '96.00%', Decimal('2.0'), '96.40%', '95.80%', '80.1', '43.3', '89.6', '84.9', '60.7', '62.6', '81.9', '85.2', '52', '62.4', '66.3', '77.9', Decimal('69.7'), Decimal('64.4'), Decimal('0.2'), Decimal('0.9'), 'Yellow', 'Green', '67.1', '54.5', 'NDA', 'NDA', 'NDA', 'NDA', 'NDA', 'NDA', 'NDA', 'NDA', 'NDA', 'NDA', 813, 33, 'NDA', Decimal('1171699.458'), Decimal('1915829.428'), Decimal('41.92449696'), Decimal('-87.64452163'), 7, 'LINCOLN PARK', 43, 18, '(41.92449696, -87.64452163)'),\n",
              " (610281, 'Adam Clayton Powell Paideia Community Academy Elementary School', 'ES', '7511 S South Shore Dr', 'Chicago', 'IL', 60649, '(773) 535-6650', 'http://schoolreports.cps.edu/SchoolProgressReport_Eng/Spring2011Eng_610281.pdf', 'Skyway Elementary Network', 'SOUTH SIDE COLLABORATIVE', 'No', 'Track_E', 'Not on Probation', 'Level 1', 'No', 'Average', 54, 'Strong', '66', 'Strong', 74, 'Very Strong', 84, 'Weak', '63', 'Strong', '76', 'Weak', '46', 'Average', '50', '95.60%', Decimal('15.7'), '95.30%', '100.00%', '62.4', '51.7', '21.9', '15.1', '29', '42.8', '38.5', '27.4', '44.8', '42.7', '14.1', '34.4', Decimal('16.8'), Decimal('16.5'), Decimal('0.7'), Decimal('1.4'), 'Green', 'Green', '17.2', '27.3', 'NDA', 'NDA', 'NDA', 'NDA', 'NDA', 'NDA', 'NDA', 'NDA', 'NDA', 'NDA', 521, 46, 'NDA', Decimal('1196129.985'), Decimal('1856209.466'), Decimal('41.76032435'), Decimal('-87.55673627'), 43, 'SOUTH SHORE', 7, 4, '(41.76032435, -87.55673627)'),\n",
              " (610185, 'Adlai E Stevenson Elementary School', 'ES', '8010 S Kostner Ave', 'Chicago', 'IL', 60652, '(773) 535-2280', 'http://schoolreports.cps.edu/SchoolProgressReport_Eng/Spring2011Eng_610185.pdf', 'Midway Elementary Network', 'SOUTHWEST SIDE COLLABORATIVE', 'No', 'Standard', 'Not on Probation', 'Level 2', 'No', 'Strong', 61, 'NDA', 'NDA', 'Average', 50, 'Weak', 36, 'Weak', 'NDA', 'NDA', 'NDA', 'Average', '47', 'Weak', '41', '95.70%', Decimal('2.3'), '94.70%', '98.30%', '53.7', '26.6', '38.3', '34.7', '43.7', '57.3', '48.8', '39.2', '46.8', '44', '7.5', '21.9', Decimal('18.3'), Decimal('15.5'), Decimal('-0.9'), Decimal('-1.0'), 'Red', 'Red', 'NDA', 'NDA', 'NDA', 'NDA', 'NDA', 'NDA', 'NDA', 'NDA', 'NDA', 'NDA', 'NDA', 'NDA', 1324, 44, 'NDA', Decimal('1148427.165'), Decimal('1851012.215'), Decimal('41.74711093'), Decimal('-87.73170248'), 70, 'ASHBURN', 13, 8, '(41.74711093, -87.73170248)'),\n",
              " (609993, 'Agustin Lara Elementary Academy', 'ES', '4619 S Wolcott Ave', 'Chicago', 'IL', 60609, '(773) 535-4389', 'http://schoolreports.cps.edu/SchoolProgressReport_Eng/Spring2011Eng_609993.pdf', 'Pershing Elementary Network', 'SOUTHWEST SIDE COLLABORATIVE', 'No', 'Track_E', 'Not on Probation', 'Level 1', 'No', 'Average', 56, 'Average', '44', 'Average', 45, 'Weak', 37, 'Weak', '65', 'Average', '48', 'Average', '53', 'Strong', '58', '95.50%', Decimal('10.4'), '95.80%', '100.00%', '76.9', 'NDA', '26', '24.7', '61.8', '49.7', '39.2', '27.2', '69.7', '60.6', '9.1', '18.2', Decimal('11.1'), Decimal('9.6'), Decimal('0.9'), Decimal('2.4'), 'Green', 'Green', '42.9', '25', 'NDA', 'NDA', 'NDA', 'NDA', 'NDA', 'NDA', 'NDA', 'NDA', 'NDA', 'NDA', 556, 42, 'NDA', Decimal('1164504.290'), Decimal('1873959.199'), Decimal('41.80975690'), Decimal('-87.67214460'), 61, 'NEW CITY', 20, 9, '(41.8097569, -87.6721446)'),\n",
              " (610513, 'Air Force Academy High School', 'HS', '3630 S Wells St', 'Chicago', 'IL', 60609, '(773) 535-1590', 'http://schoolreports.cps.edu/SchoolProgressReport_Eng/Spring2011Eng_610513.pdf', 'Southwest Side High School Network', 'SOUTHWEST SIDE COLLABORATIVE', 'NDA', 'Standard', 'Not on Probation', 'Not Enough Data', 'Yes', 'Average', 49, 'Strong', '60', 'Strong', 60, 'Average', 55, 'Weak', '45', 'Average', '54', 'Average', '53', 'Average', '49', '93.30%', Decimal('15.6'), '96.90%', '100.00%', 'NDA', 'NDA', 'NDA', 'NDA', 'NDA', 'NDA', 'NDA', 'NDA', 'NDA', 'NDA', 'NDA', 'NDA', None, None, None, None, 'NDA', 'NDA', 'NDA', 'NDA', '14.6', '14.8', 'NDA', '16', '1.4', 'NDA', 'NDA', 'NDA', 'NDA', 'NDA', 302, 40, '91.8', Decimal('1175177.622'), Decimal('1880745.126'), Decimal('41.82814609'), Decimal('-87.63279369'), 34, 'ARMOUR SQUARE', 11, 9, '(41.82814609, -87.63279369)')]"
            ]
          },
          "execution_count": 9,
          "metadata": {},
          "output_type": "execute_result"
        }
      ],
      "source": [
        "%sql select * FROM CHICAGO_PUBLIC_SCHOOLS LIMIT 5"
      ]
    },
    {
      "cell_type": "markdown",
      "metadata": {
        "id": "x1R5hAx-e2lQ"
      },
      "source": [
        "##### The CENSUS_DATA table contains a large number of columns. How many columns does this table have?"
      ]
    },
    {
      "cell_type": "code",
      "execution_count": null,
      "metadata": {
        "id": "xyHKlbV-e2lR",
        "outputId": "514a7f34-63d8-40af-acd3-51f28129fa45"
      },
      "outputs": [
        {
          "name": "stdout",
          "output_type": "stream",
          "text": [
            " * ibm_db_sa://zfr48905:***@dashdb-txn-sbox-yp-lon02-02.services.eu-gb.bluemix.net:50000/BLUDB\n",
            "Done.\n"
          ]
        },
        {
          "data": {
            "text/html": [
              "<table>\n",
              "    <tr>\n",
              "        <th>1</th>\n",
              "    </tr>\n",
              "    <tr>\n",
              "        <td>9</td>\n",
              "    </tr>\n",
              "</table>"
            ],
            "text/plain": [
              "[(Decimal('9'),)]"
            ]
          },
          "execution_count": 10,
          "metadata": {},
          "output_type": "execute_result"
        }
      ],
      "source": [
        "%sql select count(*) from SYSCAT.COLUMNS where TABNAME = 'CENSUS_DATA'"
      ]
    },
    {
      "cell_type": "code",
      "execution_count": null,
      "metadata": {
        "id": "lQLZEaGLe2lR",
        "outputId": "640ee05c-62ea-43b1-bdf7-ec59a3014c7f"
      },
      "outputs": [
        {
          "name": "stdout",
          "output_type": "stream",
          "text": [
            " * ibm_db_sa://zfr48905:***@dashdb-txn-sbox-yp-lon02-02.services.eu-gb.bluemix.net:50000/BLUDB\n",
            "Done.\n"
          ]
        },
        {
          "data": {
            "text/html": [
              "<table>\n",
              "    <tr>\n",
              "        <th>name</th>\n",
              "        <th>coltype</th>\n",
              "        <th>length</th>\n",
              "    </tr>\n",
              "    <tr>\n",
              "        <td>COMMUNITY_AREA_NAME</td>\n",
              "        <td>VARCHAR </td>\n",
              "        <td>22</td>\n",
              "    </tr>\n",
              "    <tr>\n",
              "        <td>COMMUNITY_AREA_NUMBER</td>\n",
              "        <td>SMALLINT</td>\n",
              "        <td>2</td>\n",
              "    </tr>\n",
              "    <tr>\n",
              "        <td>HARDSHIP_INDEX</td>\n",
              "        <td>SMALLINT</td>\n",
              "        <td>2</td>\n",
              "    </tr>\n",
              "    <tr>\n",
              "        <td>PERCENT_AGED_16__UNEMPLOYED</td>\n",
              "        <td>DECIMAL </td>\n",
              "        <td>4</td>\n",
              "    </tr>\n",
              "    <tr>\n",
              "        <td>PERCENT_AGED_25__WITHOUT_HIGH_SCHOOL_DIPLOMA</td>\n",
              "        <td>DECIMAL </td>\n",
              "        <td>4</td>\n",
              "    </tr>\n",
              "    <tr>\n",
              "        <td>PERCENT_AGED_UNDER_18_OR_OVER_64</td>\n",
              "        <td>DECIMAL </td>\n",
              "        <td>4</td>\n",
              "    </tr>\n",
              "    <tr>\n",
              "        <td>PERCENT_HOUSEHOLDS_BELOW_POVERTY</td>\n",
              "        <td>DECIMAL </td>\n",
              "        <td>4</td>\n",
              "    </tr>\n",
              "    <tr>\n",
              "        <td>PERCENT_OF_HOUSING_CROWDED</td>\n",
              "        <td>DECIMAL </td>\n",
              "        <td>4</td>\n",
              "    </tr>\n",
              "    <tr>\n",
              "        <td>PER_CAPITA_INCOME</td>\n",
              "        <td>INTEGER </td>\n",
              "        <td>4</td>\n",
              "    </tr>\n",
              "</table>"
            ],
            "text/plain": [
              "[('COMMUNITY_AREA_NAME', 'VARCHAR ', 22),\n",
              " ('COMMUNITY_AREA_NUMBER', 'SMALLINT', 2),\n",
              " ('HARDSHIP_INDEX', 'SMALLINT', 2),\n",
              " ('PERCENT_AGED_16__UNEMPLOYED', 'DECIMAL ', 4),\n",
              " ('PERCENT_AGED_25__WITHOUT_HIGH_SCHOOL_DIPLOMA', 'DECIMAL ', 4),\n",
              " ('PERCENT_AGED_UNDER_18_OR_OVER_64', 'DECIMAL ', 4),\n",
              " ('PERCENT_HOUSEHOLDS_BELOW_POVERTY', 'DECIMAL ', 4),\n",
              " ('PERCENT_OF_HOUSING_CROWDED', 'DECIMAL ', 4),\n",
              " ('PER_CAPITA_INCOME', 'INTEGER ', 4)]"
            ]
          },
          "execution_count": 11,
          "metadata": {},
          "output_type": "execute_result"
        }
      ],
      "source": [
        "%sql select distinct(NAME), COLTYPE, LENGTH from SYSIBM.SYSCOLUMNS where TBNAME = 'CENSUS_DATA'"
      ]
    },
    {
      "cell_type": "code",
      "execution_count": null,
      "metadata": {
        "id": "MFeW0ugke2lT",
        "outputId": "48aac32b-b922-412c-b6cd-06d7bb69b313"
      },
      "outputs": [
        {
          "name": "stdout",
          "output_type": "stream",
          "text": [
            " * ibm_db_sa://zfr48905:***@dashdb-txn-sbox-yp-lon02-02.services.eu-gb.bluemix.net:50000/BLUDB\n",
            "Done.\n"
          ]
        },
        {
          "data": {
            "text/html": [
              "<table>\n",
              "    <tr>\n",
              "        <th>community_area_number</th>\n",
              "        <th>community_area_name</th>\n",
              "        <th>percent_of_housing_crowded</th>\n",
              "        <th>percent_households_below_poverty</th>\n",
              "        <th>percent_aged_16__unemployed</th>\n",
              "        <th>percent_aged_25__without_high_school_diploma</th>\n",
              "        <th>percent_aged_under_18_or_over_64</th>\n",
              "        <th>per_capita_income</th>\n",
              "        <th>hardship_index</th>\n",
              "    </tr>\n",
              "    <tr>\n",
              "        <td>1</td>\n",
              "        <td>Rogers Park</td>\n",
              "        <td>7.7</td>\n",
              "        <td>23.6</td>\n",
              "        <td>8.7</td>\n",
              "        <td>18.2</td>\n",
              "        <td>27.5</td>\n",
              "        <td>23939</td>\n",
              "        <td>39</td>\n",
              "    </tr>\n",
              "    <tr>\n",
              "        <td>2</td>\n",
              "        <td>West Ridge</td>\n",
              "        <td>7.8</td>\n",
              "        <td>17.2</td>\n",
              "        <td>8.8</td>\n",
              "        <td>20.8</td>\n",
              "        <td>38.5</td>\n",
              "        <td>23040</td>\n",
              "        <td>46</td>\n",
              "    </tr>\n",
              "    <tr>\n",
              "        <td>3</td>\n",
              "        <td>Uptown</td>\n",
              "        <td>3.8</td>\n",
              "        <td>24.0</td>\n",
              "        <td>8.9</td>\n",
              "        <td>11.8</td>\n",
              "        <td>22.2</td>\n",
              "        <td>35787</td>\n",
              "        <td>20</td>\n",
              "    </tr>\n",
              "    <tr>\n",
              "        <td>4</td>\n",
              "        <td>Lincoln Square</td>\n",
              "        <td>3.4</td>\n",
              "        <td>10.9</td>\n",
              "        <td>8.2</td>\n",
              "        <td>13.4</td>\n",
              "        <td>25.5</td>\n",
              "        <td>37524</td>\n",
              "        <td>17</td>\n",
              "    </tr>\n",
              "    <tr>\n",
              "        <td>5</td>\n",
              "        <td>North Center</td>\n",
              "        <td>0.3</td>\n",
              "        <td>7.5</td>\n",
              "        <td>5.2</td>\n",
              "        <td>4.5</td>\n",
              "        <td>26.2</td>\n",
              "        <td>57123</td>\n",
              "        <td>6</td>\n",
              "    </tr>\n",
              "</table>"
            ],
            "text/plain": [
              "[(1, 'Rogers Park', Decimal('7.7'), Decimal('23.6'), Decimal('8.7'), Decimal('18.2'), Decimal('27.5'), 23939, 39),\n",
              " (2, 'West Ridge', Decimal('7.8'), Decimal('17.2'), Decimal('8.8'), Decimal('20.8'), Decimal('38.5'), 23040, 46),\n",
              " (3, 'Uptown', Decimal('3.8'), Decimal('24.0'), Decimal('8.9'), Decimal('11.8'), Decimal('22.2'), 35787, 20),\n",
              " (4, 'Lincoln Square', Decimal('3.4'), Decimal('10.9'), Decimal('8.2'), Decimal('13.4'), Decimal('25.5'), 37524, 17),\n",
              " (5, 'North Center', Decimal('0.3'), Decimal('7.5'), Decimal('5.2'), Decimal('4.5'), Decimal('26.2'), 57123, 6)]"
            ]
          },
          "execution_count": 12,
          "metadata": {},
          "output_type": "execute_result"
        }
      ],
      "source": [
        "%%sql\n",
        "select * FROM CENSUS_DATA LIMIT 5"
      ]
    },
    {
      "cell_type": "markdown",
      "metadata": {
        "id": "uM_D3LH6e2lU"
      },
      "source": [
        "---"
      ]
    },
    {
      "cell_type": "markdown",
      "metadata": {
        "id": "aXQffbDoe2lU"
      },
      "source": [
        "# `3.PROBLEMS`"
      ]
    },
    {
      "cell_type": "markdown",
      "metadata": {
        "id": "-hnBn-j2e2lU"
      },
      "source": [
        "---"
      ]
    },
    {
      "cell_type": "markdown",
      "metadata": {
        "id": "Gu7rjJxme2lV"
      },
      "source": [
        "### Problem 1\n",
        "\n",
        "##### `How many Elementary Schools are in the dataset?`"
      ]
    },
    {
      "cell_type": "code",
      "execution_count": null,
      "metadata": {
        "id": "gbA9X3lRe2lV",
        "outputId": "83db3609-b573-4995-8fc8-640047119b2c"
      },
      "outputs": [
        {
          "name": "stdout",
          "output_type": "stream",
          "text": [
            " * ibm_db_sa://zfr48905:***@dashdb-txn-sbox-yp-lon02-02.services.eu-gb.bluemix.net:50000/BLUDB\n",
            "Done.\n"
          ]
        },
        {
          "data": {
            "text/html": [
              "<table>\n",
              "    <tr>\n",
              "        <th>number_of_elementary_schools</th>\n",
              "    </tr>\n",
              "    <tr>\n",
              "        <td>462</td>\n",
              "    </tr>\n",
              "</table>"
            ],
            "text/plain": [
              "[(Decimal('462'),)]"
            ]
          },
          "execution_count": 13,
          "metadata": {},
          "output_type": "execute_result"
        }
      ],
      "source": [
        "%%sql\n",
        "SELECT COUNT(*) AS NUMBER_OF_ELEMENTARY_SCHOOLS\n",
        "FROM CHICAGO_PUBLIC_SCHOOLS\n",
        "WHERE \"Elementary, Middle, or High School\" = 'ES' ;"
      ]
    },
    {
      "cell_type": "markdown",
      "metadata": {
        "id": "9sR0FEUTe2lV"
      },
      "source": [
        "### Problem 2\n",
        "\n",
        "##### `What is the highest Safety Score?`"
      ]
    },
    {
      "cell_type": "code",
      "execution_count": null,
      "metadata": {
        "id": "TqEOWEZMe2lW",
        "outputId": "3f32eb1b-9786-48f5-b9c4-bf0243204682"
      },
      "outputs": [
        {
          "name": "stdout",
          "output_type": "stream",
          "text": [
            " * ibm_db_sa://zfr48905:***@dashdb-txn-sbox-yp-lon02-02.services.eu-gb.bluemix.net:50000/BLUDB\n",
            "Done.\n"
          ]
        },
        {
          "data": {
            "text/html": [
              "<table>\n",
              "    <tr>\n",
              "        <th>1</th>\n",
              "    </tr>\n",
              "    <tr>\n",
              "        <td>99</td>\n",
              "    </tr>\n",
              "</table>"
            ],
            "text/plain": [
              "[(99,)]"
            ]
          },
          "execution_count": 14,
          "metadata": {},
          "output_type": "execute_result"
        }
      ],
      "source": [
        "%%sql\n",
        "SELECT MAX(SAFETY_SCORE) \n",
        "FROM CHICAGO_PUBLIC_SCHOOLS;"
      ]
    },
    {
      "cell_type": "markdown",
      "metadata": {
        "id": "HNicteUUe2lW"
      },
      "source": [
        "### Problem 3\n",
        "\n",
        "##### `Which schools have highest Safety Score?`"
      ]
    },
    {
      "cell_type": "code",
      "execution_count": null,
      "metadata": {
        "id": "cwaqL9N-e2lW",
        "outputId": "ecc4a9d1-fcf7-41e6-d958-cf90cfbf6025"
      },
      "outputs": [
        {
          "name": "stdout",
          "output_type": "stream",
          "text": [
            " * ibm_db_sa://zfr48905:***@dashdb-txn-sbox-yp-lon02-02.services.eu-gb.bluemix.net:50000/BLUDB\n",
            "Done.\n"
          ]
        },
        {
          "data": {
            "text/html": [
              "<table>\n",
              "    <tr>\n",
              "        <th>name_of_school</th>\n",
              "        <th>safety_score</th>\n",
              "    </tr>\n",
              "    <tr>\n",
              "        <td>Abraham Lincoln Elementary School</td>\n",
              "        <td>99</td>\n",
              "    </tr>\n",
              "    <tr>\n",
              "        <td>Alexander Graham Bell Elementary School</td>\n",
              "        <td>99</td>\n",
              "    </tr>\n",
              "    <tr>\n",
              "        <td>Annie Keller Elementary Gifted Magnet School</td>\n",
              "        <td>99</td>\n",
              "    </tr>\n",
              "    <tr>\n",
              "        <td>Augustus H Burley Elementary School</td>\n",
              "        <td>99</td>\n",
              "    </tr>\n",
              "    <tr>\n",
              "        <td>Edgar Allan Poe Elementary Classical School</td>\n",
              "        <td>99</td>\n",
              "    </tr>\n",
              "    <tr>\n",
              "        <td>Edgebrook Elementary School</td>\n",
              "        <td>99</td>\n",
              "    </tr>\n",
              "    <tr>\n",
              "        <td>Ellen Mitchell Elementary School</td>\n",
              "        <td>99</td>\n",
              "    </tr>\n",
              "    <tr>\n",
              "        <td>James E McDade Elementary Classical School</td>\n",
              "        <td>99</td>\n",
              "    </tr>\n",
              "    <tr>\n",
              "        <td>James G Blaine Elementary School</td>\n",
              "        <td>99</td>\n",
              "    </tr>\n",
              "    <tr>\n",
              "        <td>LaSalle Elementary Language Academy</td>\n",
              "        <td>99</td>\n",
              "    </tr>\n",
              "    <tr>\n",
              "        <td>Mary E Courtenay Elementary Language Arts Center</td>\n",
              "        <td>99</td>\n",
              "    </tr>\n",
              "    <tr>\n",
              "        <td>Northside College Preparatory High School</td>\n",
              "        <td>99</td>\n",
              "    </tr>\n",
              "    <tr>\n",
              "        <td>Northside Learning Center High School</td>\n",
              "        <td>99</td>\n",
              "    </tr>\n",
              "    <tr>\n",
              "        <td>Norwood Park Elementary School</td>\n",
              "        <td>99</td>\n",
              "    </tr>\n",
              "    <tr>\n",
              "        <td>Oriole Park Elementary School</td>\n",
              "        <td>99</td>\n",
              "    </tr>\n",
              "    <tr>\n",
              "        <td>Sauganash Elementary School</td>\n",
              "        <td>99</td>\n",
              "    </tr>\n",
              "    <tr>\n",
              "        <td>Stephen Decatur Classical Elementary School</td>\n",
              "        <td>99</td>\n",
              "    </tr>\n",
              "    <tr>\n",
              "        <td>Talman Elementary School</td>\n",
              "        <td>99</td>\n",
              "    </tr>\n",
              "    <tr>\n",
              "        <td>Wildwood Elementary School</td>\n",
              "        <td>99</td>\n",
              "    </tr>\n",
              "</table>"
            ],
            "text/plain": [
              "[('Abraham Lincoln Elementary School', 99),\n",
              " ('Alexander Graham Bell Elementary School', 99),\n",
              " ('Annie Keller Elementary Gifted Magnet School', 99),\n",
              " ('Augustus H Burley Elementary School', 99),\n",
              " ('Edgar Allan Poe Elementary Classical School', 99),\n",
              " ('Edgebrook Elementary School', 99),\n",
              " ('Ellen Mitchell Elementary School', 99),\n",
              " ('James E McDade Elementary Classical School', 99),\n",
              " ('James G Blaine Elementary School', 99),\n",
              " ('LaSalle Elementary Language Academy', 99),\n",
              " ('Mary E Courtenay Elementary Language Arts Center', 99),\n",
              " ('Northside College Preparatory High School', 99),\n",
              " ('Northside Learning Center High School', 99),\n",
              " ('Norwood Park Elementary School', 99),\n",
              " ('Oriole Park Elementary School', 99),\n",
              " ('Sauganash Elementary School', 99),\n",
              " ('Stephen Decatur Classical Elementary School', 99),\n",
              " ('Talman Elementary School', 99),\n",
              " ('Wildwood Elementary School', 99)]"
            ]
          },
          "execution_count": 15,
          "metadata": {},
          "output_type": "execute_result"
        }
      ],
      "source": [
        "%%sql\n",
        "SELECT NAME_OF_SCHOOL, SAFETY_SCORE\n",
        "FROM CHICAGO_PUBLIC_SCHOOLS\n",
        "WHERE SAFETY_SCORE = (SELECT MAX(SAFETY_SCORE) FROM CHICAGO_PUBLIC_SCHOOLS);"
      ]
    },
    {
      "cell_type": "markdown",
      "metadata": {
        "id": "eWDAm9lje2lW"
      },
      "source": [
        "### Problem 4\n",
        "\n",
        "##### `What are the top 10 schools with the highest \"Average Student Attendance\"?`"
      ]
    },
    {
      "cell_type": "code",
      "execution_count": null,
      "metadata": {
        "id": "b4F3dWU0e2lX",
        "outputId": "170148c3-5b80-48a7-90a7-6d8822cc1aed"
      },
      "outputs": [
        {
          "name": "stdout",
          "output_type": "stream",
          "text": [
            " * ibm_db_sa://zfr48905:***@dashdb-txn-sbox-yp-lon02-02.services.eu-gb.bluemix.net:50000/BLUDB\n",
            "Done.\n"
          ]
        },
        {
          "data": {
            "text/html": [
              "<table>\n",
              "    <tr>\n",
              "        <th>name_of_school</th>\n",
              "        <th>average_student_attendance</th>\n",
              "    </tr>\n",
              "    <tr>\n",
              "        <td>John Charles Haines Elementary School</td>\n",
              "        <td>98.40%</td>\n",
              "    </tr>\n",
              "    <tr>\n",
              "        <td>James Ward Elementary School</td>\n",
              "        <td>97.80%</td>\n",
              "    </tr>\n",
              "    <tr>\n",
              "        <td>Edgar Allan Poe Elementary Classical School</td>\n",
              "        <td>97.60%</td>\n",
              "    </tr>\n",
              "    <tr>\n",
              "        <td>Orozco Fine Arts &amp; Sciences Elementary School</td>\n",
              "        <td>97.60%</td>\n",
              "    </tr>\n",
              "    <tr>\n",
              "        <td>Rachel Carson Elementary School</td>\n",
              "        <td>97.60%</td>\n",
              "    </tr>\n",
              "    <tr>\n",
              "        <td>Annie Keller Elementary Gifted Magnet School</td>\n",
              "        <td>97.50%</td>\n",
              "    </tr>\n",
              "    <tr>\n",
              "        <td>Andrew Jackson Elementary Language Academy</td>\n",
              "        <td>97.40%</td>\n",
              "    </tr>\n",
              "    <tr>\n",
              "        <td>Lenart Elementary Regional Gifted Center</td>\n",
              "        <td>97.40%</td>\n",
              "    </tr>\n",
              "    <tr>\n",
              "        <td>Disney II Magnet School</td>\n",
              "        <td>97.30%</td>\n",
              "    </tr>\n",
              "    <tr>\n",
              "        <td>John H Vanderpoel Elementary Magnet School</td>\n",
              "        <td>97.20%</td>\n",
              "    </tr>\n",
              "</table>"
            ],
            "text/plain": [
              "[('John Charles Haines Elementary School', '98.40%'),\n",
              " ('James Ward Elementary School', '97.80%'),\n",
              " ('Edgar Allan Poe Elementary Classical School', '97.60%'),\n",
              " ('Orozco Fine Arts & Sciences Elementary School', '97.60%'),\n",
              " ('Rachel Carson Elementary School', '97.60%'),\n",
              " ('Annie Keller Elementary Gifted Magnet School', '97.50%'),\n",
              " ('Andrew Jackson Elementary Language Academy', '97.40%'),\n",
              " ('Lenart Elementary Regional Gifted Center', '97.40%'),\n",
              " ('Disney II Magnet School', '97.30%'),\n",
              " ('John H Vanderpoel Elementary Magnet School', '97.20%')]"
            ]
          },
          "execution_count": 16,
          "metadata": {},
          "output_type": "execute_result"
        }
      ],
      "source": [
        "%%sql\n",
        "SELECT NAME_OF_SCHOOL,AVERAGE_STUDENT_ATTENDANCE\n",
        "FROM CHICAGO_PUBLIC_SCHOOLS\n",
        "ORDER BY AVERAGE_STUDENT_ATTENDANCE DESC \n",
        "NULLS LAST \n",
        "LIMIT 10 ;\n"
      ]
    },
    {
      "cell_type": "markdown",
      "metadata": {
        "id": "2r0LxjDle2lX"
      },
      "source": [
        "### Problem 5\n",
        "\n",
        "##### `Retrieve the list of 5 Schools with the lowest Average Student Attendance sorted in ascending order based on attendance`"
      ]
    },
    {
      "cell_type": "code",
      "execution_count": null,
      "metadata": {
        "id": "dg5Q7lVXe2lX",
        "outputId": "31bc2e27-bdf4-406d-d3a1-1bee8555484d"
      },
      "outputs": [
        {
          "name": "stdout",
          "output_type": "stream",
          "text": [
            " * ibm_db_sa://zfr48905:***@dashdb-txn-sbox-yp-lon02-02.services.eu-gb.bluemix.net:50000/BLUDB\n",
            "Done.\n"
          ]
        },
        {
          "data": {
            "text/html": [
              "<table>\n",
              "    <tr>\n",
              "        <th>name_of_school</th>\n",
              "        <th>average_student_attendance</th>\n",
              "    </tr>\n",
              "    <tr>\n",
              "        <td>Richard T Crane Technical Preparatory High School</td>\n",
              "        <td>57.90%</td>\n",
              "    </tr>\n",
              "    <tr>\n",
              "        <td>Barbara Vick Early Childhood &amp; Family Center</td>\n",
              "        <td>60.90%</td>\n",
              "    </tr>\n",
              "    <tr>\n",
              "        <td>Dyett High School</td>\n",
              "        <td>62.50%</td>\n",
              "    </tr>\n",
              "    <tr>\n",
              "        <td>Wendell Phillips Academy High School</td>\n",
              "        <td>63.00%</td>\n",
              "    </tr>\n",
              "    <tr>\n",
              "        <td>Orr Academy High School</td>\n",
              "        <td>66.30%</td>\n",
              "    </tr>\n",
              "</table>"
            ],
            "text/plain": [
              "[('Richard T Crane Technical Preparatory High School', '57.90%'),\n",
              " ('Barbara Vick Early Childhood & Family Center', '60.90%'),\n",
              " ('Dyett High School', '62.50%'),\n",
              " ('Wendell Phillips Academy High School', '63.00%'),\n",
              " ('Orr Academy High School', '66.30%')]"
            ]
          },
          "execution_count": 17,
          "metadata": {},
          "output_type": "execute_result"
        }
      ],
      "source": [
        "%%sql\n",
        "SELECT NAME_OF_SCHOOL,AVERAGE_STUDENT_ATTENDANCE\n",
        "FROM CHICAGO_PUBLIC_SCHOOLS\n",
        "ORDER BY AVERAGE_STUDENT_ATTENDANCE\n",
        "NULLS LAST\n",
        "LIMIT 5 ;"
      ]
    },
    {
      "cell_type": "markdown",
      "metadata": {
        "id": "wmkRpQ6re2lY"
      },
      "source": [
        "### Problem 6\n",
        "\n",
        "##### `Now remove the '%' sign from the above result set for Average Student Attendance column`\n"
      ]
    },
    {
      "cell_type": "code",
      "execution_count": null,
      "metadata": {
        "id": "OACw9_ERe2lY",
        "outputId": "56d3779d-e6d8-44de-f2ef-391804b80d3c"
      },
      "outputs": [
        {
          "name": "stdout",
          "output_type": "stream",
          "text": [
            " * ibm_db_sa://zfr48905:***@dashdb-txn-sbox-yp-lon02-02.services.eu-gb.bluemix.net:50000/BLUDB\n",
            "Done.\n"
          ]
        },
        {
          "data": {
            "text/html": [
              "<table>\n",
              "    <tr>\n",
              "        <th>name_of_school</th>\n",
              "        <th>average_student_attendance</th>\n",
              "    </tr>\n",
              "    <tr>\n",
              "        <td>Richard T Crane Technical Preparatory High School</td>\n",
              "        <td>57.90</td>\n",
              "    </tr>\n",
              "    <tr>\n",
              "        <td>Barbara Vick Early Childhood &amp; Family Center</td>\n",
              "        <td>60.90</td>\n",
              "    </tr>\n",
              "    <tr>\n",
              "        <td>Dyett High School</td>\n",
              "        <td>62.50</td>\n",
              "    </tr>\n",
              "    <tr>\n",
              "        <td>Wendell Phillips Academy High School</td>\n",
              "        <td>63.00</td>\n",
              "    </tr>\n",
              "    <tr>\n",
              "        <td>Orr Academy High School</td>\n",
              "        <td>66.30</td>\n",
              "    </tr>\n",
              "</table>"
            ],
            "text/plain": [
              "[('Richard T Crane Technical Preparatory High School', '57.90'),\n",
              " ('Barbara Vick Early Childhood & Family Center', '60.90'),\n",
              " ('Dyett High School', '62.50'),\n",
              " ('Wendell Phillips Academy High School', '63.00'),\n",
              " ('Orr Academy High School', '66.30')]"
            ]
          },
          "execution_count": 18,
          "metadata": {},
          "output_type": "execute_result"
        }
      ],
      "source": [
        "%%sql\n",
        "SELECT NAME_OF_SCHOOL,REPLACE(AVERAGE_STUDENT_ATTENDANCE, '%','') AS AVERAGE_STUDENT_ATTENDANCE\n",
        "FROM CHICAGO_PUBLIC_SCHOOLS \n",
        "ORDER BY AVERAGE_STUDENT_ATTENDANCE\n",
        "NULLS LAST\n",
        "LIMIT 5 ;"
      ]
    },
    {
      "cell_type": "markdown",
      "metadata": {
        "id": "RKCOSrGXe2lY"
      },
      "source": [
        "### Problem 7\n",
        "\n",
        "##### `Which Schools have Average Student Attendance lower than 70%?`"
      ]
    },
    {
      "cell_type": "code",
      "execution_count": null,
      "metadata": {
        "id": "H_Y-X0Yke2lY",
        "outputId": "0d255c02-9ad7-43ee-ad48-1ba963323027"
      },
      "outputs": [
        {
          "name": "stdout",
          "output_type": "stream",
          "text": [
            " * ibm_db_sa://zfr48905:***@dashdb-txn-sbox-yp-lon02-02.services.eu-gb.bluemix.net:50000/BLUDB\n",
            "Done.\n"
          ]
        },
        {
          "data": {
            "text/html": [
              "<table>\n",
              "    <tr>\n",
              "        <th>name_of_school</th>\n",
              "        <th>average_student_attendance</th>\n",
              "    </tr>\n",
              "    <tr>\n",
              "        <td>Richard T Crane Technical Preparatory High School</td>\n",
              "        <td>57.90</td>\n",
              "    </tr>\n",
              "    <tr>\n",
              "        <td>Barbara Vick Early Childhood &amp; Family Center</td>\n",
              "        <td>60.90</td>\n",
              "    </tr>\n",
              "    <tr>\n",
              "        <td>Dyett High School</td>\n",
              "        <td>62.50</td>\n",
              "    </tr>\n",
              "    <tr>\n",
              "        <td>Wendell Phillips Academy High School</td>\n",
              "        <td>63.00</td>\n",
              "    </tr>\n",
              "    <tr>\n",
              "        <td>Orr Academy High School</td>\n",
              "        <td>66.30</td>\n",
              "    </tr>\n",
              "    <tr>\n",
              "        <td>Manley Career Academy High School</td>\n",
              "        <td>66.80</td>\n",
              "    </tr>\n",
              "    <tr>\n",
              "        <td>Chicago Vocational Career Academy High School</td>\n",
              "        <td>68.80</td>\n",
              "    </tr>\n",
              "    <tr>\n",
              "        <td>Roberto Clemente Community Academy High School</td>\n",
              "        <td>69.60</td>\n",
              "    </tr>\n",
              "</table>"
            ],
            "text/plain": [
              "[('Richard T Crane Technical Preparatory High School', '57.90'),\n",
              " ('Barbara Vick Early Childhood & Family Center', '60.90'),\n",
              " ('Dyett High School', '62.50'),\n",
              " ('Wendell Phillips Academy High School', '63.00'),\n",
              " ('Orr Academy High School', '66.30'),\n",
              " ('Manley Career Academy High School', '66.80'),\n",
              " ('Chicago Vocational Career Academy High School', '68.80'),\n",
              " ('Roberto Clemente Community Academy High School', '69.60')]"
            ]
          },
          "execution_count": 19,
          "metadata": {},
          "output_type": "execute_result"
        }
      ],
      "source": [
        "%%sql\n",
        "SELECT NAME_OF_SCHOOL, REPLACE(AVERAGE_STUDENT_ATTENDANCE,'%','') AS AVERAGE_STUDENT_ATTENDANCE\n",
        "FROM CHICAGO_PUBLIC_SCHOOLS\n",
        "WHERE DECIMAL(REPLACE(AVERAGE_STUDENT_ATTENDANCE,'%','')) < 70\n",
        "ORDER BY AVERAGE_STUDENT_ATTENDANCE;"
      ]
    },
    {
      "cell_type": "markdown",
      "metadata": {
        "id": "REERj5Zie2lZ"
      },
      "source": [
        "### Problem 8\n",
        "\n",
        "##### `Get the total College Enrollment for each Community Area`"
      ]
    },
    {
      "cell_type": "code",
      "execution_count": null,
      "metadata": {
        "id": "_S9NDCQEe2lZ",
        "outputId": "106eb398-c7cf-4a1e-b71c-1b139ceecd30"
      },
      "outputs": [
        {
          "name": "stdout",
          "output_type": "stream",
          "text": [
            " * ibm_db_sa://zfr48905:***@dashdb-txn-sbox-yp-lon02-02.services.eu-gb.bluemix.net:50000/BLUDB\n",
            "Done.\n"
          ]
        },
        {
          "data": {
            "text/html": [
              "<table>\n",
              "    <tr>\n",
              "        <th>community_area_name</th>\n",
              "        <th>college_enrollment</th>\n",
              "    </tr>\n",
              "    <tr>\n",
              "        <td>ALBANY PARK</td>\n",
              "        <td>6864</td>\n",
              "    </tr>\n",
              "    <tr>\n",
              "        <td>ARCHER HEIGHTS</td>\n",
              "        <td>4823</td>\n",
              "    </tr>\n",
              "    <tr>\n",
              "        <td>ARMOUR SQUARE</td>\n",
              "        <td>1458</td>\n",
              "    </tr>\n",
              "    <tr>\n",
              "        <td>ASHBURN</td>\n",
              "        <td>6483</td>\n",
              "    </tr>\n",
              "    <tr>\n",
              "        <td>AUBURN GRESHAM</td>\n",
              "        <td>4175</td>\n",
              "    </tr>\n",
              "    <tr>\n",
              "        <td>AUSTIN</td>\n",
              "        <td>10933</td>\n",
              "    </tr>\n",
              "    <tr>\n",
              "        <td>AVALON PARK</td>\n",
              "        <td>1522</td>\n",
              "    </tr>\n",
              "    <tr>\n",
              "        <td>AVONDALE</td>\n",
              "        <td>3640</td>\n",
              "    </tr>\n",
              "    <tr>\n",
              "        <td>BELMONT CRAGIN</td>\n",
              "        <td>14386</td>\n",
              "    </tr>\n",
              "    <tr>\n",
              "        <td>BEVERLY</td>\n",
              "        <td>1636</td>\n",
              "    </tr>\n",
              "    <tr>\n",
              "        <td>BRIDGEPORT</td>\n",
              "        <td>3167</td>\n",
              "    </tr>\n",
              "    <tr>\n",
              "        <td>BRIGHTON PARK</td>\n",
              "        <td>9647</td>\n",
              "    </tr>\n",
              "    <tr>\n",
              "        <td>BURNSIDE</td>\n",
              "        <td>549</td>\n",
              "    </tr>\n",
              "    <tr>\n",
              "        <td>CALUMET HEIGHTS</td>\n",
              "        <td>1568</td>\n",
              "    </tr>\n",
              "    <tr>\n",
              "        <td>CHATHAM</td>\n",
              "        <td>5042</td>\n",
              "    </tr>\n",
              "    <tr>\n",
              "        <td>CHICAGO LAWN</td>\n",
              "        <td>7086</td>\n",
              "    </tr>\n",
              "    <tr>\n",
              "        <td>CLEARING</td>\n",
              "        <td>2085</td>\n",
              "    </tr>\n",
              "    <tr>\n",
              "        <td>DOUGLAS</td>\n",
              "        <td>4670</td>\n",
              "    </tr>\n",
              "    <tr>\n",
              "        <td>DUNNING</td>\n",
              "        <td>4568</td>\n",
              "    </tr>\n",
              "    <tr>\n",
              "        <td>EAST GARFIELD PARK</td>\n",
              "        <td>5337</td>\n",
              "    </tr>\n",
              "    <tr>\n",
              "        <td>EAST SIDE</td>\n",
              "        <td>5305</td>\n",
              "    </tr>\n",
              "    <tr>\n",
              "        <td>EDGEWATER</td>\n",
              "        <td>4600</td>\n",
              "    </tr>\n",
              "    <tr>\n",
              "        <td>EDISON PARK</td>\n",
              "        <td>910</td>\n",
              "    </tr>\n",
              "    <tr>\n",
              "        <td>ENGLEWOOD</td>\n",
              "        <td>6832</td>\n",
              "    </tr>\n",
              "    <tr>\n",
              "        <td>FOREST GLEN</td>\n",
              "        <td>1431</td>\n",
              "    </tr>\n",
              "    <tr>\n",
              "        <td>FULLER PARK</td>\n",
              "        <td>531</td>\n",
              "    </tr>\n",
              "    <tr>\n",
              "        <td>GAGE PARK</td>\n",
              "        <td>9915</td>\n",
              "    </tr>\n",
              "    <tr>\n",
              "        <td>GARFIELD RIDGE</td>\n",
              "        <td>4552</td>\n",
              "    </tr>\n",
              "    <tr>\n",
              "        <td>GRAND BOULEVARD</td>\n",
              "        <td>2809</td>\n",
              "    </tr>\n",
              "    <tr>\n",
              "        <td>GREATER GRAND CROSSING</td>\n",
              "        <td>4051</td>\n",
              "    </tr>\n",
              "    <tr>\n",
              "        <td>HEGEWISCH</td>\n",
              "        <td>963</td>\n",
              "    </tr>\n",
              "    <tr>\n",
              "        <td>HERMOSA</td>\n",
              "        <td>3975</td>\n",
              "    </tr>\n",
              "    <tr>\n",
              "        <td>HUMBOLDT PARK</td>\n",
              "        <td>8620</td>\n",
              "    </tr>\n",
              "    <tr>\n",
              "        <td>HYDE PARK</td>\n",
              "        <td>1930</td>\n",
              "    </tr>\n",
              "    <tr>\n",
              "        <td>IRVING PARK</td>\n",
              "        <td>7764</td>\n",
              "    </tr>\n",
              "    <tr>\n",
              "        <td>JEFFERSON PARK</td>\n",
              "        <td>1755</td>\n",
              "    </tr>\n",
              "    <tr>\n",
              "        <td>KENWOOD</td>\n",
              "        <td>4287</td>\n",
              "    </tr>\n",
              "    <tr>\n",
              "        <td>LAKE VIEW</td>\n",
              "        <td>7055</td>\n",
              "    </tr>\n",
              "    <tr>\n",
              "        <td>LINCOLN PARK</td>\n",
              "        <td>5615</td>\n",
              "    </tr>\n",
              "    <tr>\n",
              "        <td>LINCOLN SQUARE</td>\n",
              "        <td>4132</td>\n",
              "    </tr>\n",
              "    <tr>\n",
              "        <td>LOGAN SQUARE</td>\n",
              "        <td>7351</td>\n",
              "    </tr>\n",
              "    <tr>\n",
              "        <td>LOOP</td>\n",
              "        <td>871</td>\n",
              "    </tr>\n",
              "    <tr>\n",
              "        <td>LOWER WEST SIDE</td>\n",
              "        <td>7257</td>\n",
              "    </tr>\n",
              "    <tr>\n",
              "        <td>MCKINLEY PARK</td>\n",
              "        <td>1552</td>\n",
              "    </tr>\n",
              "    <tr>\n",
              "        <td>MONTCLARE</td>\n",
              "        <td>1317</td>\n",
              "    </tr>\n",
              "    <tr>\n",
              "        <td>MORGAN PARK</td>\n",
              "        <td>3271</td>\n",
              "    </tr>\n",
              "    <tr>\n",
              "        <td>MOUNT GREENWOOD</td>\n",
              "        <td>2091</td>\n",
              "    </tr>\n",
              "    <tr>\n",
              "        <td>NEAR NORTH SIDE</td>\n",
              "        <td>3362</td>\n",
              "    </tr>\n",
              "    <tr>\n",
              "        <td>NEAR SOUTH SIDE</td>\n",
              "        <td>1378</td>\n",
              "    </tr>\n",
              "    <tr>\n",
              "        <td>NEAR WEST SIDE</td>\n",
              "        <td>7975</td>\n",
              "    </tr>\n",
              "    <tr>\n",
              "        <td>NEW CITY</td>\n",
              "        <td>7922</td>\n",
              "    </tr>\n",
              "    <tr>\n",
              "        <td>NORTH CENTER</td>\n",
              "        <td>7541</td>\n",
              "    </tr>\n",
              "    <tr>\n",
              "        <td>NORTH LAWNDALE</td>\n",
              "        <td>5146</td>\n",
              "    </tr>\n",
              "    <tr>\n",
              "        <td>NORTH PARK</td>\n",
              "        <td>4210</td>\n",
              "    </tr>\n",
              "    <tr>\n",
              "        <td>NORWOOD PARK</td>\n",
              "        <td>6469</td>\n",
              "    </tr>\n",
              "    <tr>\n",
              "        <td>OAKLAND</td>\n",
              "        <td>140</td>\n",
              "    </tr>\n",
              "    <tr>\n",
              "        <td>OHARE</td>\n",
              "        <td>786</td>\n",
              "    </tr>\n",
              "    <tr>\n",
              "        <td>PORTAGE PARK</td>\n",
              "        <td>6954</td>\n",
              "    </tr>\n",
              "    <tr>\n",
              "        <td>PULLMAN</td>\n",
              "        <td>1620</td>\n",
              "    </tr>\n",
              "    <tr>\n",
              "        <td>RIVERDALE</td>\n",
              "        <td>1547</td>\n",
              "    </tr>\n",
              "    <tr>\n",
              "        <td>ROGERS PARK</td>\n",
              "        <td>4068</td>\n",
              "    </tr>\n",
              "    <tr>\n",
              "        <td>ROSELAND</td>\n",
              "        <td>7020</td>\n",
              "    </tr>\n",
              "    <tr>\n",
              "        <td>SOUTH CHICAGO</td>\n",
              "        <td>4043</td>\n",
              "    </tr>\n",
              "    <tr>\n",
              "        <td>SOUTH DEERING</td>\n",
              "        <td>1859</td>\n",
              "    </tr>\n",
              "    <tr>\n",
              "        <td>SOUTH LAWNDALE</td>\n",
              "        <td>14793</td>\n",
              "    </tr>\n",
              "    <tr>\n",
              "        <td>SOUTH SHORE</td>\n",
              "        <td>4543</td>\n",
              "    </tr>\n",
              "    <tr>\n",
              "        <td>UPTOWN</td>\n",
              "        <td>4388</td>\n",
              "    </tr>\n",
              "    <tr>\n",
              "        <td>WASHINGTON HEIGHTS</td>\n",
              "        <td>4006</td>\n",
              "    </tr>\n",
              "    <tr>\n",
              "        <td>WASHINGTON PARK</td>\n",
              "        <td>2648</td>\n",
              "    </tr>\n",
              "    <tr>\n",
              "        <td>WEST ELSDON</td>\n",
              "        <td>3700</td>\n",
              "    </tr>\n",
              "    <tr>\n",
              "        <td>WEST ENGLEWOOD</td>\n",
              "        <td>5946</td>\n",
              "    </tr>\n",
              "    <tr>\n",
              "        <td>WEST GARFIELD PARK</td>\n",
              "        <td>2622</td>\n",
              "    </tr>\n",
              "    <tr>\n",
              "        <td>WEST LAWN</td>\n",
              "        <td>4207</td>\n",
              "    </tr>\n",
              "    <tr>\n",
              "        <td>WEST PULLMAN</td>\n",
              "        <td>3240</td>\n",
              "    </tr>\n",
              "    <tr>\n",
              "        <td>WEST RIDGE</td>\n",
              "        <td>8197</td>\n",
              "    </tr>\n",
              "    <tr>\n",
              "        <td>WEST TOWN</td>\n",
              "        <td>9429</td>\n",
              "    </tr>\n",
              "    <tr>\n",
              "        <td>WOODLAWN</td>\n",
              "        <td>4206</td>\n",
              "    </tr>\n",
              "</table>"
            ],
            "text/plain": [
              "[('ALBANY PARK', 6864),\n",
              " ('ARCHER HEIGHTS', 4823),\n",
              " ('ARMOUR SQUARE', 1458),\n",
              " ('ASHBURN', 6483),\n",
              " ('AUBURN GRESHAM', 4175),\n",
              " ('AUSTIN', 10933),\n",
              " ('AVALON PARK', 1522),\n",
              " ('AVONDALE', 3640),\n",
              " ('BELMONT CRAGIN', 14386),\n",
              " ('BEVERLY', 1636),\n",
              " ('BRIDGEPORT', 3167),\n",
              " ('BRIGHTON PARK', 9647),\n",
              " ('BURNSIDE', 549),\n",
              " ('CALUMET HEIGHTS', 1568),\n",
              " ('CHATHAM', 5042),\n",
              " ('CHICAGO LAWN', 7086),\n",
              " ('CLEARING', 2085),\n",
              " ('DOUGLAS', 4670),\n",
              " ('DUNNING', 4568),\n",
              " ('EAST GARFIELD PARK', 5337),\n",
              " ('EAST SIDE', 5305),\n",
              " ('EDGEWATER', 4600),\n",
              " ('EDISON PARK', 910),\n",
              " ('ENGLEWOOD', 6832),\n",
              " ('FOREST GLEN', 1431),\n",
              " ('FULLER PARK', 531),\n",
              " ('GAGE PARK', 9915),\n",
              " ('GARFIELD RIDGE', 4552),\n",
              " ('GRAND BOULEVARD', 2809),\n",
              " ('GREATER GRAND CROSSING', 4051),\n",
              " ('HEGEWISCH', 963),\n",
              " ('HERMOSA', 3975),\n",
              " ('HUMBOLDT PARK', 8620),\n",
              " ('HYDE PARK', 1930),\n",
              " ('IRVING PARK', 7764),\n",
              " ('JEFFERSON PARK', 1755),\n",
              " ('KENWOOD', 4287),\n",
              " ('LAKE VIEW', 7055),\n",
              " ('LINCOLN PARK', 5615),\n",
              " ('LINCOLN SQUARE', 4132),\n",
              " ('LOGAN SQUARE', 7351),\n",
              " ('LOOP', 871),\n",
              " ('LOWER WEST SIDE', 7257),\n",
              " ('MCKINLEY PARK', 1552),\n",
              " ('MONTCLARE', 1317),\n",
              " ('MORGAN PARK', 3271),\n",
              " ('MOUNT GREENWOOD', 2091),\n",
              " ('NEAR NORTH SIDE', 3362),\n",
              " ('NEAR SOUTH SIDE', 1378),\n",
              " ('NEAR WEST SIDE', 7975),\n",
              " ('NEW CITY', 7922),\n",
              " ('NORTH CENTER', 7541),\n",
              " ('NORTH LAWNDALE', 5146),\n",
              " ('NORTH PARK', 4210),\n",
              " ('NORWOOD PARK', 6469),\n",
              " ('OAKLAND', 140),\n",
              " ('OHARE', 786),\n",
              " ('PORTAGE PARK', 6954),\n",
              " ('PULLMAN', 1620),\n",
              " ('RIVERDALE', 1547),\n",
              " ('ROGERS PARK', 4068),\n",
              " ('ROSELAND', 7020),\n",
              " ('SOUTH CHICAGO', 4043),\n",
              " ('SOUTH DEERING', 1859),\n",
              " ('SOUTH LAWNDALE', 14793),\n",
              " ('SOUTH SHORE', 4543),\n",
              " ('UPTOWN', 4388),\n",
              " ('WASHINGTON HEIGHTS', 4006),\n",
              " ('WASHINGTON PARK', 2648),\n",
              " ('WEST ELSDON', 3700),\n",
              " ('WEST ENGLEWOOD', 5946),\n",
              " ('WEST GARFIELD PARK', 2622),\n",
              " ('WEST LAWN', 4207),\n",
              " ('WEST PULLMAN', 3240),\n",
              " ('WEST RIDGE', 8197),\n",
              " ('WEST TOWN', 9429),\n",
              " ('WOODLAWN', 4206)]"
            ]
          },
          "execution_count": 20,
          "metadata": {},
          "output_type": "execute_result"
        }
      ],
      "source": [
        "%%sql\n",
        "SELECT COMMUNITY_AREA_NAME, SUM(COLLEGE_ENROLLMENT) AS COLLEGE_ENROLLMENT\n",
        "FROM CHICAGO_PUBLIC_SCHOOLS\n",
        "GROUP BY COMMUNITY_AREA_NAME;"
      ]
    },
    {
      "cell_type": "markdown",
      "metadata": {
        "id": "fJEmWRD7e2lZ"
      },
      "source": [
        "### Problem 9\n",
        "\n",
        "##### `Get the 5 Community Areas with the least College Enrollment  sorted in ascending order`\n"
      ]
    },
    {
      "cell_type": "code",
      "execution_count": null,
      "metadata": {
        "id": "jBg3gz_We2lZ",
        "outputId": "867fd450-4015-4bf5-efaf-95d84e946ba4"
      },
      "outputs": [
        {
          "name": "stdout",
          "output_type": "stream",
          "text": [
            " * ibm_db_sa://zfr48905:***@dashdb-txn-sbox-yp-lon02-02.services.eu-gb.bluemix.net:50000/BLUDB\n",
            "Done.\n"
          ]
        },
        {
          "data": {
            "text/html": [
              "<table>\n",
              "    <tr>\n",
              "        <th>community_area_name</th>\n",
              "        <th>college_enrollment</th>\n",
              "    </tr>\n",
              "    <tr>\n",
              "        <td>OAKLAND</td>\n",
              "        <td>140</td>\n",
              "    </tr>\n",
              "    <tr>\n",
              "        <td>FULLER PARK</td>\n",
              "        <td>531</td>\n",
              "    </tr>\n",
              "    <tr>\n",
              "        <td>BURNSIDE</td>\n",
              "        <td>549</td>\n",
              "    </tr>\n",
              "    <tr>\n",
              "        <td>OHARE</td>\n",
              "        <td>786</td>\n",
              "    </tr>\n",
              "    <tr>\n",
              "        <td>LOOP</td>\n",
              "        <td>871</td>\n",
              "    </tr>\n",
              "</table>"
            ],
            "text/plain": [
              "[('OAKLAND', 140),\n",
              " ('FULLER PARK', 531),\n",
              " ('BURNSIDE', 549),\n",
              " ('OHARE', 786),\n",
              " ('LOOP', 871)]"
            ]
          },
          "execution_count": 21,
          "metadata": {},
          "output_type": "execute_result"
        }
      ],
      "source": [
        "%%sql\n",
        "SELECT COMMUNITY_AREA_NAME, SUM(COLLEGE_ENROLLMENT) AS COLLEGE_ENROLLMENT\n",
        "FROM CHICAGO_PUBLIC_SCHOOLS\n",
        "GROUP BY COMMUNITY_AREA_NAME\n",
        "ORDER BY COLLEGE_ENROLLMENT ASC\n",
        "NULLS LAST\n",
        "LIMIT 5;"
      ]
    },
    {
      "cell_type": "markdown",
      "metadata": {
        "id": "KPkktwx8e2la"
      },
      "source": [
        "### Problem 10\n",
        "\n",
        "##### `List 5 schools with lowest safety score.`"
      ]
    },
    {
      "cell_type": "code",
      "execution_count": null,
      "metadata": {
        "id": "P3yTxCnke2la",
        "outputId": "a8c20bec-ffbf-4160-faf2-19dfb56fbdd1"
      },
      "outputs": [
        {
          "name": "stdout",
          "output_type": "stream",
          "text": [
            " * ibm_db_sa://zfr48905:***@dashdb-txn-sbox-yp-lon02-02.services.eu-gb.bluemix.net:50000/BLUDB\n",
            "Done.\n"
          ]
        },
        {
          "data": {
            "text/html": [
              "<table>\n",
              "    <tr>\n",
              "        <th>name_of_school</th>\n",
              "        <th>safety_score</th>\n",
              "    </tr>\n",
              "    <tr>\n",
              "        <td>Edmond Burke Elementary School</td>\n",
              "        <td>1</td>\n",
              "    </tr>\n",
              "    <tr>\n",
              "        <td>Luke O&#x27;Toole Elementary School</td>\n",
              "        <td>5</td>\n",
              "    </tr>\n",
              "    <tr>\n",
              "        <td>George W Tilton Elementary School</td>\n",
              "        <td>6</td>\n",
              "    </tr>\n",
              "    <tr>\n",
              "        <td>Foster Park Elementary School</td>\n",
              "        <td>11</td>\n",
              "    </tr>\n",
              "    <tr>\n",
              "        <td>Emil G Hirsch Metropolitan High School</td>\n",
              "        <td>13</td>\n",
              "    </tr>\n",
              "</table>"
            ],
            "text/plain": [
              "[('Edmond Burke Elementary School', 1),\n",
              " (\"Luke O'Toole Elementary School\", 5),\n",
              " ('George W Tilton Elementary School', 6),\n",
              " ('Foster Park Elementary School', 11),\n",
              " ('Emil G Hirsch Metropolitan High School', 13)]"
            ]
          },
          "execution_count": 22,
          "metadata": {},
          "output_type": "execute_result"
        }
      ],
      "source": [
        "%%sql\n",
        "SELECT NAME_OF_SCHOOL, SAFETY_SCORE\n",
        "FROM CHICAGO_PUBLIC_SCHOOLS\n",
        "ORDER BY SAFETY_SCORE\n",
        "NULLS LAST\n",
        "LIMIT 5 ;"
      ]
    },
    {
      "cell_type": "markdown",
      "metadata": {
        "id": "vgWy8wIge2la"
      },
      "source": [
        "### Problem 11\n",
        "\n",
        "##### `Get the hardship index for the community area which has College Enrollment of 4368`"
      ]
    },
    {
      "cell_type": "code",
      "execution_count": null,
      "metadata": {
        "id": "184zqcs4e2la",
        "outputId": "c791e10d-deb5-401e-b9a8-10842d079f84"
      },
      "outputs": [
        {
          "name": "stdout",
          "output_type": "stream",
          "text": [
            " * ibm_db_sa://zfr48905:***@dashdb-txn-sbox-yp-lon02-02.services.eu-gb.bluemix.net:50000/BLUDB\n",
            "Done.\n"
          ]
        },
        {
          "data": {
            "text/html": [
              "<table>\n",
              "    <tr>\n",
              "        <th>community_area_name</th>\n",
              "        <th>hardship_index</th>\n",
              "    </tr>\n",
              "    <tr>\n",
              "        <td>North Center</td>\n",
              "        <td>6</td>\n",
              "    </tr>\n",
              "</table>"
            ],
            "text/plain": [
              "[('North Center', 6)]"
            ]
          },
          "execution_count": 23,
          "metadata": {},
          "output_type": "execute_result"
        }
      ],
      "source": [
        "%%sql\n",
        "SELECT community_area_name, HARDSHIP_INDEX\n",
        "FROM CENSUS_DATA\n",
        "WHERE community_area_number  = (SELECT community_area_number FROM CHICAGO_PUBLIC_SCHOOLS WHERE COLLEGE_ENROLLMENT = 4368 )"
      ]
    },
    {
      "cell_type": "markdown",
      "metadata": {
        "id": "jeMY9r4Ve2la"
      },
      "source": [
        "### Problem 12\n",
        "\n",
        "##### `Get the hardship index for the community area which has the school with the  highest enrollment.`"
      ]
    },
    {
      "cell_type": "code",
      "execution_count": null,
      "metadata": {
        "id": "5Eqy3AaRe2lb",
        "outputId": "88132a2d-5a89-4f2b-a33b-aab70135a110"
      },
      "outputs": [
        {
          "name": "stdout",
          "output_type": "stream",
          "text": [
            " * ibm_db_sa://zfr48905:***@dashdb-txn-sbox-yp-lon02-02.services.eu-gb.bluemix.net:50000/BLUDB\n",
            "Done.\n"
          ]
        },
        {
          "data": {
            "text/html": [
              "<table>\n",
              "    <tr>\n",
              "        <th>community_area_name</th>\n",
              "        <th>hardship_index</th>\n",
              "    </tr>\n",
              "    <tr>\n",
              "        <td>North Center</td>\n",
              "        <td>6</td>\n",
              "    </tr>\n",
              "</table>"
            ],
            "text/plain": [
              "[('North Center', 6)]"
            ]
          },
          "execution_count": 24,
          "metadata": {},
          "output_type": "execute_result"
        }
      ],
      "source": [
        "%%sql\n",
        "SELECT community_area_name, HARDSHIP_INDEX\n",
        "FROM CENSUS_DATA\n",
        "WHERE community_area_number  = (SELECT community_area_number \n",
        "                                FROM CHICAGO_PUBLIC_SCHOOLS \n",
        "                                WHERE COLLEGE_ENROLLMENT = (SELECT MAX(COLLEGE_ENROLLMENT) FROM CHICAGO_PUBLIC_SCHOOLS) );"
      ]
    },
    {
      "cell_type": "markdown",
      "metadata": {
        "id": "wFTOfLDJe2lb"
      },
      "source": [
        "### Problem 13\n",
        "\n",
        "##### `How many community areas in Chicago have a hardship index greater than 50.0?`"
      ]
    },
    {
      "cell_type": "code",
      "execution_count": null,
      "metadata": {
        "id": "pTfYaCz6e2lb",
        "outputId": "8f2cc9f8-7dbb-4f5f-e63b-15773220980c"
      },
      "outputs": [
        {
          "name": "stdout",
          "output_type": "stream",
          "text": [
            " * ibm_db_sa://zfr48905:***@dashdb-txn-sbox-yp-lon02-02.services.eu-gb.bluemix.net:50000/BLUDB\n",
            "Done.\n"
          ]
        },
        {
          "data": {
            "text/html": [
              "<table>\n",
              "    <tr>\n",
              "        <th>number_of_community_area</th>\n",
              "    </tr>\n",
              "    <tr>\n",
              "        <td>38</td>\n",
              "    </tr>\n",
              "</table>"
            ],
            "text/plain": [
              "[(Decimal('38'),)]"
            ]
          },
          "execution_count": 25,
          "metadata": {},
          "output_type": "execute_result"
        }
      ],
      "source": [
        "%%sql\n",
        "SELECT COUNT(COMMUNITY_AREA_NAME) AS NUMBER_OF_COMMUNITY_AREA\n",
        "FROM CENSUS_DATA\n",
        "WHERE HARDSHIP_INDEX > 50.0 ;"
      ]
    },
    {
      "cell_type": "markdown",
      "metadata": {
        "id": "nHOm7-Rve2lb"
      },
      "source": [
        "### Problem 14\n",
        "\n",
        "##### `What is the maximum value of hardship index in this dataset?`\n"
      ]
    },
    {
      "cell_type": "code",
      "execution_count": null,
      "metadata": {
        "id": "IuKQJAFje2lc",
        "outputId": "19468918-18d5-40e8-a031-126f773e4ed3"
      },
      "outputs": [
        {
          "name": "stdout",
          "output_type": "stream",
          "text": [
            " * ibm_db_sa://zfr48905:***@dashdb-txn-sbox-yp-lon02-02.services.eu-gb.bluemix.net:50000/BLUDB\n",
            "Done.\n"
          ]
        },
        {
          "data": {
            "text/html": [
              "<table>\n",
              "    <tr>\n",
              "        <th>max_hardship_index</th>\n",
              "    </tr>\n",
              "    <tr>\n",
              "        <td>98</td>\n",
              "    </tr>\n",
              "</table>"
            ],
            "text/plain": [
              "[(98,)]"
            ]
          },
          "execution_count": 26,
          "metadata": {},
          "output_type": "execute_result"
        }
      ],
      "source": [
        "%%sql\n",
        "SELECT MAX(HARDSHIP_INDEX) AS MAX_HARDSHIP_INDEX\n",
        "FROM CENSUS_DATA;"
      ]
    },
    {
      "cell_type": "markdown",
      "metadata": {
        "id": "2XKMkEeSe2lc"
      },
      "source": [
        "### Problem 15\n",
        "\n",
        "##### `Which community area which has the highest hardship index?`"
      ]
    },
    {
      "cell_type": "code",
      "execution_count": null,
      "metadata": {
        "id": "xgi3fa4Te2lc",
        "outputId": "09061b11-3e02-4a6e-f69b-64cf485ceea4"
      },
      "outputs": [
        {
          "name": "stdout",
          "output_type": "stream",
          "text": [
            " * ibm_db_sa://zfr48905:***@dashdb-txn-sbox-yp-lon02-02.services.eu-gb.bluemix.net:50000/BLUDB\n",
            "Done.\n"
          ]
        },
        {
          "data": {
            "text/html": [
              "<table>\n",
              "    <tr>\n",
              "        <th>community_area_name</th>\n",
              "        <th>hardship_index</th>\n",
              "    </tr>\n",
              "    <tr>\n",
              "        <td>Riverdale</td>\n",
              "        <td>98</td>\n",
              "    </tr>\n",
              "</table>"
            ],
            "text/plain": [
              "[('Riverdale', 98)]"
            ]
          },
          "execution_count": 27,
          "metadata": {},
          "output_type": "execute_result"
        }
      ],
      "source": [
        "%%sql\n",
        "SELECT COMMUNITY_AREA_NAME,HARDSHIP_INDEX\n",
        "FROM CENSUS_DATA\n",
        "WHERE HARDSHIP_INDEX = (SELECT MAX(HARDSHIP_INDEX) \n",
        "                        FROM CENSUS_DATA) ;"
      ]
    },
    {
      "cell_type": "markdown",
      "metadata": {
        "id": "viJQIuI0e2lc"
      },
      "source": [
        "### Problem 16\n",
        "\n",
        "##### `Which Chicago community areas have per-capita incomes greater than $60,000?`"
      ]
    },
    {
      "cell_type": "code",
      "execution_count": null,
      "metadata": {
        "id": "3Vz7ubZSe2lc",
        "outputId": "3ccaae4e-1b04-4cbb-d561-b0631a4df0e3"
      },
      "outputs": [
        {
          "name": "stdout",
          "output_type": "stream",
          "text": [
            " * ibm_db_sa://zfr48905:***@dashdb-txn-sbox-yp-lon02-02.services.eu-gb.bluemix.net:50000/BLUDB\n",
            "Done.\n"
          ]
        },
        {
          "data": {
            "text/html": [
              "<table>\n",
              "    <tr>\n",
              "        <th>community_area_name</th>\n",
              "        <th>per_capita_income</th>\n",
              "    </tr>\n",
              "    <tr>\n",
              "        <td>Lake View</td>\n",
              "        <td>60058</td>\n",
              "    </tr>\n",
              "    <tr>\n",
              "        <td>Lincoln Park</td>\n",
              "        <td>71551</td>\n",
              "    </tr>\n",
              "    <tr>\n",
              "        <td>Near North Side</td>\n",
              "        <td>88669</td>\n",
              "    </tr>\n",
              "    <tr>\n",
              "        <td>Loop</td>\n",
              "        <td>65526</td>\n",
              "    </tr>\n",
              "</table>"
            ],
            "text/plain": [
              "[('Lake View', 60058),\n",
              " ('Lincoln Park', 71551),\n",
              " ('Near North Side', 88669),\n",
              " ('Loop', 65526)]"
            ]
          },
          "execution_count": 28,
          "metadata": {},
          "output_type": "execute_result"
        }
      ],
      "source": [
        "%%sql\n",
        "SELECT COMMUNITY_AREA_NAME,PER_CAPITA_INCOME\n",
        "FROM CENSUS_DATA\n",
        "WHERE PER_CAPITA_INCOME > 60000 ;"
      ]
    },
    {
      "cell_type": "markdown",
      "metadata": {
        "id": "xq_y_BCoe2ld"
      },
      "source": [
        "### Problem 17\n",
        "\n",
        "##### Create a scatter plot using the variables `per_capita_income_` and `hardship_index`. Explain the correlation between the two variables.\n"
      ]
    },
    {
      "cell_type": "code",
      "execution_count": null,
      "metadata": {
        "id": "I1iGExl3e2ld",
        "outputId": "0192c630-e79e-46da-cf33-1341fc8d6e5e"
      },
      "outputs": [
        {
          "name": "stdout",
          "output_type": "stream",
          "text": [
            " * ibm_db_sa://zfr48905:***@dashdb-txn-sbox-yp-lon02-02.services.eu-gb.bluemix.net:50000/BLUDB\n",
            "Done.\n"
          ]
        },
        {
          "data": {
            "image/png": "[encoded data removed]",
            "text/plain": [
              "<Figure size 432x432 with 3 Axes>"
            ]
          },
          "metadata": {
            "needs_background": "light"
          },
          "output_type": "display_data"
        }
      ],
      "source": [
        "income_vs_hardship = %sql SELECT per_capita_income_, hardship_index FROM chicago_socioeconomic_data;\n",
        "plot = sns.jointplot(x='per_capita_income_',y='hardship_index', data=income_vs_hardship.DataFrame())"
      ]
    },
    {
      "cell_type": "markdown",
      "metadata": {
        "id": "xFj11Ui5e2le"
      },
      "source": [
        "### Problem 18\n",
        "\n",
        "##### `Find the total number of crimes recorded in the CRIME table.`"
      ]
    },
    {
      "cell_type": "code",
      "execution_count": null,
      "metadata": {
        "id": "x_R9v2WEe2lf",
        "outputId": "ea9112b3-bb2a-4a84-9393-69c79a86c69a"
      },
      "outputs": [
        {
          "name": "stdout",
          "output_type": "stream",
          "text": [
            " * ibm_db_sa://zfr48905:***@dashdb-txn-sbox-yp-lon02-02.services.eu-gb.bluemix.net:50000/BLUDB\n",
            "Done.\n"
          ]
        },
        {
          "data": {
            "text/html": [
              "<table>\n",
              "    <tr>\n",
              "        <th>number_of_crimes</th>\n",
              "    </tr>\n",
              "    <tr>\n",
              "        <td>533</td>\n",
              "    </tr>\n",
              "</table>"
            ],
            "text/plain": [
              "[(Decimal('533'),)]"
            ]
          },
          "execution_count": 30,
          "metadata": {},
          "output_type": "execute_result"
        }
      ],
      "source": [
        "%%sql\n",
        "SELECT COUNT(*)AS NUMBER_OF_CRIMES \n",
        "FROM CHICAGO_CRIME_DATA;"
      ]
    },
    {
      "cell_type": "markdown",
      "metadata": {
        "id": "BJfNGmx0e2lf"
      },
      "source": [
        "### Problem 19\n",
        "\n",
        "##### `List community areas with per capita income less than 11000.`"
      ]
    },
    {
      "cell_type": "code",
      "execution_count": null,
      "metadata": {
        "id": "Re3UiW_re2lf",
        "outputId": "96c7117f-393d-4276-aa8c-d3e8abf7254d"
      },
      "outputs": [
        {
          "name": "stdout",
          "output_type": "stream",
          "text": [
            " * ibm_db_sa://zfr48905:***@dashdb-txn-sbox-yp-lon02-02.services.eu-gb.bluemix.net:50000/BLUDB\n",
            "Done.\n"
          ]
        },
        {
          "data": {
            "text/html": [
              "<table>\n",
              "    <tr>\n",
              "        <th>community_area_name</th>\n",
              "        <th>per_capita_income</th>\n",
              "    </tr>\n",
              "    <tr>\n",
              "        <td>West Garfield Park</td>\n",
              "        <td>10934</td>\n",
              "    </tr>\n",
              "    <tr>\n",
              "        <td>South Lawndale</td>\n",
              "        <td>10402</td>\n",
              "    </tr>\n",
              "    <tr>\n",
              "        <td>Fuller Park</td>\n",
              "        <td>10432</td>\n",
              "    </tr>\n",
              "    <tr>\n",
              "        <td>Riverdale</td>\n",
              "        <td>8201</td>\n",
              "    </tr>\n",
              "</table>"
            ],
            "text/plain": [
              "[('West Garfield Park', 10934),\n",
              " ('South Lawndale', 10402),\n",
              " ('Fuller Park', 10432),\n",
              " ('Riverdale', 8201)]"
            ]
          },
          "execution_count": 31,
          "metadata": {},
          "output_type": "execute_result"
        }
      ],
      "source": [
        "%%sql\n",
        "SELECT COMMUNITY_AREA_NAME, PER_CAPITA_INCOME \n",
        "FROM CENSUS_DATA \n",
        "WHERE PER_CAPITA_INCOME < 11000;"
      ]
    },
    {
      "cell_type": "markdown",
      "metadata": {
        "id": "DE3WxP7We2lf"
      },
      "source": [
        "### Problem 20\n",
        "\n",
        "##### List all case numbers for crimes  involving minors?(children are not considered minors for the purposes of crime analysis)"
      ]
    },
    {
      "cell_type": "code",
      "execution_count": null,
      "metadata": {
        "id": "HA0GgFZWe2lf",
        "outputId": "bf94de3c-2881-44cf-a8eb-80fd67b3da26"
      },
      "outputs": [
        {
          "name": "stdout",
          "output_type": "stream",
          "text": [
            " * ibm_db_sa://zfr48905:***@dashdb-txn-sbox-yp-lon02-02.services.eu-gb.bluemix.net:50000/BLUDB\n",
            "Done.\n"
          ]
        },
        {
          "data": {
            "text/html": [
              "<table>\n",
              "    <tr>\n",
              "        <th>case_number</th>\n",
              "    </tr>\n",
              "    <tr>\n",
              "        <td>HL266884</td>\n",
              "    </tr>\n",
              "    <tr>\n",
              "        <td>HK238408</td>\n",
              "    </tr>\n",
              "</table>"
            ],
            "text/plain": [
              "[('HL266884',), ('HK238408',)]"
            ]
          },
          "execution_count": 32,
          "metadata": {},
          "output_type": "execute_result"
        }
      ],
      "source": [
        "%%sql \n",
        "SELECT CASE_NUMBER\n",
        "FROM CHICAGO_CRIME_DATA \n",
        "WHERE DESCRIPTION LIKE '%MINOR%';"
      ]
    },
    {
      "cell_type": "markdown",
      "metadata": {
        "id": "DuXLDV52e2lg"
      },
      "source": [
        "### Problem 21\n",
        "\n",
        "##### `List all kidnapping crimes involving a child?`"
      ]
    },
    {
      "cell_type": "code",
      "execution_count": null,
      "metadata": {
        "id": "Uu1hr__pe2lg",
        "outputId": "371b6ee2-cf98-4949-c288-ede720d850ab"
      },
      "outputs": [
        {
          "name": "stdout",
          "output_type": "stream",
          "text": [
            " * ibm_db_sa://zfr48905:***@dashdb-txn-sbox-yp-lon02-02.services.eu-gb.bluemix.net:50000/BLUDB\n",
            "Done.\n"
          ]
        },
        {
          "data": {
            "text/html": [
              "<table>\n",
              "    <tr>\n",
              "        <th>case_number</th>\n",
              "        <th>primary_type</th>\n",
              "        <th>description</th>\n",
              "    </tr>\n",
              "    <tr>\n",
              "        <td>HN144152</td>\n",
              "        <td>KIDNAPPING</td>\n",
              "        <td>CHILD ABDUCTION/STRANGER</td>\n",
              "    </tr>\n",
              "</table>"
            ],
            "text/plain": [
              "[('HN144152', 'KIDNAPPING', 'CHILD ABDUCTION/STRANGER')]"
            ]
          },
          "execution_count": 33,
          "metadata": {},
          "output_type": "execute_result"
        }
      ],
      "source": [
        "%%sql \n",
        "SELECT CASE_NUMBER, PRIMARY_TYPE, DESCRIPTION\n",
        "FROM CHICAGO_CRIME_DATA\n",
        "WHERE PRIMARY_TYPE = 'KIDNAPPING';"
      ]
    },
    {
      "cell_type": "markdown",
      "metadata": {
        "id": "gSGcYbYxe2lg"
      },
      "source": [
        "### Problem 22\n",
        "\n",
        "##### `What kinds of crimes were recorded at schools?`"
      ]
    },
    {
      "cell_type": "code",
      "execution_count": null,
      "metadata": {
        "id": "VE03K5sIe2lg",
        "outputId": "757d5ba9-69be-40ca-bd0f-2f29bf6de50f"
      },
      "outputs": [
        {
          "name": "stdout",
          "output_type": "stream",
          "text": [
            " * ibm_db_sa://zfr48905:***@dashdb-txn-sbox-yp-lon02-02.services.eu-gb.bluemix.net:50000/BLUDB\n",
            "Done.\n"
          ]
        },
        {
          "data": {
            "text/html": [
              "<table>\n",
              "    <tr>\n",
              "        <th>primary_type</th>\n",
              "    </tr>\n",
              "    <tr>\n",
              "        <td>ASSAULT</td>\n",
              "    </tr>\n",
              "    <tr>\n",
              "        <td>BATTERY</td>\n",
              "    </tr>\n",
              "    <tr>\n",
              "        <td>CRIMINAL DAMAGE</td>\n",
              "    </tr>\n",
              "    <tr>\n",
              "        <td>CRIMINAL TRESPASS</td>\n",
              "    </tr>\n",
              "    <tr>\n",
              "        <td>NARCOTICS</td>\n",
              "    </tr>\n",
              "    <tr>\n",
              "        <td>PUBLIC PEACE VIOLATION</td>\n",
              "    </tr>\n",
              "</table>"
            ],
            "text/plain": [
              "[('ASSAULT',),\n",
              " ('BATTERY',),\n",
              " ('CRIMINAL DAMAGE',),\n",
              " ('CRIMINAL TRESPASS',),\n",
              " ('NARCOTICS',),\n",
              " ('PUBLIC PEACE VIOLATION',)]"
            ]
          },
          "execution_count": 34,
          "metadata": {},
          "output_type": "execute_result"
        }
      ],
      "source": [
        "%%sql\n",
        "SELECT DISTINCT(PRIMARY_TYPE)\n",
        "FROM CHICAGO_CRIME_DATA\n",
        "WHERE LOCATION_DESCRIPTION LIKE '%SCHOOL%';"
      ]
    },
    {
      "cell_type": "markdown",
      "metadata": {
        "id": "7B4Vm_Lhe2lh"
      },
      "source": [
        "### Problem 23\n",
        "\n",
        "##### `List the average safety score for all types of schools.`\n"
      ]
    },
    {
      "cell_type": "code",
      "execution_count": null,
      "metadata": {
        "id": "Z0eccosJe2lh",
        "outputId": "4cddd28e-cac2-4380-b6f1-4fc52552aecf"
      },
      "outputs": [
        {
          "name": "stdout",
          "output_type": "stream",
          "text": [
            " * ibm_db_sa://zfr48905:***@dashdb-txn-sbox-yp-lon02-02.services.eu-gb.bluemix.net:50000/BLUDB\n",
            "Done.\n"
          ]
        },
        {
          "data": {
            "text/html": [
              "<table>\n",
              "    <tr>\n",
              "        <th>Elementary, Middle, or High School</th>\n",
              "        <th>average_safety_score</th>\n",
              "    </tr>\n",
              "    <tr>\n",
              "        <td>ES</td>\n",
              "        <td>49.520383</td>\n",
              "    </tr>\n",
              "    <tr>\n",
              "        <td>HS</td>\n",
              "        <td>49.623529</td>\n",
              "    </tr>\n",
              "    <tr>\n",
              "        <td>MS</td>\n",
              "        <td>48.000000</td>\n",
              "    </tr>\n",
              "</table>"
            ],
            "text/plain": [
              "[('ES', Decimal('49.520383')),\n",
              " ('HS', Decimal('49.623529')),\n",
              " ('MS', Decimal('48.000000'))]"
            ]
          },
          "execution_count": 35,
          "metadata": {},
          "output_type": "execute_result"
        }
      ],
      "source": [
        "%%sql\n",
        "SELECT \"Elementary, Middle, or High School\",AVG(SAFETY_SCORE) AS AVERAGE_SAFETY_SCORE\n",
        "FROM CHICAGO_PUBLIC_SCHOOLS\n",
        "GROUP BY \"Elementary, Middle, or High School\";"
      ]
    },
    {
      "cell_type": "markdown",
      "metadata": {
        "id": "RxowQGv7e2lh"
      },
      "source": [
        "### Problem 24\n",
        "\n",
        "##### `List 5 community areas with highest % of households below poverty line`"
      ]
    },
    {
      "cell_type": "code",
      "execution_count": null,
      "metadata": {
        "id": "z947mj9Ne2lh",
        "outputId": "421c4ebb-fec7-47dc-dae2-3cfd8dcca5a3"
      },
      "outputs": [
        {
          "name": "stdout",
          "output_type": "stream",
          "text": [
            " * ibm_db_sa://zfr48905:***@dashdb-txn-sbox-yp-lon02-02.services.eu-gb.bluemix.net:50000/BLUDB\n",
            "Done.\n"
          ]
        },
        {
          "data": {
            "text/html": [
              "<table>\n",
              "    <tr>\n",
              "        <th>community_area_name</th>\n",
              "        <th>percent_households_below_poverty</th>\n",
              "    </tr>\n",
              "    <tr>\n",
              "        <td>Riverdale</td>\n",
              "        <td>56.5</td>\n",
              "    </tr>\n",
              "    <tr>\n",
              "        <td>Fuller Park</td>\n",
              "        <td>51.2</td>\n",
              "    </tr>\n",
              "    <tr>\n",
              "        <td>Englewood</td>\n",
              "        <td>46.6</td>\n",
              "    </tr>\n",
              "    <tr>\n",
              "        <td>North Lawndale</td>\n",
              "        <td>43.1</td>\n",
              "    </tr>\n",
              "    <tr>\n",
              "        <td>East Garfield Park</td>\n",
              "        <td>42.4</td>\n",
              "    </tr>\n",
              "</table>"
            ],
            "text/plain": [
              "[('Riverdale', Decimal('56.5')),\n",
              " ('Fuller Park', Decimal('51.2')),\n",
              " ('Englewood', Decimal('46.6')),\n",
              " ('North Lawndale', Decimal('43.1')),\n",
              " ('East Garfield Park', Decimal('42.4'))]"
            ]
          },
          "execution_count": 36,
          "metadata": {},
          "output_type": "execute_result"
        }
      ],
      "source": [
        "%%sql\n",
        "SELECT COMMUNITY_AREA_NAME, PERCENT_HOUSEHOLDS_BELOW_POVERTY\n",
        "FROM CENSUS_DATA\n",
        "ORDER BY PERCENT_HOUSEHOLDS_BELOW_POVERTY DESC\n",
        "LIMIT 5 ;"
      ]
    },
    {
      "cell_type": "markdown",
      "metadata": {
        "id": "0DH3CJyee2lh"
      },
      "source": [
        "### Problem 25\n",
        "\n",
        "##### `Which community area is most crime prone?`"
      ]
    },
    {
      "cell_type": "code",
      "execution_count": null,
      "metadata": {
        "id": "v-32U31xe2li",
        "outputId": "c3c157aa-c75b-41bf-c333-6ef182537bc5"
      },
      "outputs": [
        {
          "name": "stdout",
          "output_type": "stream",
          "text": [
            " * ibm_db_sa://zfr48905:***@dashdb-txn-sbox-yp-lon02-02.services.eu-gb.bluemix.net:50000/BLUDB\n",
            "Done.\n"
          ]
        },
        {
          "data": {
            "text/html": [
              "<table>\n",
              "    <tr>\n",
              "        <th>community_area_number</th>\n",
              "        <th>frequency</th>\n",
              "    </tr>\n",
              "    <tr>\n",
              "        <td>25</td>\n",
              "        <td>43</td>\n",
              "    </tr>\n",
              "</table>"
            ],
            "text/plain": [
              "[(25, Decimal('43'))]"
            ]
          },
          "execution_count": 37,
          "metadata": {},
          "output_type": "execute_result"
        }
      ],
      "source": [
        "%%sql\n",
        "SELECT CCD.COMMUNITY_AREA_NUMBER ,COUNT(CCD.COMMUNITY_AREA_NUMBER) AS FREQUENCY\n",
        "FROM CHICAGO_CRIME_DATA AS CCD \n",
        "GROUP BY CCD.COMMUNITY_AREA_NUMBER\n",
        "ORDER BY COUNT(CCD.COMMUNITY_AREA_NUMBER) DESC\n",
        "LIMIT 1"
      ]
    },
    {
      "cell_type": "markdown",
      "metadata": {
        "id": "MlbUUvqEe2li"
      },
      "source": [
        "### Problem 26\n",
        "\n",
        "##### `Use a sub-query to find the name of the community area with highest hardship index`"
      ]
    },
    {
      "cell_type": "code",
      "execution_count": null,
      "metadata": {
        "id": "ht8-QZgWe2li",
        "outputId": "2e189773-a35f-4941-c1b4-e989c6c0d0df"
      },
      "outputs": [
        {
          "name": "stdout",
          "output_type": "stream",
          "text": [
            " * ibm_db_sa://zfr48905:***@dashdb-txn-sbox-yp-lon02-02.services.eu-gb.bluemix.net:50000/BLUDB\n",
            "Done.\n"
          ]
        },
        {
          "data": {
            "text/html": [
              "<table>\n",
              "    <tr>\n",
              "        <th>community_area_name</th>\n",
              "    </tr>\n",
              "    <tr>\n",
              "        <td>Riverdale</td>\n",
              "    </tr>\n",
              "</table>"
            ],
            "text/plain": [
              "[('Riverdale',)]"
            ]
          },
          "execution_count": 38,
          "metadata": {},
          "output_type": "execute_result"
        }
      ],
      "source": [
        "%%sql\n",
        "SELECT COMMUNITY_AREA_NAME\n",
        "FROM  CENSUS_DATA\n",
        "WHERE HARDSHIP_INDEX = (SELECT MAX(HARDSHIP_INDEX) FROM CENSUS_DATA);"
      ]
    },
    {
      "cell_type": "markdown",
      "metadata": {
        "id": "KF2m1Vn5e2li"
      },
      "source": [
        "### Problem 27\n",
        "`\n",
        "##### `Use a sub-query to determine the Community Area Name with most number of crimes?`"
      ]
    },
    {
      "cell_type": "code",
      "execution_count": null,
      "metadata": {
        "id": "8weJhZs5e2li",
        "outputId": "73148b55-99a4-4dcb-a319-c427721c641f"
      },
      "outputs": [
        {
          "name": "stdout",
          "output_type": "stream",
          "text": [
            " * ibm_db_sa://zfr48905:***@dashdb-txn-sbox-yp-lon02-02.services.eu-gb.bluemix.net:50000/BLUDB\n",
            "Done.\n"
          ]
        },
        {
          "data": {
            "text/html": [
              "<table>\n",
              "    <tr>\n",
              "        <th>community_area_name</th>\n",
              "    </tr>\n",
              "    <tr>\n",
              "        <td>Austin</td>\n",
              "    </tr>\n",
              "</table>"
            ],
            "text/plain": [
              "[('Austin',)]"
            ]
          },
          "execution_count": 39,
          "metadata": {},
          "output_type": "execute_result"
        }
      ],
      "source": [
        "%%sql\n",
        "SELECT community_area_name\n",
        "FROM CENSUS_DATA \n",
        "WHERE COMMUNITY_AREA_NUMBER = (    \n",
        "    SELECT CCD.COMMUNITY_AREA_NUMBER \n",
        "    FROM CHICAGO_CRIME_DATA AS CCD \n",
        "    GROUP BY CCD.COMMUNITY_AREA_NUMBER\n",
        "    ORDER BY COUNT(CCD.COMMUNITY_AREA_NUMBER) DESC\n",
        "    LIMIT 1)\n",
        "\n",
        "LIMIT 1;"
      ]
    },
    {
      "cell_type": "markdown",
      "metadata": {
        "id": "xIYfwgQhe2lj"
      },
      "source": [
        "### Problem 28\n",
        "\n",
        "**Write and execute a SQL query to list the school names, community names and average attendance for communities with a hardship index of 98.**"
      ]
    },
    {
      "cell_type": "code",
      "execution_count": null,
      "metadata": {
        "id": "dHDhptrae2lj"
      },
      "outputs": [],
      "source": [
        ""
      ]
    },
    {
      "cell_type": "code",
      "execution_count": null,
      "metadata": {
        "id": "WKsPzFDwe2lj"
      },
      "outputs": [],
      "source": [
        ""
      ]
    },
    {
      "cell_type": "markdown",
      "metadata": {
        "id": "TE61oBQEe2lj"
      },
      "source": [
        "### Problem 29\n",
        "\n",
        "**Write and execute a SQL query to list all crimes that took place at a school. Include case number, crime type and community name.**"
      ]
    },
    {
      "cell_type": "markdown",
      "metadata": {
        "id": "bxjjp6qAe2lj"
      },
      "source": [
        "### Problem 30\n",
        "\n",
        "**Write and execute a SQL statement to create a view showing the columns listed in the following table, with new column names as shown in the second column**"
      ]
    },
    {
      "cell_type": "markdown",
      "metadata": {
        "id": "PS7CT4xYe2lk"
      },
      "source": [
        "### Problem 31\n",
        "\n",
        "**Write the structure of a query to create or replace a stored procedure called UPDATE_LEADERS_SCORE that takes a in_School_ID parameter as an integer and a in_Leader_Score parameter as an integer. Don't forget to use the #SET TERMINATOR statement to use the @ for the CREATE statement terminator.**"
      ]
    },
    {
      "cell_type": "markdown",
      "metadata": {
        "id": "s38_dVAUe2lk"
      },
      "source": [
        "### Problem 32\n",
        "\n",
        "**Inside your stored procedure, write a SQL statement to update the Leaders_Score field in the CHICAGO_PUBLIC_SCHOOLS table for the school identified by in_School_ID to the value in the in_Leader_Score parameter.**"
      ]
    },
    {
      "cell_type": "markdown",
      "metadata": {
        "id": "VYOysq7Ue2lk"
      },
      "source": [
        "### Problem 33\n",
        "\n",
        "**Inside your stored procedure, write a SQL IF statement to update the Leaders_Icon field in the CHICAGO_PUBLIC_SCHOOLS table for the school identified by in_School_ID using the following information.**"
      ]
    },
    {
      "cell_type": "markdown",
      "metadata": {
        "id": "zC3klF8Pe2lk"
      },
      "source": [
        "### Problem 34\n",
        "\n",
        "**Write a query to call the stored procedure, passing a valid school ID and a leader score of 50, to check that the procedure works as expected.**"
      ]
    },
    {
      "cell_type": "markdown",
      "metadata": {
        "id": "f__hPJL9e2lk"
      },
      "source": [
        "### Problem 35\n",
        "\n",
        "**Update your stored procedure definition. Add a generic ELSE clause to the IF statement that rolls back the current work if the score did not fit any of the preceding categories.**"
      ]
    },
    {
      "cell_type": "markdown",
      "metadata": {
        "id": "GQKou7moe2ll"
      },
      "source": [
        "### Problem 36\n",
        "\n",
        "**Update your stored procedure definition again. Add a statement to commit the current unit of work at the end of the procedure.**"
      ]
    },
    {
      "cell_type": "code",
      "execution_count": null,
      "metadata": {
        "id": "QB9oNRGee2ll"
      },
      "outputs": [],
      "source": [
        ""
      ]
    },
    {
      "cell_type": "code",
      "execution_count": null,
      "metadata": {
        "id": "hX1NlR7be2ll"
      },
      "outputs": [],
      "source": [
        ""
      ]
    },
    {
      "cell_type": "code",
      "execution_count": null,
      "metadata": {
        "id": "7TTMFit8e2ll"
      },
      "outputs": [],
      "source": [
        ""
      ]
    },
    {
      "cell_type": "markdown",
      "metadata": {
        "id": "nme3rGmbe2ln"
      },
      "source": [
        "#  `VIEW`\n",
        "\n",
        "**create view**"
      ]
    },
    {
      "cell_type": "code",
      "execution_count": null,
      "metadata": {
        "id": "OM1WA2qWe2ln",
        "outputId": "ba5a699b-1b5e-4e47-d91b-931851cee8d3"
      },
      "outputs": [
        {
          "name": "stdout",
          "output_type": "stream",
          "text": [
            " * ibm_db_sa://zfr48905:***@dashdb-txn-sbox-yp-lon02-02.services.eu-gb.bluemix.net:50000/BLUDB\n",
            "Done.\n"
          ]
        },
        {
          "data": {
            "text/plain": [
              "[]"
            ]
          },
          "execution_count": 4,
          "metadata": {},
          "output_type": "execute_result"
        }
      ],
      "source": [
        "\n",
        "%%sql\n",
        "CREATE VIEW EMPSALARY AS \n",
        "SELECT EMP_ID, F_NAME, L_NAME, B_DATE, SEX, SALARY\n",
        "FROM EMPLOYEES; "
      ]
    },
    {
      "cell_type": "markdown",
      "metadata": {
        "id": "66nQaKOKe2ln"
      },
      "source": [
        "**update view**"
      ]
    },
    {
      "cell_type": "code",
      "execution_count": null,
      "metadata": {
        "id": "J23pZU6Ee2ln",
        "outputId": "8c70dcd5-2f6a-40d8-8121-4dff0a861f9e"
      },
      "outputs": [
        {
          "name": "stdout",
          "output_type": "stream",
          "text": [
            " * ibm_db_sa://zfr48905:***@dashdb-txn-sbox-yp-lon02-02.services.eu-gb.bluemix.net:50000/BLUDB\n",
            "Done.\n"
          ]
        },
        {
          "data": {
            "text/plain": [
              "[]"
            ]
          },
          "execution_count": 5,
          "metadata": {},
          "output_type": "execute_result"
        }
      ],
      "source": [
        "\n",
        "%%sql\n",
        "CREATE OR REPLACE VIEW EMPSALARY  AS \n",
        "SELECT EMP_ID, F_NAME, L_NAME, B_DATE, SEX, JOB_TITLE, MIN_SALARY, MAX_SALARY\n",
        "FROM EMPLOYEES, JOBS\n",
        "WHERE EMPLOYEES.JOB_ID = JOBS.JOB_IDENT;"
      ]
    },
    {
      "cell_type": "markdown",
      "metadata": {
        "id": "T7kSJ4xBe2lo"
      },
      "source": [
        "**query from view**"
      ]
    },
    {
      "cell_type": "code",
      "execution_count": null,
      "metadata": {
        "id": "VZ7f_s3ve2lo",
        "outputId": "190c1077-a9d3-4a7b-b230-582956a88c86"
      },
      "outputs": [
        {
          "name": "stdout",
          "output_type": "stream",
          "text": [
            " * ibm_db_sa://zfr48905:***@dashdb-txn-sbox-yp-lon02-02.services.eu-gb.bluemix.net:50000/BLUDB\n",
            "Done.\n"
          ]
        },
        {
          "data": {
            "text/html": [
              "<table>\n",
              "    <tr>\n",
              "        <th>emp_id</th>\n",
              "        <th>f_name</th>\n",
              "        <th>l_name</th>\n",
              "        <th>b_date</th>\n",
              "        <th>sex</th>\n",
              "        <th>job_title</th>\n",
              "        <th>min_salary</th>\n",
              "        <th>max_salary</th>\n",
              "    </tr>\n",
              "    <tr>\n",
              "        <td>E1001    </td>\n",
              "        <td>John</td>\n",
              "        <td>Thomas</td>\n",
              "        <td>1976-01-09</td>\n",
              "        <td>M</td>\n",
              "        <td>Sr. Architect</td>\n",
              "        <td>60000.00</td>\n",
              "        <td>100000.00</td>\n",
              "    </tr>\n",
              "    <tr>\n",
              "        <td>E1002    </td>\n",
              "        <td>Alice</td>\n",
              "        <td>James</td>\n",
              "        <td>1972-07-31</td>\n",
              "        <td>F</td>\n",
              "        <td>Sr.Software Dev</td>\n",
              "        <td>60000.00</td>\n",
              "        <td>80000.00</td>\n",
              "    </tr>\n",
              "    <tr>\n",
              "        <td>E1003    </td>\n",
              "        <td>Steve</td>\n",
              "        <td>Wells</td>\n",
              "        <td>1980-08-10</td>\n",
              "        <td>M</td>\n",
              "        <td>Jr.Software Dev</td>\n",
              "        <td>40000.00</td>\n",
              "        <td>60000.00</td>\n",
              "    </tr>\n",
              "    <tr>\n",
              "        <td>E1004    </td>\n",
              "        <td>Santosh</td>\n",
              "        <td>Kumar</td>\n",
              "        <td>1985-07-20</td>\n",
              "        <td>M</td>\n",
              "        <td>Jr.Software Dev</td>\n",
              "        <td>40000.00</td>\n",
              "        <td>60000.00</td>\n",
              "    </tr>\n",
              "    <tr>\n",
              "        <td>E1005    </td>\n",
              "        <td>Ahmed</td>\n",
              "        <td>Hussain</td>\n",
              "        <td>1981-01-04</td>\n",
              "        <td>M</td>\n",
              "        <td>Jr. Architect</td>\n",
              "        <td>50000.00</td>\n",
              "        <td>70000.00</td>\n",
              "    </tr>\n",
              "    <tr>\n",
              "        <td>E1006    </td>\n",
              "        <td>Nancy</td>\n",
              "        <td>Allen</td>\n",
              "        <td>1978-02-06</td>\n",
              "        <td>F</td>\n",
              "        <td>Lead Architect</td>\n",
              "        <td>70000.00</td>\n",
              "        <td>100000.00</td>\n",
              "    </tr>\n",
              "    <tr>\n",
              "        <td>E1007    </td>\n",
              "        <td>Mary</td>\n",
              "        <td>Thomas</td>\n",
              "        <td>1975-05-05</td>\n",
              "        <td>F</td>\n",
              "        <td>Jr. Designer</td>\n",
              "        <td>60000.00</td>\n",
              "        <td>70000.00</td>\n",
              "    </tr>\n",
              "    <tr>\n",
              "        <td>E1008    </td>\n",
              "        <td>Bharath</td>\n",
              "        <td>Gupta</td>\n",
              "        <td>1985-05-06</td>\n",
              "        <td>M</td>\n",
              "        <td>Jr. Designer</td>\n",
              "        <td>60000.00</td>\n",
              "        <td>70000.00</td>\n",
              "    </tr>\n",
              "    <tr>\n",
              "        <td>E1009    </td>\n",
              "        <td>Andrea</td>\n",
              "        <td>Jones</td>\n",
              "        <td>1990-07-09</td>\n",
              "        <td>F</td>\n",
              "        <td>Sr. Designer</td>\n",
              "        <td>70000.00</td>\n",
              "        <td>90000.00</td>\n",
              "    </tr>\n",
              "    <tr>\n",
              "        <td>E1010    </td>\n",
              "        <td>Ann</td>\n",
              "        <td>Jacob</td>\n",
              "        <td>1982-03-30</td>\n",
              "        <td>F</td>\n",
              "        <td>Sr. Designer</td>\n",
              "        <td>70000.00</td>\n",
              "        <td>90000.00</td>\n",
              "    </tr>\n",
              "</table>"
            ],
            "text/plain": [
              "[('E1001    ', 'John', 'Thomas', datetime.date(1976, 1, 9), 'M', 'Sr. Architect', Decimal('60000.00'), Decimal('100000.00')),\n",
              " ('E1002    ', 'Alice', 'James', datetime.date(1972, 7, 31), 'F', 'Sr.Software Dev', Decimal('60000.00'), Decimal('80000.00')),\n",
              " ('E1003    ', 'Steve', 'Wells', datetime.date(1980, 8, 10), 'M', 'Jr.Software Dev', Decimal('40000.00'), Decimal('60000.00')),\n",
              " ('E1004    ', 'Santosh', 'Kumar', datetime.date(1985, 7, 20), 'M', 'Jr.Software Dev', Decimal('40000.00'), Decimal('60000.00')),\n",
              " ('E1005    ', 'Ahmed', 'Hussain', datetime.date(1981, 1, 4), 'M', 'Jr. Architect', Decimal('50000.00'), Decimal('70000.00')),\n",
              " ('E1006    ', 'Nancy', 'Allen', datetime.date(1978, 2, 6), 'F', 'Lead Architect', Decimal('70000.00'), Decimal('100000.00')),\n",
              " ('E1007    ', 'Mary', 'Thomas', datetime.date(1975, 5, 5), 'F', 'Jr. Designer', Decimal('60000.00'), Decimal('70000.00')),\n",
              " ('E1008    ', 'Bharath', 'Gupta', datetime.date(1985, 5, 6), 'M', 'Jr. Designer', Decimal('60000.00'), Decimal('70000.00')),\n",
              " ('E1009    ', 'Andrea', 'Jones', datetime.date(1990, 7, 9), 'F', 'Sr. Designer', Decimal('70000.00'), Decimal('90000.00')),\n",
              " ('E1010    ', 'Ann', 'Jacob', datetime.date(1982, 3, 30), 'F', 'Sr. Designer', Decimal('70000.00'), Decimal('90000.00'))]"
            ]
          },
          "execution_count": 6,
          "metadata": {},
          "output_type": "execute_result"
        }
      ],
      "source": [
        "\n",
        "%%sql\n",
        "SELECT * FROM EMPSALARY;"
      ]
    },
    {
      "cell_type": "code",
      "execution_count": null,
      "metadata": {
        "id": "jTlZzzCve2lo",
        "outputId": "ee56328a-7d30-4643-ca52-f54be010a6cf"
      },
      "outputs": [
        {
          "name": "stdout",
          "output_type": "stream",
          "text": [
            " * ibm_db_sa://zfr48905:***@dashdb-txn-sbox-yp-lon02-02.services.eu-gb.bluemix.net:50000/BLUDB\n",
            "Done.\n"
          ]
        },
        {
          "data": {
            "text/html": [
              "<table>\n",
              "    <tr>\n",
              "        <th>emp_id</th>\n",
              "        <th>f_name</th>\n",
              "        <th>l_name</th>\n",
              "        <th>b_date</th>\n",
              "        <th>sex</th>\n",
              "        <th>job_title</th>\n",
              "        <th>min_salary</th>\n",
              "        <th>max_salary</th>\n",
              "    </tr>\n",
              "    <tr>\n",
              "        <td>E1001    </td>\n",
              "        <td>John</td>\n",
              "        <td>Thomas</td>\n",
              "        <td>1976-01-09</td>\n",
              "        <td>M</td>\n",
              "        <td>Sr. Architect</td>\n",
              "        <td>60000.00</td>\n",
              "        <td>100000.00</td>\n",
              "    </tr>\n",
              "    <tr>\n",
              "        <td>E1002    </td>\n",
              "        <td>Alice</td>\n",
              "        <td>James</td>\n",
              "        <td>1972-07-31</td>\n",
              "        <td>F</td>\n",
              "        <td>Sr.Software Dev</td>\n",
              "        <td>60000.00</td>\n",
              "        <td>80000.00</td>\n",
              "    </tr>\n",
              "    <tr>\n",
              "        <td>E1007    </td>\n",
              "        <td>Mary</td>\n",
              "        <td>Thomas</td>\n",
              "        <td>1975-05-05</td>\n",
              "        <td>F</td>\n",
              "        <td>Jr. Designer</td>\n",
              "        <td>60000.00</td>\n",
              "        <td>70000.00</td>\n",
              "    </tr>\n",
              "    <tr>\n",
              "        <td>E1008    </td>\n",
              "        <td>Bharath</td>\n",
              "        <td>Gupta</td>\n",
              "        <td>1985-05-06</td>\n",
              "        <td>M</td>\n",
              "        <td>Jr. Designer</td>\n",
              "        <td>60000.00</td>\n",
              "        <td>70000.00</td>\n",
              "    </tr>\n",
              "</table>"
            ],
            "text/plain": [
              "[('E1001    ', 'John', 'Thomas', datetime.date(1976, 1, 9), 'M', 'Sr. Architect', Decimal('60000.00'), Decimal('100000.00')),\n",
              " ('E1002    ', 'Alice', 'James', datetime.date(1972, 7, 31), 'F', 'Sr.Software Dev', Decimal('60000.00'), Decimal('80000.00')),\n",
              " ('E1007    ', 'Mary', 'Thomas', datetime.date(1975, 5, 5), 'F', 'Jr. Designer', Decimal('60000.00'), Decimal('70000.00')),\n",
              " ('E1008    ', 'Bharath', 'Gupta', datetime.date(1985, 5, 6), 'M', 'Jr. Designer', Decimal('60000.00'), Decimal('70000.00'))]"
            ]
          },
          "execution_count": 9,
          "metadata": {},
          "output_type": "execute_result"
        }
      ],
      "source": [
        "%%sql\n",
        "SELECT * \n",
        "FROM EMPSALARY\n",
        "WHERE min_salary = 60000 ;"
      ]
    },
    {
      "cell_type": "code",
      "execution_count": null,
      "metadata": {
        "id": "f3lllYHse2lo",
        "outputId": "13d614bd-eaee-4a20-b4fd-cc91697f9624"
      },
      "outputs": [
        {
          "name": "stdout",
          "output_type": "stream",
          "text": [
            " * ibm_db_sa://zfr48905:***@dashdb-txn-sbox-yp-lon02-02.services.eu-gb.bluemix.net:50000/BLUDB\n",
            "Done.\n"
          ]
        },
        {
          "data": {
            "text/plain": [
              "[]"
            ]
          },
          "execution_count": 10,
          "metadata": {},
          "output_type": "execute_result"
        }
      ],
      "source": [
        "\n",
        "%%sql\n",
        "DROP VIEW EMPSALARY;"
      ]
    },
    {
      "cell_type": "markdown",
      "metadata": {
        "id": "nssrFbMqe2lp"
      },
      "source": [
        "# `JOIN`"
      ]
    },
    {
      "cell_type": "code",
      "execution_count": null,
      "metadata": {
        "id": "Rulc1ysYe2lp",
        "outputId": "d42bc5ad-36bd-4b6a-a02c-4682e949ad32"
      },
      "outputs": [
        {
          "name": "stdout",
          "output_type": "stream",
          "text": [
            " * ibm_db_sa://zfr48905:***@dashdb-txn-sbox-yp-lon02-02.services.eu-gb.bluemix.net:50000/BLUDB\n",
            "Done.\n"
          ]
        },
        {
          "data": {
            "text/html": [
              "<table>\n",
              "    <tr>\n",
              "        <th>emp_id</th>\n",
              "        <th>f_name</th>\n",
              "        <th>l_name</th>\n",
              "        <th>ssn</th>\n",
              "        <th>b_date</th>\n",
              "        <th>sex</th>\n",
              "        <th>address</th>\n",
              "        <th>job_id</th>\n",
              "        <th>salary</th>\n",
              "        <th>manager_id</th>\n",
              "        <th>dep_id</th>\n",
              "    </tr>\n",
              "    <tr>\n",
              "        <td>E1001    </td>\n",
              "        <td>John</td>\n",
              "        <td>Thomas</td>\n",
              "        <td>123456   </td>\n",
              "        <td>1976-01-09</td>\n",
              "        <td>M</td>\n",
              "        <td>5631 Rice, OakPark,IL</td>\n",
              "        <td>100      </td>\n",
              "        <td>100000.00</td>\n",
              "        <td>30001    </td>\n",
              "        <td>2        </td>\n",
              "    </tr>\n",
              "</table>"
            ],
            "text/plain": [
              "[('E1001    ', 'John', 'Thomas', '123456   ', datetime.date(1976, 1, 9), 'M', '5631 Rice, OakPark,IL', '100      ', Decimal('100000.00'), '30001    ', '2        ')]"
            ]
          },
          "execution_count": 44,
          "metadata": {},
          "output_type": "execute_result"
        }
      ],
      "source": [
        "%%sql\n",
        "select * FROM EMPLOYEES LIMIT 1"
      ]
    },
    {
      "cell_type": "code",
      "execution_count": null,
      "metadata": {
        "id": "zdh4_pkHe2lp",
        "outputId": "7300b2e5-8cf4-4c30-f52e-7ddf5d91a196"
      },
      "outputs": [
        {
          "name": "stdout",
          "output_type": "stream",
          "text": [
            " * ibm_db_sa://zfr48905:***@dashdb-txn-sbox-yp-lon02-02.services.eu-gb.bluemix.net:50000/BLUDB\n",
            "Done.\n"
          ]
        },
        {
          "data": {
            "text/html": [
              "<table>\n",
              "    <tr>\n",
              "        <th>empl_id</th>\n",
              "        <th>start_date</th>\n",
              "        <th>jobs_id</th>\n",
              "        <th>dept_id</th>\n",
              "    </tr>\n",
              "    <tr>\n",
              "        <td>E1001    </td>\n",
              "        <td>2000-08-01</td>\n",
              "        <td>100      </td>\n",
              "        <td>2        </td>\n",
              "    </tr>\n",
              "</table>"
            ],
            "text/plain": [
              "[('E1001    ', datetime.date(2000, 8, 1), '100      ', '2        ')]"
            ]
          },
          "execution_count": 45,
          "metadata": {},
          "output_type": "execute_result"
        }
      ],
      "source": [
        "%%sql\n",
        "select * FROM JOB_HISTORY LIMIT 1"
      ]
    },
    {
      "cell_type": "code",
      "execution_count": null,
      "metadata": {
        "id": "f4ElrGCDe2lp",
        "outputId": "347edf44-2e90-446c-b3b9-885db5674c6f"
      },
      "outputs": [
        {
          "name": "stdout",
          "output_type": "stream",
          "text": [
            " * ibm_db_sa://zfr48905:***@dashdb-txn-sbox-yp-lon02-02.services.eu-gb.bluemix.net:50000/BLUDB\n",
            "Done.\n"
          ]
        },
        {
          "data": {
            "text/html": [
              "<table>\n",
              "    <tr>\n",
              "        <th>job_ident</th>\n",
              "        <th>job_title</th>\n",
              "        <th>min_salary</th>\n",
              "        <th>max_salary</th>\n",
              "    </tr>\n",
              "    <tr>\n",
              "        <td>100      </td>\n",
              "        <td>Sr. Architect</td>\n",
              "        <td>60000.00</td>\n",
              "        <td>100000.00</td>\n",
              "    </tr>\n",
              "</table>"
            ],
            "text/plain": [
              "[('100      ', 'Sr. Architect', Decimal('60000.00'), Decimal('100000.00'))]"
            ]
          },
          "execution_count": 48,
          "metadata": {},
          "output_type": "execute_result"
        }
      ],
      "source": [
        "%%sql\n",
        "select * FROM JOBS LIMIT 1"
      ]
    },
    {
      "cell_type": "code",
      "execution_count": null,
      "metadata": {
        "id": "fNh1Z8sKe2lq",
        "outputId": "b71e4642-dcd1-43bf-cb33-228caf876d79"
      },
      "outputs": [
        {
          "name": "stdout",
          "output_type": "stream",
          "text": [
            " * ibm_db_sa://zfr48905:***@dashdb-txn-sbox-yp-lon02-02.services.eu-gb.bluemix.net:50000/BLUDB\n",
            "Done.\n"
          ]
        },
        {
          "data": {
            "text/html": [
              "<table>\n",
              "    <tr>\n",
              "        <th>loct_id</th>\n",
              "        <th>dep_id_loc</th>\n",
              "    </tr>\n",
              "    <tr>\n",
              "        <td>L0001    </td>\n",
              "        <td>2        </td>\n",
              "    </tr>\n",
              "</table>"
            ],
            "text/plain": [
              "[('L0001    ', '2        ')]"
            ]
          },
          "execution_count": 51,
          "metadata": {},
          "output_type": "execute_result"
        }
      ],
      "source": [
        "%%sql\n",
        "select * FROM LOCATIONS LIMIT 1"
      ]
    },
    {
      "cell_type": "code",
      "execution_count": null,
      "metadata": {
        "id": "G7dQ-d9Me2lq",
        "outputId": "9ec5e72d-c9f9-49cc-c9fc-13f47e777621"
      },
      "outputs": [
        {
          "name": "stdout",
          "output_type": "stream",
          "text": [
            " * ibm_db_sa://zfr48905:***@dashdb-txn-sbox-yp-lon02-02.services.eu-gb.bluemix.net:50000/BLUDB\n",
            "Done.\n"
          ]
        },
        {
          "data": {
            "text/html": [
              "<table>\n",
              "    <tr>\n",
              "        <th>dept_id_dep</th>\n",
              "        <th>dep_name</th>\n",
              "        <th>manager_id</th>\n",
              "        <th>loc_id</th>\n",
              "    </tr>\n",
              "    <tr>\n",
              "        <td>2        </td>\n",
              "        <td>Architect Group</td>\n",
              "        <td>30001    </td>\n",
              "        <td>L0001    </td>\n",
              "    </tr>\n",
              "</table>"
            ],
            "text/plain": [
              "[('2        ', 'Architect Group', '30001    ', 'L0001    ')]"
            ]
          },
          "execution_count": 55,
          "metadata": {},
          "output_type": "execute_result"
        }
      ],
      "source": [
        "%%sql\n",
        "select * FROM DEPARTMENTS LIMIT 1"
      ]
    },
    {
      "cell_type": "markdown",
      "metadata": {
        "id": "QocXYVzie2lq"
      },
      "source": [
        "**Problem:1**\n",
        "\n",
        "Select the names and job start dates of all employees who work for the department number 5."
      ]
    },
    {
      "cell_type": "code",
      "execution_count": null,
      "metadata": {
        "id": "DdYAHJJWe2lq",
        "outputId": "64bf49f3-0a2c-40c9-d39a-9dc15665a945"
      },
      "outputs": [
        {
          "name": "stdout",
          "output_type": "stream",
          "text": [
            " * ibm_db_sa://zfr48905:***@dashdb-txn-sbox-yp-lon02-02.services.eu-gb.bluemix.net:50000/BLUDB\n",
            "Done.\n"
          ]
        },
        {
          "data": {
            "text/html": [
              "<table>\n",
              "    <tr>\n",
              "        <th>f_name</th>\n",
              "        <th>l_name</th>\n",
              "        <th>start_date</th>\n",
              "    </tr>\n",
              "    <tr>\n",
              "        <td>Alice</td>\n",
              "        <td>James</td>\n",
              "        <td>2001-08-01</td>\n",
              "    </tr>\n",
              "    <tr>\n",
              "        <td>Steve</td>\n",
              "        <td>Wells</td>\n",
              "        <td>2001-08-16</td>\n",
              "    </tr>\n",
              "    <tr>\n",
              "        <td>Santosh</td>\n",
              "        <td>Kumar</td>\n",
              "        <td>2000-08-16</td>\n",
              "    </tr>\n",
              "    <tr>\n",
              "        <td>Ann</td>\n",
              "        <td>Jacob</td>\n",
              "        <td>2016-08-16</td>\n",
              "    </tr>\n",
              "</table>"
            ],
            "text/plain": [
              "[('Alice', 'James', datetime.date(2001, 8, 1)),\n",
              " ('Steve', 'Wells', datetime.date(2001, 8, 16)),\n",
              " ('Santosh', 'Kumar', datetime.date(2000, 8, 16)),\n",
              " ('Ann', 'Jacob', datetime.date(2016, 8, 16))]"
            ]
          },
          "execution_count": 38,
          "metadata": {},
          "output_type": "execute_result"
        }
      ],
      "source": [
        "%%sql\n",
        "select E.F_NAME,E.L_NAME, JH.START_DATE \n",
        "from EMPLOYEES as E \n",
        "INNER JOIN JOB_HISTORY as JH on E.EMP_ID=JH.EMPL_ID \n",
        "where E.DEP_ID ='5';"
      ]
    },
    {
      "cell_type": "markdown",
      "metadata": {
        "id": "oH4JjYIhe2lr"
      },
      "source": [
        "**Problem:2**\n",
        "\n",
        "Select the names, job start dates, and job titles of all employees who work for the department number 5."
      ]
    },
    {
      "cell_type": "code",
      "execution_count": null,
      "metadata": {
        "id": "z5fnz_ute2lr",
        "outputId": "64e66a80-bd1f-471d-9a55-9599b76f2513"
      },
      "outputs": [
        {
          "name": "stdout",
          "output_type": "stream",
          "text": [
            " * ibm_db_sa://zfr48905:***@dashdb-txn-sbox-yp-lon02-02.services.eu-gb.bluemix.net:50000/BLUDB\n",
            "Done.\n"
          ]
        },
        {
          "data": {
            "text/html": [
              "<table>\n",
              "    <tr>\n",
              "        <th>f_name</th>\n",
              "        <th>l_name</th>\n",
              "        <th>start_date</th>\n",
              "        <th>job_title</th>\n",
              "    </tr>\n",
              "    <tr>\n",
              "        <td>Alice</td>\n",
              "        <td>James</td>\n",
              "        <td>2001-08-01</td>\n",
              "        <td>Sr.Software Dev</td>\n",
              "    </tr>\n",
              "    <tr>\n",
              "        <td>Ann</td>\n",
              "        <td>Jacob</td>\n",
              "        <td>2016-08-16</td>\n",
              "        <td>Sr. Designer</td>\n",
              "    </tr>\n",
              "    <tr>\n",
              "        <td>Steve</td>\n",
              "        <td>Wells</td>\n",
              "        <td>2001-08-16</td>\n",
              "        <td>Jr.Software Dev</td>\n",
              "    </tr>\n",
              "    <tr>\n",
              "        <td>Santosh</td>\n",
              "        <td>Kumar</td>\n",
              "        <td>2000-08-16</td>\n",
              "        <td>Jr.Software Dev</td>\n",
              "    </tr>\n",
              "</table>"
            ],
            "text/plain": [
              "[('Alice', 'James', datetime.date(2001, 8, 1), 'Sr.Software Dev'),\n",
              " ('Ann', 'Jacob', datetime.date(2016, 8, 16), 'Sr. Designer'),\n",
              " ('Steve', 'Wells', datetime.date(2001, 8, 16), 'Jr.Software Dev'),\n",
              " ('Santosh', 'Kumar', datetime.date(2000, 8, 16), 'Jr.Software Dev')]"
            ]
          },
          "execution_count": 39,
          "metadata": {},
          "output_type": "execute_result"
        }
      ],
      "source": [
        "%%sql\n",
        "select E.F_NAME,E.L_NAME, JH.START_DATE, J.JOB_TITLE \n",
        "from EMPLOYEES as E \n",
        "INNER JOIN JOB_HISTORY as JH on E.EMP_ID=JH.EMPL_ID \n",
        "INNER JOIN JOBS as J on E.JOB_ID=J.JOB_IDENT\n",
        "where E.DEP_ID ='5';"
      ]
    },
    {
      "cell_type": "markdown",
      "metadata": {
        "id": "1mHDGEu2e2lr"
      },
      "source": [
        "**Problem:3**\n",
        "\n",
        "Perform a Left Outer Join on the EMPLOYEES and DEPARTMENT tables and select employee id, last name, department id and department name for all employees."
      ]
    },
    {
      "cell_type": "code",
      "execution_count": null,
      "metadata": {
        "id": "Du4ZLI2Ke2lr",
        "outputId": "2ead66d6-afe9-4055-a7e9-1f651df38895"
      },
      "outputs": [
        {
          "name": "stdout",
          "output_type": "stream",
          "text": [
            " * ibm_db_sa://zfr48905:***@dashdb-txn-sbox-yp-lon02-02.services.eu-gb.bluemix.net:50000/BLUDB\n",
            "Done.\n"
          ]
        },
        {
          "data": {
            "text/html": [
              "<table>\n",
              "    <tr>\n",
              "        <th>emp_id</th>\n",
              "        <th>l_name</th>\n",
              "        <th>dep_id</th>\n",
              "        <th>dep_name</th>\n",
              "    </tr>\n",
              "    <tr>\n",
              "        <td>E1001    </td>\n",
              "        <td>Thomas</td>\n",
              "        <td>2        </td>\n",
              "        <td>Architect Group</td>\n",
              "    </tr>\n",
              "    <tr>\n",
              "        <td>E1006    </td>\n",
              "        <td>Allen</td>\n",
              "        <td>2        </td>\n",
              "        <td>Architect Group</td>\n",
              "    </tr>\n",
              "    <tr>\n",
              "        <td>E1005    </td>\n",
              "        <td>Hussain</td>\n",
              "        <td>2        </td>\n",
              "        <td>Architect Group</td>\n",
              "    </tr>\n",
              "    <tr>\n",
              "        <td>E1002    </td>\n",
              "        <td>James</td>\n",
              "        <td>5        </td>\n",
              "        <td>Software Group</td>\n",
              "    </tr>\n",
              "    <tr>\n",
              "        <td>E1010    </td>\n",
              "        <td>Jacob</td>\n",
              "        <td>5        </td>\n",
              "        <td>Software Group</td>\n",
              "    </tr>\n",
              "    <tr>\n",
              "        <td>E1004    </td>\n",
              "        <td>Kumar</td>\n",
              "        <td>5        </td>\n",
              "        <td>Software Group</td>\n",
              "    </tr>\n",
              "    <tr>\n",
              "        <td>E1003    </td>\n",
              "        <td>Wells</td>\n",
              "        <td>5        </td>\n",
              "        <td>Software Group</td>\n",
              "    </tr>\n",
              "    <tr>\n",
              "        <td>E1007    </td>\n",
              "        <td>Thomas</td>\n",
              "        <td>7        </td>\n",
              "        <td>Design Team</td>\n",
              "    </tr>\n",
              "    <tr>\n",
              "        <td>E1009    </td>\n",
              "        <td>Jones</td>\n",
              "        <td>7        </td>\n",
              "        <td>Design Team</td>\n",
              "    </tr>\n",
              "    <tr>\n",
              "        <td>E1008    </td>\n",
              "        <td>Gupta</td>\n",
              "        <td>7        </td>\n",
              "        <td>Design Team</td>\n",
              "    </tr>\n",
              "</table>"
            ],
            "text/plain": [
              "[('E1001    ', 'Thomas', '2        ', 'Architect Group'),\n",
              " ('E1006    ', 'Allen', '2        ', 'Architect Group'),\n",
              " ('E1005    ', 'Hussain', '2        ', 'Architect Group'),\n",
              " ('E1002    ', 'James', '5        ', 'Software Group'),\n",
              " ('E1010    ', 'Jacob', '5        ', 'Software Group'),\n",
              " ('E1004    ', 'Kumar', '5        ', 'Software Group'),\n",
              " ('E1003    ', 'Wells', '5        ', 'Software Group'),\n",
              " ('E1007    ', 'Thomas', '7        ', 'Design Team'),\n",
              " ('E1009    ', 'Jones', '7        ', 'Design Team'),\n",
              " ('E1008    ', 'Gupta', '7        ', 'Design Team')]"
            ]
          },
          "execution_count": 41,
          "metadata": {},
          "output_type": "execute_result"
        }
      ],
      "source": [
        "%%sql\n",
        "select E.EMP_ID,E.L_NAME,E.DEP_ID,D.DEP_NAME\n",
        "from EMPLOYEES AS E \n",
        "LEFT OUTER JOIN DEPARTMENTS AS D ON E.DEP_ID=D.DEPT_ID_DEP;"
      ]
    },
    {
      "cell_type": "markdown",
      "metadata": {
        "id": "2JXstMRge2lr"
      },
      "source": [
        "**Problem:4**\n",
        "\n",
        "Re-write the previous query but limit the result set to include only the rows for employees born before 1980."
      ]
    },
    {
      "cell_type": "code",
      "execution_count": null,
      "metadata": {
        "id": "tJfCkjaBe2ls",
        "outputId": "70a98b0c-25ee-4bb6-f38a-cea1af47d34c"
      },
      "outputs": [
        {
          "name": "stdout",
          "output_type": "stream",
          "text": [
            " * ibm_db_sa://zfr48905:***@dashdb-txn-sbox-yp-lon02-02.services.eu-gb.bluemix.net:50000/BLUDB\n",
            "Done.\n"
          ]
        },
        {
          "data": {
            "text/html": [
              "<table>\n",
              "    <tr>\n",
              "        <th>emp_id</th>\n",
              "        <th>l_name</th>\n",
              "        <th>dep_id</th>\n",
              "        <th>dep_name</th>\n",
              "    </tr>\n",
              "    <tr>\n",
              "        <td>E1001    </td>\n",
              "        <td>Thomas</td>\n",
              "        <td>2        </td>\n",
              "        <td>Architect Group</td>\n",
              "    </tr>\n",
              "    <tr>\n",
              "        <td>E1006    </td>\n",
              "        <td>Allen</td>\n",
              "        <td>2        </td>\n",
              "        <td>Architect Group</td>\n",
              "    </tr>\n",
              "    <tr>\n",
              "        <td>E1002    </td>\n",
              "        <td>James</td>\n",
              "        <td>5        </td>\n",
              "        <td>Software Group</td>\n",
              "    </tr>\n",
              "    <tr>\n",
              "        <td>E1007    </td>\n",
              "        <td>Thomas</td>\n",
              "        <td>7        </td>\n",
              "        <td>Design Team</td>\n",
              "    </tr>\n",
              "</table>"
            ],
            "text/plain": [
              "[('E1001    ', 'Thomas', '2        ', 'Architect Group'),\n",
              " ('E1006    ', 'Allen', '2        ', 'Architect Group'),\n",
              " ('E1002    ', 'James', '5        ', 'Software Group'),\n",
              " ('E1007    ', 'Thomas', '7        ', 'Design Team')]"
            ]
          },
          "execution_count": 43,
          "metadata": {},
          "output_type": "execute_result"
        }
      ],
      "source": [
        "%%sql\n",
        "select E.EMP_ID,E.L_NAME,E.DEP_ID,D.DEP_NAME\n",
        "from EMPLOYEES AS E \n",
        "LEFT OUTER JOIN DEPARTMENTS AS D ON E.DEP_ID=D.DEPT_ID_DEP\n",
        "where YEAR(E.B_DATE) < 1980;"
      ]
    },
    {
      "cell_type": "markdown",
      "metadata": {
        "id": "6CdBmBE-e2ls"
      },
      "source": [
        "**Problem:5**\n",
        "\n",
        "Re-write the previous query but have the result set include all the employees but department names for only the employees who were born before 1980."
      ]
    },
    {
      "cell_type": "code",
      "execution_count": null,
      "metadata": {
        "id": "N1QyAA3Ie2ls",
        "outputId": "6b7257fe-afbb-4d99-cf43-bfababef7acd"
      },
      "outputs": [
        {
          "name": "stdout",
          "output_type": "stream",
          "text": [
            " * ibm_db_sa://zfr48905:***@dashdb-txn-sbox-yp-lon02-02.services.eu-gb.bluemix.net:50000/BLUDB\n",
            "Done.\n"
          ]
        },
        {
          "data": {
            "text/html": [
              "<table>\n",
              "    <tr>\n",
              "        <th>emp_id</th>\n",
              "        <th>l_name</th>\n",
              "        <th>dep_id</th>\n",
              "        <th>dep_name</th>\n",
              "    </tr>\n",
              "    <tr>\n",
              "        <td>E1001    </td>\n",
              "        <td>Thomas</td>\n",
              "        <td>2        </td>\n",
              "        <td>Architect Group</td>\n",
              "    </tr>\n",
              "    <tr>\n",
              "        <td>E1002    </td>\n",
              "        <td>James</td>\n",
              "        <td>5        </td>\n",
              "        <td>Software Group</td>\n",
              "    </tr>\n",
              "    <tr>\n",
              "        <td>E1003    </td>\n",
              "        <td>Wells</td>\n",
              "        <td>5        </td>\n",
              "        <td>None</td>\n",
              "    </tr>\n",
              "    <tr>\n",
              "        <td>E1004    </td>\n",
              "        <td>Kumar</td>\n",
              "        <td>5        </td>\n",
              "        <td>None</td>\n",
              "    </tr>\n",
              "    <tr>\n",
              "        <td>E1005    </td>\n",
              "        <td>Hussain</td>\n",
              "        <td>2        </td>\n",
              "        <td>None</td>\n",
              "    </tr>\n",
              "    <tr>\n",
              "        <td>E1006    </td>\n",
              "        <td>Allen</td>\n",
              "        <td>2        </td>\n",
              "        <td>Architect Group</td>\n",
              "    </tr>\n",
              "    <tr>\n",
              "        <td>E1007    </td>\n",
              "        <td>Thomas</td>\n",
              "        <td>7        </td>\n",
              "        <td>Design Team</td>\n",
              "    </tr>\n",
              "    <tr>\n",
              "        <td>E1008    </td>\n",
              "        <td>Gupta</td>\n",
              "        <td>7        </td>\n",
              "        <td>None</td>\n",
              "    </tr>\n",
              "    <tr>\n",
              "        <td>E1009    </td>\n",
              "        <td>Jones</td>\n",
              "        <td>7        </td>\n",
              "        <td>None</td>\n",
              "    </tr>\n",
              "    <tr>\n",
              "        <td>E1010    </td>\n",
              "        <td>Jacob</td>\n",
              "        <td>5        </td>\n",
              "        <td>None</td>\n",
              "    </tr>\n",
              "</table>"
            ],
            "text/plain": [
              "[('E1001    ', 'Thomas', '2        ', 'Architect Group'),\n",
              " ('E1002    ', 'James', '5        ', 'Software Group'),\n",
              " ('E1003    ', 'Wells', '5        ', None),\n",
              " ('E1004    ', 'Kumar', '5        ', None),\n",
              " ('E1005    ', 'Hussain', '2        ', None),\n",
              " ('E1006    ', 'Allen', '2        ', 'Architect Group'),\n",
              " ('E1007    ', 'Thomas', '7        ', 'Design Team'),\n",
              " ('E1008    ', 'Gupta', '7        ', None),\n",
              " ('E1009    ', 'Jones', '7        ', None),\n",
              " ('E1010    ', 'Jacob', '5        ', None)]"
            ]
          },
          "execution_count": 57,
          "metadata": {},
          "output_type": "execute_result"
        }
      ],
      "source": [
        "%%sql\n",
        "select E.EMP_ID,E.L_NAME,E.DEP_ID,D.DEP_NAME\n",
        "from EMPLOYEES AS E \n",
        "LEFT OUTER JOIN DEPARTMENTS AS D ON E.DEP_ID=D.DEPT_ID_DEP \n",
        "AND YEAR(E.B_DATE) < 1980;"
      ]
    },
    {
      "cell_type": "markdown",
      "metadata": {
        "id": "_jXVcUwVe2ls"
      },
      "source": [
        "**Problem:6**\n",
        "\n",
        "Perform a Full Join on the EMPLOYEES and DEPARTMENT tables and select the First name, Last name and Department name of all employees."
      ]
    },
    {
      "cell_type": "code",
      "execution_count": null,
      "metadata": {
        "id": "vLGUAAene2ls",
        "outputId": "7a882fc8-6836-4709-f8a1-e07e3ce90096"
      },
      "outputs": [
        {
          "name": "stdout",
          "output_type": "stream",
          "text": [
            " * ibm_db_sa://zfr48905:***@dashdb-txn-sbox-yp-lon02-02.services.eu-gb.bluemix.net:50000/BLUDB\n",
            "Done.\n"
          ]
        },
        {
          "data": {
            "text/html": [
              "<table>\n",
              "    <tr>\n",
              "        <th>f_name</th>\n",
              "        <th>l_name</th>\n",
              "        <th>dep_name</th>\n",
              "    </tr>\n",
              "    <tr>\n",
              "        <td>John</td>\n",
              "        <td>Thomas</td>\n",
              "        <td>Architect Group</td>\n",
              "    </tr>\n",
              "    <tr>\n",
              "        <td>Alice</td>\n",
              "        <td>James</td>\n",
              "        <td>Software Group</td>\n",
              "    </tr>\n",
              "    <tr>\n",
              "        <td>Steve</td>\n",
              "        <td>Wells</td>\n",
              "        <td>Software Group</td>\n",
              "    </tr>\n",
              "    <tr>\n",
              "        <td>Santosh</td>\n",
              "        <td>Kumar</td>\n",
              "        <td>Software Group</td>\n",
              "    </tr>\n",
              "    <tr>\n",
              "        <td>Ahmed</td>\n",
              "        <td>Hussain</td>\n",
              "        <td>Architect Group</td>\n",
              "    </tr>\n",
              "    <tr>\n",
              "        <td>Nancy</td>\n",
              "        <td>Allen</td>\n",
              "        <td>Architect Group</td>\n",
              "    </tr>\n",
              "    <tr>\n",
              "        <td>Mary</td>\n",
              "        <td>Thomas</td>\n",
              "        <td>Design Team</td>\n",
              "    </tr>\n",
              "    <tr>\n",
              "        <td>Bharath</td>\n",
              "        <td>Gupta</td>\n",
              "        <td>Design Team</td>\n",
              "    </tr>\n",
              "    <tr>\n",
              "        <td>Andrea</td>\n",
              "        <td>Jones</td>\n",
              "        <td>Design Team</td>\n",
              "    </tr>\n",
              "    <tr>\n",
              "        <td>Ann</td>\n",
              "        <td>Jacob</td>\n",
              "        <td>Software Group</td>\n",
              "    </tr>\n",
              "</table>"
            ],
            "text/plain": [
              "[('John', 'Thomas', 'Architect Group'),\n",
              " ('Alice', 'James', 'Software Group'),\n",
              " ('Steve', 'Wells', 'Software Group'),\n",
              " ('Santosh', 'Kumar', 'Software Group'),\n",
              " ('Ahmed', 'Hussain', 'Architect Group'),\n",
              " ('Nancy', 'Allen', 'Architect Group'),\n",
              " ('Mary', 'Thomas', 'Design Team'),\n",
              " ('Bharath', 'Gupta', 'Design Team'),\n",
              " ('Andrea', 'Jones', 'Design Team'),\n",
              " ('Ann', 'Jacob', 'Software Group')]"
            ]
          },
          "execution_count": 60,
          "metadata": {},
          "output_type": "execute_result"
        }
      ],
      "source": [
        "%%sql\n",
        "SELECT E.F_NAME, E.L_NAME, D.dep_name\n",
        "FROM EMPLOYEES AS E\n",
        "FULL JOIN DEPARTMENTS AS D\n",
        "ON E.dep_id = D.dept_id_dep;"
      ]
    },
    {
      "cell_type": "markdown",
      "metadata": {
        "id": "M8usPW77e2lt"
      },
      "source": [
        "**Problem:7**\n",
        "\n",
        "Re-write the previous query but have the result set include all employee names but department id and department names only for male employees."
      ]
    },
    {
      "cell_type": "code",
      "execution_count": null,
      "metadata": {
        "id": "aHYcWksSe2lt",
        "outputId": "57250cd5-167e-4b2c-e2a9-4b86243c8d6b"
      },
      "outputs": [
        {
          "name": "stdout",
          "output_type": "stream",
          "text": [
            " * ibm_db_sa://zfr48905:***@dashdb-txn-sbox-yp-lon02-02.services.eu-gb.bluemix.net:50000/BLUDB\n",
            "Done.\n"
          ]
        },
        {
          "data": {
            "text/html": [
              "<table>\n",
              "    <tr>\n",
              "        <th>f_name</th>\n",
              "        <th>l_name</th>\n",
              "        <th>dept_id_dep</th>\n",
              "        <th>dep_name</th>\n",
              "    </tr>\n",
              "    <tr>\n",
              "        <td>John</td>\n",
              "        <td>Thomas</td>\n",
              "        <td>2        </td>\n",
              "        <td>Architect Group</td>\n",
              "    </tr>\n",
              "    <tr>\n",
              "        <td>Steve</td>\n",
              "        <td>Wells</td>\n",
              "        <td>5        </td>\n",
              "        <td>Software Group</td>\n",
              "    </tr>\n",
              "    <tr>\n",
              "        <td>Santosh</td>\n",
              "        <td>Kumar</td>\n",
              "        <td>5        </td>\n",
              "        <td>Software Group</td>\n",
              "    </tr>\n",
              "    <tr>\n",
              "        <td>Ahmed</td>\n",
              "        <td>Hussain</td>\n",
              "        <td>2        </td>\n",
              "        <td>Architect Group</td>\n",
              "    </tr>\n",
              "    <tr>\n",
              "        <td>Bharath</td>\n",
              "        <td>Gupta</td>\n",
              "        <td>7        </td>\n",
              "        <td>Design Team</td>\n",
              "    </tr>\n",
              "    <tr>\n",
              "        <td>Alice</td>\n",
              "        <td>James</td>\n",
              "        <td>None</td>\n",
              "        <td>None</td>\n",
              "    </tr>\n",
              "    <tr>\n",
              "        <td>Nancy</td>\n",
              "        <td>Allen</td>\n",
              "        <td>None</td>\n",
              "        <td>None</td>\n",
              "    </tr>\n",
              "    <tr>\n",
              "        <td>Mary</td>\n",
              "        <td>Thomas</td>\n",
              "        <td>None</td>\n",
              "        <td>None</td>\n",
              "    </tr>\n",
              "    <tr>\n",
              "        <td>Andrea</td>\n",
              "        <td>Jones</td>\n",
              "        <td>None</td>\n",
              "        <td>None</td>\n",
              "    </tr>\n",
              "    <tr>\n",
              "        <td>Ann</td>\n",
              "        <td>Jacob</td>\n",
              "        <td>None</td>\n",
              "        <td>None</td>\n",
              "    </tr>\n",
              "</table>"
            ],
            "text/plain": [
              "[('John', 'Thomas', '2        ', 'Architect Group'),\n",
              " ('Steve', 'Wells', '5        ', 'Software Group'),\n",
              " ('Santosh', 'Kumar', '5        ', 'Software Group'),\n",
              " ('Ahmed', 'Hussain', '2        ', 'Architect Group'),\n",
              " ('Bharath', 'Gupta', '7        ', 'Design Team'),\n",
              " ('Alice', 'James', None, None),\n",
              " ('Nancy', 'Allen', None, None),\n",
              " ('Mary', 'Thomas', None, None),\n",
              " ('Andrea', 'Jones', None, None),\n",
              " ('Ann', 'Jacob', None, None)]"
            ]
          },
          "execution_count": 63,
          "metadata": {},
          "output_type": "execute_result"
        }
      ],
      "source": [
        "%%sql\n",
        "select E.F_NAME,E.L_NAME,D.DEPT_ID_DEP, D.DEP_NAME\n",
        "from EMPLOYEES AS E \n",
        "FULL OUTER JOIN DEPARTMENTS AS D \n",
        "ON E.DEP_ID=D.DEPT_ID_DEP AND E.SEX = 'M';"
      ]
    },
    {
      "cell_type": "markdown",
      "metadata": {
        "id": "n-Q6-tR2e2lt"
      },
      "source": [
        "---"
      ]
    },
    {
      "cell_type": "markdown",
      "metadata": {
        "id": "dn0xt_Eme2lt"
      },
      "source": [
        "# Let's checkout how to use SQL and Db2 with magic methods."
      ]
    },
    {
      "cell_type": "markdown",
      "metadata": {
        "id": "-zKit4Qbe2lu"
      },
      "source": [
        "# `TABLE OF CONTENT`\n",
        "\n",
        "---\n",
        "\n",
        "### `Using ibm_db python library to connect to Db2 on Cloud, create table, insert and display`\n",
        "1. **import the ibm_db library**\n",
        "2. **Establish the connection to the database**\n",
        "3. **Retrieve Metadata for the Database Server and the the Database Client / Driver**\n",
        "4. **Create a table in the database**\n",
        ">1. **Drop table if already exist**\n",
        ">2. **Create table skeleton**\n",
        ">3. **Insert data**\n",
        ">4. **Retrieve data**\n",
        ">5. **Update data**\n",
        "5. **Retrieve data into Pandas**\n",
        "6. **Close Connection**"
      ]
    },
    {
      "cell_type": "markdown",
      "metadata": {
        "id": "5g2gPbQDe2lu"
      },
      "source": [
        "---"
      ]
    },
    {
      "cell_type": "markdown",
      "metadata": {
        "id": "Bt63e4jJe2lu"
      },
      "source": [
        "## Using ibm_db python library to connect to Db2 on Cloud, create table, insert and display\n",
        "---\n",
        "\n",
        "**1.1 We first import the ibm_db library for IBM DB2 database, into our Python Application. SImilarly, other databases has their own libraries.**\n",
        "\n",
        "**The `ibm_db` [API ](https://pypi.python.org/pypi/ibm_db/?utm_medium=Exinfluencer&utm_source=Exinfluencer&utm_content=000026UJ&utm_term=10006555&utm_id=NA-SkillsNetwork-Channel-SkillsNetworkCoursesIBMDeveloperSkillsNetworkDB0201ENSkillsNetwork20127838-2021-01-01) provides a variety of useful Python functions for accessing and manipulating data in an IBM® data server database, including functions for connecting to a database, preparing and issuing SQL statements, fetching rows from result sets, calling stored procedures, committing and rolling back transactions, handling errors, and retrieving metadata.**\n",
        "\n"
      ]
    },
    {
      "cell_type": "code",
      "execution_count": null,
      "metadata": {
        "id": "nm5BUrzye2lu"
      },
      "outputs": [],
      "source": [
        "import ibm_db"
      ]
    },
    {
      "cell_type": "markdown",
      "metadata": {
        "id": "9P1nKFQQe2lu"
      },
      "source": [
        "**1.2 Establish the connection to the database and name connection object as`conn`**"
      ]
    },
    {
      "cell_type": "code",
      "execution_count": null,
      "metadata": {
        "id": "5UOOGHMge2lw",
        "outputId": "e34876a9-c85d-45cd-a8bf-9e05fb61229c"
      },
      "outputs": [
        {
          "name": "stdout",
          "output_type": "stream",
          "text": [
            "Connected to database:  BLUDB as user:  zfr48905 on host:  dashdb-txn-sbox-yp-lon02-02.services.eu-gb.bluemix.net\n"
          ]
        }
      ],
      "source": [
        "#enter your database credentials\n",
        "dsn_hostname = \"dashdb-txn-sbox-yp-lon02-02.services.eu-gb.bluemix.net\" \n",
        "dsn_uid = \"zfr48905\"        \n",
        "dsn_pwd = \"pnc862bt^7vhf2zg\"     \n",
        "\n",
        "# Lets build the dsn connection string using the credentials you entered above. DSN, known as a database source name.\n",
        "dsn_driver = \"{IBM DB2 ODBC DRIVER}\"\n",
        "dsn_database = \"BLUDB\"            \n",
        "dsn_port = \"50000\"               \n",
        "dsn_protocol = \"TCPIP\" \n",
        "\n",
        "dsn = (\n",
        "    \"DRIVER={0};\"\n",
        "    \"DATABASE={1};\"\n",
        "    \"HOSTNAME={2};\"\n",
        "    \"PORT={3};\"\n",
        "    \"PROTOCOL={4};\"\n",
        "    \"UID={5};\"\n",
        "    \"PWD={6};\").format(dsn_driver, dsn_database, dsn_hostname, dsn_port, dsn_protocol, dsn_uid, dsn_pwd)\n",
        "\n",
        "\n",
        "\n",
        "try:\n",
        "    conn = ibm_db.connect(dsn, \"\", \"\")\n",
        "    print (\"Connected to database: \", dsn_database, \"as user: \", dsn_uid, \"on host: \", dsn_hostname)\n",
        "\n",
        "except:\n",
        "    print (\"Unable to connect: \", ibm_db.conn_errormsg() )\n"
      ]
    },
    {
      "cell_type": "markdown",
      "metadata": {
        "id": "IAx5tf7Ye2lw"
      },
      "source": [
        "**Congratulations if you were able to connect successfuly. Otherwise check the error and try again.**\n",
        "\n",
        "**1.3 Retrieve Metadata**"
      ]
    },
    {
      "cell_type": "code",
      "execution_count": null,
      "metadata": {
        "id": "pAc8RM_Ke2lx",
        "outputId": "f66d4274-3031-44d5-93ad-ba6fc2353b1b"
      },
      "outputs": [
        {
          "name": "stdout",
          "output_type": "stream",
          "text": [
            "Metadata for the Database Server:\n",
            "DBMS_NAME:  DB2/LINUXX8664\n",
            "DBMS_VER:   11.01.0404\n",
            "DB_NAME:    BLUDB\n",
            "\n",
            "\n",
            "Metadata for the Database Client / Driver:\n",
            "DRIVER_NAME:           libdb2.a\n",
            "DRIVER_VER:            11.05.0500\n",
            "DATA_SOURCE_NAME:      BLUDB\n",
            "DRIVER_ODBC_VER:       03.51\n",
            "ODBC_VER:              03.01.0000\n",
            "ODBC_SQL_CONFORMANCE:  EXTENDED\n",
            "APPL_CODEPAGE:         1208\n",
            "CONN_CODEPAGE:         1208\n"
          ]
        }
      ],
      "source": [
        "# for the Database Server \n",
        "server = ibm_db.server_info(conn)\n",
        "print('Metadata for the Database Server:')\n",
        "print (\"DBMS_NAME: \", server.DBMS_NAME)\n",
        "print (\"DBMS_VER:  \", server.DBMS_VER)\n",
        "print (\"DB_NAME:   \", server.DB_NAME)\n",
        "print('\\n')\n",
        "# for the Database Client / Driver\n",
        "client = ibm_db.client_info(conn)\n",
        "print('Metadata for the Database Client / Driver:')\n",
        "print (\"DRIVER_NAME:          \", client.DRIVER_NAME) \n",
        "print (\"DRIVER_VER:           \", client.DRIVER_VER)\n",
        "print (\"DATA_SOURCE_NAME:     \", client.DATA_SOURCE_NAME)\n",
        "print (\"DRIVER_ODBC_VER:      \", client.DRIVER_ODBC_VER)\n",
        "print (\"ODBC_VER:             \", client.ODBC_VER)\n",
        "print (\"ODBC_SQL_CONFORMANCE: \", client.ODBC_SQL_CONFORMANCE)\n",
        "print (\"APPL_CODEPAGE:        \", client.APPL_CODEPAGE)\n",
        "print (\"CONN_CODEPAGE:        \", client.CONN_CODEPAGE)"
      ]
    },
    {
      "cell_type": "markdown",
      "metadata": {
        "id": "QUOq333Ce2lx"
      },
      "source": [
        "**1.4 Create a table in the database**\n",
        "\n",
        "In this step we will create a table in the database with following details:\n",
        "\n",
        "<img src = \"https://ibm.box.com/shared/static/ztd2cn4xkdoj5erlk4hhng39kbp63s1h.jpg\" align=\"center\">"
      ]
    },
    {
      "cell_type": "markdown",
      "metadata": {
        "id": "-SM-rOK5e2ly"
      },
      "source": [
        "**1.4.A Lets first drop the table INSTRUCTOR in case it exists from a previous attempt**"
      ]
    },
    {
      "cell_type": "code",
      "execution_count": null,
      "metadata": {
        "id": "YNUzPv2Re2ly"
      },
      "outputs": [],
      "source": [
        "dropQuery = \"drop table INSTRUCTOR\"\n",
        "dropStmt = ibm_db.exec_immediate(conn, dropQuery)"
      ]
    },
    {
      "cell_type": "markdown",
      "metadata": {
        "id": "zZEO3loZe2ly"
      },
      "source": [
        "**1.4.B Construct the Create Table DDL statement**"
      ]
    },
    {
      "cell_type": "code",
      "execution_count": null,
      "metadata": {
        "id": "mGk8HHcne2ly"
      },
      "outputs": [],
      "source": [
        " createQuery = \"create table INSTRUCTOR(ID INTEGER PRIMARY KEY NOT NULL, FNAME VARCHAR(20), LNAME VARCHAR(20), CITY VARCHAR(20), CCODE CHAR(2))\"\n",
        "\n",
        "createStmt = ibm_db.exec_immediate(conn,createQuery)"
      ]
    },
    {
      "cell_type": "markdown",
      "metadata": {
        "id": "QVdRXIYSe2lz"
      },
      "source": [
        "**1.4.C `Insert data into the table`**\n",
        "\n",
        "**The INSTRUCTOR table we created in the previous step contains 3 rows of data:**\n",
        "\n",
        "<img src=\"https://ibm.box.com/shared/static/j5yjassxefrjknivfpekj7698dqe4d8i.jpg\" align=\"center\">"
      ]
    },
    {
      "cell_type": "code",
      "execution_count": null,
      "metadata": {
        "id": "k5P8Xer5e2lz"
      },
      "outputs": [],
      "source": [
        "insertQuery1 = '''insert into INSTRUCTOR values \n",
        "(1, 'Rav', 'Ahuja', 'TORONTO', 'CA'), \n",
        "(2, 'Raul', 'Chong', 'Markham', 'CA'), \n",
        "(3, 'Hima', 'Vasudevan', 'Chicago', 'US')'''\n",
        "\n",
        "insertStmt1 = ibm_db.exec_immediate(conn, insertQuery1)"
      ]
    },
    {
      "cell_type": "markdown",
      "metadata": {
        "id": "_RCwsxLIe2lz"
      },
      "source": [
        "**1.4.D  Query data in the table**"
      ]
    },
    {
      "cell_type": "code",
      "execution_count": null,
      "metadata": {
        "id": "gpSSLwske2l0",
        "outputId": "828b012d-a645-412d-b9b1-2424d3a67edd"
      },
      "outputs": [
        {
          "data": {
            "text/plain": [
              "{'ID': 1,\n",
              " 0: 1,\n",
              " 'FNAME': 'Rav',\n",
              " 1: 'Rav',\n",
              " 'LNAME': 'Ahuja',\n",
              " 2: 'Ahuja',\n",
              " 'CITY': 'TORONTO',\n",
              " 3: 'TORONTO',\n",
              " 'CCODE': 'CA',\n",
              " 4: 'CA'}"
            ]
          },
          "execution_count": 46,
          "metadata": {},
          "output_type": "execute_result"
        }
      ],
      "source": [
        "#Construct the query that retrieves all rows from the INSTRUCTOR table\n",
        "selectQuery = \"select * from INSTRUCTOR\"\n",
        "\n",
        "#Execute the statement\n",
        "selectStmt = ibm_db.exec_immediate(conn, selectQuery)\n",
        "\n",
        "#Fetch the Dictionary (for the first row only)\n",
        "ibm_db.fetch_both(selectStmt)"
      ]
    },
    {
      "cell_type": "code",
      "execution_count": null,
      "metadata": {
        "id": "s-823zz8e2l0",
        "outputId": "05eb0be2-9135-4de5-d010-355e19bdecf9"
      },
      "outputs": [
        {
          "name": "stdout",
          "output_type": "stream",
          "text": [
            " ID: 2  FNAME: Raul\n",
            " ID: 3  FNAME: Hima\n"
          ]
        }
      ],
      "source": [
        "#Fetch the rest of the rows and print the ID and FNAME for those rows\n",
        "while ibm_db.fetch_row(selectStmt) != False: # will fetch rows as a dictionary one by one\n",
        "    print (\" ID:\",  ibm_db.result(selectStmt, \"ID\"), \" FNAME:\",  ibm_db.result(selectStmt, \"FNAME\"))"
      ]
    },
    {
      "cell_type": "markdown",
      "metadata": {
        "id": "vgs8i1vTe2l0"
      },
      "source": [
        "**1.4.E update the Rav's CITY to `Moosetown`**"
      ]
    },
    {
      "cell_type": "code",
      "execution_count": null,
      "metadata": {
        "id": "RhBXTvM3e2l1"
      },
      "outputs": [],
      "source": [
        "updateQuery = \"update INSTRUCTOR set CITY='Moosetown' where FNAME='Rav'\"\n",
        "updateStmt = ibm_db.exec_immediate(conn, updateQuery)"
      ]
    },
    {
      "cell_type": "markdown",
      "metadata": {
        "id": "Ha-YO8VDe2l1"
      },
      "source": [
        "### 1.5 Retrieve data into Pandas"
      ]
    },
    {
      "cell_type": "code",
      "execution_count": null,
      "metadata": {
        "id": "mAqG63JVe2l1",
        "outputId": "66ccd71e-ff63-46f7-9f59-7cb6a13afd9f"
      },
      "outputs": [
        {
          "data": {
            "text/html": [
              "<div>\n",
              "<style scoped>\n",
              "    .dataframe tbody tr th:only-of-type {\n",
              "        vertical-align: middle;\n",
              "    }\n",
              "\n",
              "    .dataframe tbody tr th {\n",
              "        vertical-align: top;\n",
              "    }\n",
              "\n",
              "    .dataframe thead th {\n",
              "        text-align: right;\n",
              "    }\n",
              "</style>\n",
              "<table border=\"1\" class=\"dataframe\">\n",
              "  <thead>\n",
              "    <tr style=\"text-align: right;\">\n",
              "      <th></th>\n",
              "      <th>ID</th>\n",
              "      <th>FNAME</th>\n",
              "      <th>LNAME</th>\n",
              "      <th>CITY</th>\n",
              "      <th>CCODE</th>\n",
              "    </tr>\n",
              "  </thead>\n",
              "  <tbody>\n",
              "    <tr>\n",
              "      <th>0</th>\n",
              "      <td>1</td>\n",
              "      <td>Rav</td>\n",
              "      <td>Ahuja</td>\n",
              "      <td>Moosetown</td>\n",
              "      <td>CA</td>\n",
              "    </tr>\n",
              "    <tr>\n",
              "      <th>1</th>\n",
              "      <td>2</td>\n",
              "      <td>Raul</td>\n",
              "      <td>Chong</td>\n",
              "      <td>Markham</td>\n",
              "      <td>CA</td>\n",
              "    </tr>\n",
              "    <tr>\n",
              "      <th>2</th>\n",
              "      <td>3</td>\n",
              "      <td>Hima</td>\n",
              "      <td>Vasudevan</td>\n",
              "      <td>Chicago</td>\n",
              "      <td>US</td>\n",
              "    </tr>\n",
              "  </tbody>\n",
              "</table>\n",
              "</div>"
            ],
            "text/plain": [
              "   ID FNAME      LNAME       CITY CCODE\n",
              "0   1   Rav      Ahuja  Moosetown    CA\n",
              "1   2  Raul      Chong    Markham    CA\n",
              "2   3  Hima  Vasudevan    Chicago    US"
            ]
          },
          "execution_count": 49,
          "metadata": {},
          "output_type": "execute_result"
        }
      ],
      "source": [
        "import pandas\n",
        "import ibm_db_dbi\n",
        "\n",
        "#connection for pandas\n",
        "pconn = ibm_db_dbi.Connection(conn)\n",
        "\n",
        "#query statement to retrieve all rows in INSTRUCTOR table\n",
        "selectQuery = \"select * from INSTRUCTOR\"\n",
        "\n",
        "#retrieve the query results into a pandas dataframe\n",
        "pdf = pandas.read_sql(selectQuery, pconn)\n",
        "\n",
        "#print the entire data frame\n",
        "pdf"
      ]
    },
    {
      "cell_type": "markdown",
      "metadata": {
        "id": "sfe0nq3Me2l2"
      },
      "source": [
        "**1.6 `Close the Connection` We free all resources by closing the connection. Remember that it is always important to close connections so that we can avoid unused connections taking up resources.**"
      ]
    },
    {
      "cell_type": "code",
      "execution_count": null,
      "metadata": {
        "id": "ijL3urM-e2l2",
        "outputId": "2579f487-fdd3-4a38-a028-f2a8e02f7a97"
      },
      "outputs": [
        {
          "data": {
            "text/plain": [
              "True"
            ]
          },
          "execution_count": 35,
          "metadata": {},
          "output_type": "execute_result"
        }
      ],
      "source": [
        "ibm_db.close(conn)"
      ]
    },
    {
      "cell_type": "markdown",
      "metadata": {
        "id": "a0t_giUwe2l2"
      },
      "source": [
        "#### It is laborious task to work with the ibm_db library, \n",
        "#### as an alternative to reduce the tediousness we used `SQL magic commands and inbuilt python extension for databases` \n",
        "\n",
        "---"
      ]
    },
    {
      "cell_type": "code",
      "execution_count": null,
      "metadata": {
        "id": "AShImvGRe2l3"
      },
      "outputs": [],
      "source": [
        "!pip install jovian --upgrade --quiet"
      ]
    },
    {
      "cell_type": "code",
      "execution_count": null,
      "metadata": {
        "id": "3JJczGyge2l3"
      },
      "outputs": [],
      "source": [
        "import jovian"
      ]
    },
    {
      "cell_type": "code",
      "execution_count": null,
      "metadata": {
        "id": "7Uv2zBZWe2l4",
        "outputId": "abe180c5-47bc-405a-b320-7f008c50e15f"
      },
      "outputs": [
        {
          "data": {
            "application/javascript": [
              "window.require && require([\"base/js/namespace\"],function(Jupyter){Jupyter.notebook.save_checkpoint()})"
            ],
            "text/plain": [
              "<IPython.core.display.Javascript object>"
            ]
          },
          "metadata": {},
          "output_type": "display_data"
        },
        {
          "name": "stdout",
          "output_type": "stream",
          "text": [
            "[jovian] Attempting to save notebook..\u001b[0m\n"
          ]
        }
      ],
      "source": [
        "# Execute this to save new versions of the notebook\n",
        "jovian.commit(project=\"working-with-real-world-datasets-using-sql-python-and-ibm-bd2-on-cloud\")"
      ]
    },
    {
      "cell_type": "code",
      "execution_count": null,
      "metadata": {
        "id": "G168kdObe2l4"
      },
      "outputs": [],
      "source": [
        ""
      ]
    }
  ],
  "metadata": {
    "kernelspec": {
      "display_name": "Python 3",
      "language": "python",
      "name": "python3"
    },
    "language_info": {
      "codemirror_mode": {
        "name": "ipython",
        "version": 3
      },
      "file_extension": ".py",
      "mimetype": "text/x-python",
      "name": "python",
      "nbconvert_exporter": "python",
      "pygments_lexer": "ipython3",
      "version": "3.8.6"
    },
    "colab": {
      "name": "working-with-real-world-datasets.ipynb",
      "provenance": [],
      "collapsed_sections": [
        "aXQffbDoe2lU",
        "Gu7rjJxme2lV",
        "9sR0FEUTe2lV",
        "HNicteUUe2lW",
        "eWDAm9lje2lW",
        "2r0LxjDle2lX",
        "wmkRpQ6re2lY",
        "RKCOSrGXe2lY",
        "REERj5Zie2lZ",
        "fJEmWRD7e2lZ",
        "KPkktwx8e2la",
        "vgWy8wIge2la",
        "jeMY9r4Ve2la",
        "wFTOfLDJe2lb",
        "nHOm7-Rve2lb",
        "2XKMkEeSe2lc",
        "viJQIuI0e2lc",
        "xq_y_BCoe2ld",
        "xFj11Ui5e2le",
        "BJfNGmx0e2lf",
        "DE3WxP7We2lf",
        "DuXLDV52e2lg",
        "gSGcYbYxe2lg",
        "7B4Vm_Lhe2lh",
        "RxowQGv7e2lh",
        "0DH3CJyee2lh",
        "MlbUUvqEe2li",
        "KF2m1Vn5e2li",
        "xIYfwgQhe2lj",
        "TE61oBQEe2lj",
        "bxjjp6qAe2lj",
        "PS7CT4xYe2lk",
        "s38_dVAUe2lk",
        "VYOysq7Ue2lk",
        "zC3klF8Pe2lk",
        "f__hPJL9e2lk",
        "GQKou7moe2ll",
        "nme3rGmbe2ln",
        "nssrFbMqe2lp",
        "dn0xt_Eme2lt",
        "Bt63e4jJe2lu",
        "Ha-YO8VDe2l1",
        "a0t_giUwe2l2"
      ],
      "include_colab_link": true
    }
  },
  "nbformat": 4,
  "nbformat_minor": 0
}